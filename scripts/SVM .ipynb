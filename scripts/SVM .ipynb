{
 "cells": [
  {
   "cell_type": "code",
   "execution_count": 1,
   "metadata": {},
   "outputs": [],
   "source": [
    "import numpy as np                     # Llibreria matematica\n",
    "import matplotlib.pyplot as plt        # Per mostrar plots\n",
    "import sklearn                         # Llibreia de DM\n",
    "import sklearn.datasets as ds            # Per carregar mes facilment el dataset digits\n",
    "import sklearn.model_selection as cv    # Pel Cross-validation\n",
    "import sklearn.neighbors as nb           # Per fer servir el knn\n",
    "from sklearn.model_selection import cross_val_score  \n",
    "import sklearn.preprocessing as Pre\n",
    "import warnings\n",
    "warnings.filterwarnings('ignore')       #Per fer que els warnings no apareguin\n",
    "%matplotlib inline              "
   ]
  },
  {
   "cell_type": "code",
   "execution_count": 2,
   "metadata": {},
   "outputs": [],
   "source": [
    "import numpy as np    # Numeric and matrix computation\n",
    "import pandas as pd   # Optional: good package for manipulating data \n",
    "import sklearn as sk  # Package with learning algorithms implemented\n",
    "\n",
    "# Loading the dataset.\n",
    "df = pd.read_csv('train.csv', sep=',', na_values=\"NA\")"
   ]
  },
  {
   "cell_type": "code",
   "execution_count": 3,
   "metadata": {},
   "outputs": [
    {
     "data": {
      "text/html": [
       "<div>\n",
       "<style scoped>\n",
       "    .dataframe tbody tr th:only-of-type {\n",
       "        vertical-align: middle;\n",
       "    }\n",
       "\n",
       "    .dataframe tbody tr th {\n",
       "        vertical-align: top;\n",
       "    }\n",
       "\n",
       "    .dataframe thead th {\n",
       "        text-align: right;\n",
       "    }\n",
       "</style>\n",
       "<table border=\"1\" class=\"dataframe\">\n",
       "  <thead>\n",
       "    <tr style=\"text-align: right;\">\n",
       "      <th></th>\n",
       "      <th>MSSubClass</th>\n",
       "      <th>MSZoning</th>\n",
       "      <th>LotArea</th>\n",
       "      <th>LotShape</th>\n",
       "      <th>LandContour</th>\n",
       "      <th>LotConfig</th>\n",
       "      <th>Neighborhood</th>\n",
       "      <th>Condition1</th>\n",
       "      <th>BldgType</th>\n",
       "      <th>HouseStyle</th>\n",
       "      <th>...</th>\n",
       "      <th>MiscVal</th>\n",
       "      <th>SaleType</th>\n",
       "      <th>SaleCondition</th>\n",
       "      <th>SalePrice</th>\n",
       "      <th>MasVnr</th>\n",
       "      <th>SecondFloor</th>\n",
       "      <th>Baths</th>\n",
       "      <th>Porch</th>\n",
       "      <th>Pool</th>\n",
       "      <th>Id</th>\n",
       "    </tr>\n",
       "  </thead>\n",
       "  <tbody>\n",
       "    <tr>\n",
       "      <th>0</th>\n",
       "      <td>G</td>\n",
       "      <td>RH</td>\n",
       "      <td>0.185945</td>\n",
       "      <td>1.0</td>\n",
       "      <td>Lvl</td>\n",
       "      <td>Inside</td>\n",
       "      <td>Edwards</td>\n",
       "      <td>Artery</td>\n",
       "      <td>1Fam</td>\n",
       "      <td>2Story</td>\n",
       "      <td>...</td>\n",
       "      <td>0.0</td>\n",
       "      <td>WD</td>\n",
       "      <td>Normal</td>\n",
       "      <td>Level2</td>\n",
       "      <td>0.0</td>\n",
       "      <td>1.0</td>\n",
       "      <td>0.4</td>\n",
       "      <td>True</td>\n",
       "      <td>0.0</td>\n",
       "      <td>0</td>\n",
       "    </tr>\n",
       "    <tr>\n",
       "      <th>1</th>\n",
       "      <td>A</td>\n",
       "      <td>RL</td>\n",
       "      <td>0.198890</td>\n",
       "      <td>1.0</td>\n",
       "      <td>Lvl</td>\n",
       "      <td>Inside</td>\n",
       "      <td>NAmes</td>\n",
       "      <td>Norm</td>\n",
       "      <td>1Fam</td>\n",
       "      <td>1Story</td>\n",
       "      <td>...</td>\n",
       "      <td>0.0</td>\n",
       "      <td>WD</td>\n",
       "      <td>Family</td>\n",
       "      <td>Level2</td>\n",
       "      <td>1.0</td>\n",
       "      <td>0.0</td>\n",
       "      <td>0.0</td>\n",
       "      <td>True</td>\n",
       "      <td>0.0</td>\n",
       "      <td>1</td>\n",
       "    </tr>\n",
       "    <tr>\n",
       "      <th>2</th>\n",
       "      <td>L</td>\n",
       "      <td>RL</td>\n",
       "      <td>0.260616</td>\n",
       "      <td>1.0</td>\n",
       "      <td>Lvl</td>\n",
       "      <td>Corner</td>\n",
       "      <td>NridgHt</td>\n",
       "      <td>Norm</td>\n",
       "      <td>Twnhs</td>\n",
       "      <td>1Story</td>\n",
       "      <td>...</td>\n",
       "      <td>0.0</td>\n",
       "      <td>New</td>\n",
       "      <td>Partial</td>\n",
       "      <td>Level4</td>\n",
       "      <td>1.0</td>\n",
       "      <td>0.0</td>\n",
       "      <td>0.4</td>\n",
       "      <td>True</td>\n",
       "      <td>0.0</td>\n",
       "      <td>2</td>\n",
       "    </tr>\n",
       "    <tr>\n",
       "      <th>3</th>\n",
       "      <td>A</td>\n",
       "      <td>RL</td>\n",
       "      <td>0.251230</td>\n",
       "      <td>1.0</td>\n",
       "      <td>Lvl</td>\n",
       "      <td>Inside</td>\n",
       "      <td>NAmes</td>\n",
       "      <td>Norm</td>\n",
       "      <td>1Fam</td>\n",
       "      <td>1Story</td>\n",
       "      <td>...</td>\n",
       "      <td>0.0</td>\n",
       "      <td>WD</td>\n",
       "      <td>Abnorml</td>\n",
       "      <td>Level1</td>\n",
       "      <td>1.0</td>\n",
       "      <td>0.0</td>\n",
       "      <td>0.0</td>\n",
       "      <td>False</td>\n",
       "      <td>0.0</td>\n",
       "      <td>3</td>\n",
       "    </tr>\n",
       "    <tr>\n",
       "      <th>4</th>\n",
       "      <td>E</td>\n",
       "      <td>RL</td>\n",
       "      <td>0.174186</td>\n",
       "      <td>1.0</td>\n",
       "      <td>Lvl</td>\n",
       "      <td>Inside</td>\n",
       "      <td>SWISU</td>\n",
       "      <td>Norm</td>\n",
       "      <td>1Fam</td>\n",
       "      <td>1.5Fin</td>\n",
       "      <td>...</td>\n",
       "      <td>0.0</td>\n",
       "      <td>WD</td>\n",
       "      <td>Normal</td>\n",
       "      <td>Level2</td>\n",
       "      <td>0.0</td>\n",
       "      <td>1.0</td>\n",
       "      <td>0.4</td>\n",
       "      <td>True</td>\n",
       "      <td>0.0</td>\n",
       "      <td>4</td>\n",
       "    </tr>\n",
       "  </tbody>\n",
       "</table>\n",
       "<p>5 rows × 48 columns</p>\n",
       "</div>"
      ],
      "text/plain": [
       "  MSSubClass MSZoning   LotArea  LotShape LandContour LotConfig Neighborhood  \\\n",
       "0          G       RH  0.185945       1.0         Lvl    Inside      Edwards   \n",
       "1          A       RL  0.198890       1.0         Lvl    Inside        NAmes   \n",
       "2          L       RL  0.260616       1.0         Lvl    Corner      NridgHt   \n",
       "3          A       RL  0.251230       1.0         Lvl    Inside        NAmes   \n",
       "4          E       RL  0.174186       1.0         Lvl    Inside        SWISU   \n",
       "\n",
       "  Condition1 BldgType HouseStyle  ...  MiscVal  SaleType SaleCondition  \\\n",
       "0     Artery     1Fam     2Story  ...      0.0        WD        Normal   \n",
       "1       Norm     1Fam     1Story  ...      0.0        WD        Family   \n",
       "2       Norm    Twnhs     1Story  ...      0.0       New       Partial   \n",
       "3       Norm     1Fam     1Story  ...      0.0        WD       Abnorml   \n",
       "4       Norm     1Fam     1.5Fin  ...      0.0        WD        Normal   \n",
       "\n",
       "  SalePrice MasVnr  SecondFloor Baths  Porch Pool Id  \n",
       "0    Level2    0.0          1.0   0.4   True  0.0  0  \n",
       "1    Level2    1.0          0.0   0.0   True  0.0  1  \n",
       "2    Level4    1.0          0.0   0.4   True  0.0  2  \n",
       "3    Level1    1.0          0.0   0.0  False  0.0  3  \n",
       "4    Level2    0.0          1.0   0.4   True  0.0  4  \n",
       "\n",
       "[5 rows x 48 columns]"
      ]
     },
     "execution_count": 3,
     "metadata": {},
     "output_type": "execute_result"
    }
   ],
   "source": [
    "df.head()"
   ]
  },
  {
   "cell_type": "code",
   "execution_count": 4,
   "metadata": {},
   "outputs": [],
   "source": [
    "X = df.drop(columns='SalePrice')\n",
    "X = X.drop(columns = 'Id')\n",
    "Y = df.loc[:,'SalePrice']\n",
    "\n",
    "le = Pre.LabelEncoder()\n",
    "le.fit(Y)\n",
    "Y = le.fit_transform(Y)\n",
    "i = 0\n",
    "for t in X.dtypes:\n",
    "    if t == object or t == bool:\n",
    "        le.fit(X.iloc[:,i])\n",
    "        X.iloc[:,i] = le.fit_transform(X.iloc[:,i])\n",
    "    i += 1\n",
    "\n",
    "X_train, X_test, y_train, y_test = cv.train_test_split(X, Y, test_size=.3, random_state=1)"
   ]
  },
  {
   "cell_type": "code",
   "execution_count": 5,
   "metadata": {},
   "outputs": [
    {
     "data": {
      "text/html": [
       "<div>\n",
       "<style scoped>\n",
       "    .dataframe tbody tr th:only-of-type {\n",
       "        vertical-align: middle;\n",
       "    }\n",
       "\n",
       "    .dataframe tbody tr th {\n",
       "        vertical-align: top;\n",
       "    }\n",
       "\n",
       "    .dataframe thead th {\n",
       "        text-align: right;\n",
       "    }\n",
       "</style>\n",
       "<table border=\"1\" class=\"dataframe\">\n",
       "  <thead>\n",
       "    <tr style=\"text-align: right;\">\n",
       "      <th></th>\n",
       "      <th>LotArea</th>\n",
       "      <th>LotShape</th>\n",
       "      <th>OverallQual</th>\n",
       "      <th>YearBuilt</th>\n",
       "      <th>ExterQual</th>\n",
       "      <th>TotalBsmtSF</th>\n",
       "      <th>HeatingQC</th>\n",
       "      <th>CentralAir</th>\n",
       "      <th>GrLivArea</th>\n",
       "      <th>BedroomAbvGr</th>\n",
       "      <th>...</th>\n",
       "      <th>TotRmsAbvGrd</th>\n",
       "      <th>Fireplaces</th>\n",
       "      <th>GarageArea</th>\n",
       "      <th>Fence</th>\n",
       "      <th>MiscVal</th>\n",
       "      <th>MasVnr</th>\n",
       "      <th>SecondFloor</th>\n",
       "      <th>Baths</th>\n",
       "      <th>Pool</th>\n",
       "      <th>Id</th>\n",
       "    </tr>\n",
       "  </thead>\n",
       "  <tbody>\n",
       "    <tr>\n",
       "      <th>count</th>\n",
       "      <td>1006.000000</td>\n",
       "      <td>1006.000000</td>\n",
       "      <td>1006.000000</td>\n",
       "      <td>1006.000000</td>\n",
       "      <td>1006.000000</td>\n",
       "      <td>1006.000000</td>\n",
       "      <td>1006.000000</td>\n",
       "      <td>1006.000000</td>\n",
       "      <td>1006.000000</td>\n",
       "      <td>1006.000000</td>\n",
       "      <td>...</td>\n",
       "      <td>1006.000000</td>\n",
       "      <td>1006.000000</td>\n",
       "      <td>1006.000000</td>\n",
       "      <td>1006.000000</td>\n",
       "      <td>1006.000000</td>\n",
       "      <td>1006.000000</td>\n",
       "      <td>1006.000000</td>\n",
       "      <td>1006.000000</td>\n",
       "      <td>1006.000000</td>\n",
       "      <td>1006.000000</td>\n",
       "    </tr>\n",
       "    <tr>\n",
       "      <th>mean</th>\n",
       "      <td>0.293021</td>\n",
       "      <td>0.637177</td>\n",
       "      <td>0.570245</td>\n",
       "      <td>0.728888</td>\n",
       "      <td>0.469516</td>\n",
       "      <td>0.329981</td>\n",
       "      <td>0.792247</td>\n",
       "      <td>0.937376</td>\n",
       "      <td>0.283904</td>\n",
       "      <td>0.358847</td>\n",
       "      <td>...</td>\n",
       "      <td>0.375911</td>\n",
       "      <td>0.200795</td>\n",
       "      <td>0.338268</td>\n",
       "      <td>0.189861</td>\n",
       "      <td>0.003379</td>\n",
       "      <td>0.429423</td>\n",
       "      <td>0.434394</td>\n",
       "      <td>0.287475</td>\n",
       "      <td>0.003976</td>\n",
       "      <td>502.500000</td>\n",
       "    </tr>\n",
       "    <tr>\n",
       "      <th>std</th>\n",
       "      <td>0.136720</td>\n",
       "      <td>0.481054</td>\n",
       "      <td>0.148758</td>\n",
       "      <td>0.215303</td>\n",
       "      <td>0.191900</td>\n",
       "      <td>0.127514</td>\n",
       "      <td>0.237010</td>\n",
       "      <td>0.242406</td>\n",
       "      <td>0.119330</td>\n",
       "      <td>0.102457</td>\n",
       "      <td>...</td>\n",
       "      <td>0.134484</td>\n",
       "      <td>0.211069</td>\n",
       "      <td>0.148924</td>\n",
       "      <td>0.392386</td>\n",
       "      <td>0.038159</td>\n",
       "      <td>0.495240</td>\n",
       "      <td>0.495924</td>\n",
       "      <td>0.179280</td>\n",
       "      <td>0.062962</td>\n",
       "      <td>290.551487</td>\n",
       "    </tr>\n",
       "    <tr>\n",
       "      <th>min</th>\n",
       "      <td>0.000000</td>\n",
       "      <td>0.000000</td>\n",
       "      <td>0.000000</td>\n",
       "      <td>0.021739</td>\n",
       "      <td>0.000000</td>\n",
       "      <td>0.000000</td>\n",
       "      <td>0.000000</td>\n",
       "      <td>0.000000</td>\n",
       "      <td>0.000000</td>\n",
       "      <td>0.000000</td>\n",
       "      <td>...</td>\n",
       "      <td>0.000000</td>\n",
       "      <td>0.000000</td>\n",
       "      <td>0.000000</td>\n",
       "      <td>0.000000</td>\n",
       "      <td>0.000000</td>\n",
       "      <td>0.000000</td>\n",
       "      <td>0.000000</td>\n",
       "      <td>0.000000</td>\n",
       "      <td>0.000000</td>\n",
       "      <td>0.000000</td>\n",
       "    </tr>\n",
       "    <tr>\n",
       "      <th>25%</th>\n",
       "      <td>0.217776</td>\n",
       "      <td>0.000000</td>\n",
       "      <td>0.444444</td>\n",
       "      <td>0.601449</td>\n",
       "      <td>0.333333</td>\n",
       "      <td>0.248051</td>\n",
       "      <td>0.500000</td>\n",
       "      <td>1.000000</td>\n",
       "      <td>0.193264</td>\n",
       "      <td>0.250000</td>\n",
       "      <td>...</td>\n",
       "      <td>0.250000</td>\n",
       "      <td>0.000000</td>\n",
       "      <td>0.241727</td>\n",
       "      <td>0.000000</td>\n",
       "      <td>0.000000</td>\n",
       "      <td>0.000000</td>\n",
       "      <td>0.000000</td>\n",
       "      <td>0.200000</td>\n",
       "      <td>0.000000</td>\n",
       "      <td>251.250000</td>\n",
       "    </tr>\n",
       "    <tr>\n",
       "      <th>50%</th>\n",
       "      <td>0.287275</td>\n",
       "      <td>1.000000</td>\n",
       "      <td>0.555556</td>\n",
       "      <td>0.746377</td>\n",
       "      <td>0.333333</td>\n",
       "      <td>0.309420</td>\n",
       "      <td>1.000000</td>\n",
       "      <td>1.000000</td>\n",
       "      <td>0.273298</td>\n",
       "      <td>0.375000</td>\n",
       "      <td>...</td>\n",
       "      <td>0.333333</td>\n",
       "      <td>0.333333</td>\n",
       "      <td>0.344964</td>\n",
       "      <td>0.000000</td>\n",
       "      <td>0.000000</td>\n",
       "      <td>0.000000</td>\n",
       "      <td>0.000000</td>\n",
       "      <td>0.200000</td>\n",
       "      <td>0.000000</td>\n",
       "      <td>502.500000</td>\n",
       "    </tr>\n",
       "    <tr>\n",
       "      <th>75%</th>\n",
       "      <td>0.358753</td>\n",
       "      <td>1.000000</td>\n",
       "      <td>0.666667</td>\n",
       "      <td>0.934783</td>\n",
       "      <td>0.666667</td>\n",
       "      <td>0.407205</td>\n",
       "      <td>1.000000</td>\n",
       "      <td>1.000000</td>\n",
       "      <td>0.348141</td>\n",
       "      <td>0.375000</td>\n",
       "      <td>...</td>\n",
       "      <td>0.416667</td>\n",
       "      <td>0.333333</td>\n",
       "      <td>0.414388</td>\n",
       "      <td>0.000000</td>\n",
       "      <td>0.000000</td>\n",
       "      <td>1.000000</td>\n",
       "      <td>1.000000</td>\n",
       "      <td>0.400000</td>\n",
       "      <td>0.000000</td>\n",
       "      <td>753.750000</td>\n",
       "    </tr>\n",
       "    <tr>\n",
       "      <th>max</th>\n",
       "      <td>1.000000</td>\n",
       "      <td>1.000000</td>\n",
       "      <td>1.000000</td>\n",
       "      <td>1.000000</td>\n",
       "      <td>1.000000</td>\n",
       "      <td>1.000000</td>\n",
       "      <td>1.000000</td>\n",
       "      <td>1.000000</td>\n",
       "      <td>0.762675</td>\n",
       "      <td>1.000000</td>\n",
       "      <td>...</td>\n",
       "      <td>1.000000</td>\n",
       "      <td>1.000000</td>\n",
       "      <td>1.000000</td>\n",
       "      <td>1.000000</td>\n",
       "      <td>1.000000</td>\n",
       "      <td>1.000000</td>\n",
       "      <td>1.000000</td>\n",
       "      <td>1.000000</td>\n",
       "      <td>1.000000</td>\n",
       "      <td>1005.000000</td>\n",
       "    </tr>\n",
       "  </tbody>\n",
       "</table>\n",
       "<p>8 rows × 22 columns</p>\n",
       "</div>"
      ],
      "text/plain": [
       "           LotArea     LotShape  OverallQual    YearBuilt    ExterQual  \\\n",
       "count  1006.000000  1006.000000  1006.000000  1006.000000  1006.000000   \n",
       "mean      0.293021     0.637177     0.570245     0.728888     0.469516   \n",
       "std       0.136720     0.481054     0.148758     0.215303     0.191900   \n",
       "min       0.000000     0.000000     0.000000     0.021739     0.000000   \n",
       "25%       0.217776     0.000000     0.444444     0.601449     0.333333   \n",
       "50%       0.287275     1.000000     0.555556     0.746377     0.333333   \n",
       "75%       0.358753     1.000000     0.666667     0.934783     0.666667   \n",
       "max       1.000000     1.000000     1.000000     1.000000     1.000000   \n",
       "\n",
       "       TotalBsmtSF    HeatingQC   CentralAir    GrLivArea  BedroomAbvGr  ...  \\\n",
       "count  1006.000000  1006.000000  1006.000000  1006.000000   1006.000000  ...   \n",
       "mean      0.329981     0.792247     0.937376     0.283904      0.358847  ...   \n",
       "std       0.127514     0.237010     0.242406     0.119330      0.102457  ...   \n",
       "min       0.000000     0.000000     0.000000     0.000000      0.000000  ...   \n",
       "25%       0.248051     0.500000     1.000000     0.193264      0.250000  ...   \n",
       "50%       0.309420     1.000000     1.000000     0.273298      0.375000  ...   \n",
       "75%       0.407205     1.000000     1.000000     0.348141      0.375000  ...   \n",
       "max       1.000000     1.000000     1.000000     0.762675      1.000000  ...   \n",
       "\n",
       "       TotRmsAbvGrd   Fireplaces   GarageArea        Fence      MiscVal  \\\n",
       "count   1006.000000  1006.000000  1006.000000  1006.000000  1006.000000   \n",
       "mean       0.375911     0.200795     0.338268     0.189861     0.003379   \n",
       "std        0.134484     0.211069     0.148924     0.392386     0.038159   \n",
       "min        0.000000     0.000000     0.000000     0.000000     0.000000   \n",
       "25%        0.250000     0.000000     0.241727     0.000000     0.000000   \n",
       "50%        0.333333     0.333333     0.344964     0.000000     0.000000   \n",
       "75%        0.416667     0.333333     0.414388     0.000000     0.000000   \n",
       "max        1.000000     1.000000     1.000000     1.000000     1.000000   \n",
       "\n",
       "            MasVnr  SecondFloor        Baths         Pool           Id  \n",
       "count  1006.000000  1006.000000  1006.000000  1006.000000  1006.000000  \n",
       "mean      0.429423     0.434394     0.287475     0.003976   502.500000  \n",
       "std       0.495240     0.495924     0.179280     0.062962   290.551487  \n",
       "min       0.000000     0.000000     0.000000     0.000000     0.000000  \n",
       "25%       0.000000     0.000000     0.200000     0.000000   251.250000  \n",
       "50%       0.000000     0.000000     0.200000     0.000000   502.500000  \n",
       "75%       1.000000     1.000000     0.400000     0.000000   753.750000  \n",
       "max       1.000000     1.000000     1.000000     1.000000  1005.000000  \n",
       "\n",
       "[8 rows x 22 columns]"
      ]
     },
     "execution_count": 5,
     "metadata": {},
     "output_type": "execute_result"
    }
   ],
   "source": [
    "df.describe()"
   ]
  },
  {
   "cell_type": "markdown",
   "metadata": {},
   "source": [
    "## Linear SVM"
   ]
  },
  {
   "cell_type": "code",
   "execution_count": 6,
   "metadata": {},
   "outputs": [
    {
     "name": "stdout",
     "output_type": "stream",
     "text": [
      "Confusion matrix on test set:\n",
      " [[ 13  10   0   0   0]\n",
      " [  3 183  14   0   0]\n",
      " [  0  11  49   2   0]\n",
      " [  0   0   5   6   1]\n",
      " [  0   0   1   2   2]]\n",
      "\n",
      "f1 on test set:  0.6732306818468107\n"
     ]
    }
   ],
   "source": [
    "from sklearn.svm import SVC\n",
    "from sklearn.svm import LinearSVC\n",
    "from sklearn.model_selection import GridSearchCV\n",
    "\n",
    "#knc = LinearSVC() \n",
    "knc = SVC(kernel='linear')\n",
    "knc.fit(X_train, y_train)\n",
    "pred=knc.predict(X_test)\n",
    "print(\"Confusion matrix on test set:\\n\",sklearn.metrics.confusion_matrix(y_test, pred))\n",
    "print(\"\\nf1 on test set: \",sklearn.metrics.f1_score(y_test, pred,average='macro'))"
   ]
  },
  {
   "cell_type": "code",
   "execution_count": 11,
   "metadata": {},
   "outputs": [
    {
     "data": {
      "image/png": "[encoded data removed]",
      "text/plain": [
       "<Figure size 432x288 with 1 Axes>"
      ]
     },
     "metadata": {
      "needs_background": "light"
     },
     "output_type": "display_data"
    },
    {
     "name": "stdout",
     "output_type": "stream",
     "text": [
      "Acc. 10-fold cross on train data=  0.5754518148556477\n",
      "\n",
      "Confusion matrix on test set:\n",
      " [[ 18   5   0   0   0]\n",
      " [  7 183  10   0   0]\n",
      " [  1   8  46   7   0]\n",
      " [  0   0   4   7   1]\n",
      " [  0   0   1   2   2]]\n",
      "\n",
      "f1 on test set:  0.6813807562936482\n",
      "\n",
      "Best value of parameter C found:  {'C': 100.0}\n",
      "\n",
      "Number of supports:  288 ( 110 of them have slacks)\n",
      "Prop. of supports:  0.4090909090909091\n"
     ]
    }
   ],
   "source": [
    "# List of C values to test. We usualy test diverse orders of magnitude\n",
    "#Cs = np.logspace(-3, 11, num=15, base=10.0)\n",
    "Cs = np.logspace(-3, 3, num=7, base=10.0)\n",
    "\n",
    "param_grid = {'C': Cs}\n",
    "#grid_search = GridSearchCV(LinearSVC(), param_grid, cv=10)\n",
    "grid_search = GridSearchCV(SVC(kernel='linear'), param_grid, cv=10)\n",
    "grid_search.fit(X_train,y_train)\n",
    "\n",
    "# Let's plot the 10-fold cross.validation accuracy deppending on C\n",
    "scores = grid_search.cv_results_['mean_test_score']\n",
    "plt.semilogx(Cs,scores)\n",
    "plt.show()\n",
    "\n",
    "parval=grid_search.best_params_\n",
    "cvacc = cross_val_score(SVC(C=parval['C'],kernel='linear'), X=X_train,  y=y_train, cv=10, scoring='f1_macro')\n",
    "print('f1 10-fold cross on train data= ', cvacc.mean())\n",
    "\n",
    "\n",
    "# Let's apply the best C parameter found to the test set\n",
    "\n",
    "#knc = LinearSVC(C=parval['C']) \n",
    "knc = SVC(C=parval['C'],kernel='linear')\n",
    "knc.fit(X_train, y_train)\n",
    "pred=knc.predict(X_test)\n",
    "print(\"\\nConfusion matrix on test set:\\n\",sklearn.metrics.confusion_matrix(y_test, pred))\n",
    "print(\"\\nf1 on test set: \",sklearn.metrics.f1_score(y_test, pred,average='macro'))\n",
    "print(\"\\nBest value of parameter C found: \",parval)\n",
    "print(\"\\nNumber of supports: \",np.sum(knc.n_support_), \"(\",np.sum(np.abs(knc.dual_coef_)==parval['C']) ,\"of them have slacks)\")\n",
    "print(\"Prop. of supports: \",np.sum(knc.n_support_)/X_train.shape[0])"
   ]
  },
  {
   "cell_type": "markdown",
   "metadata": {},
   "source": [
    "## Polynomial kernels"
   ]
  },
  {
   "cell_type": "code",
   "execution_count": 13,
   "metadata": {},
   "outputs": [
    {
     "name": "stdout",
     "output_type": "stream",
     "text": [
      "Confusion matrix on test set:\n",
      " [[ 12  11   0   0   0]\n",
      " [  8 178  14   0   0]\n",
      " [  1  20  40   1   0]\n",
      " [  0   0   4   7   1]\n",
      " [  0   0   1   3   1]]\n",
      "\n",
      "f1 on test set:  0.5942874312115786\n"
     ]
    }
   ],
   "source": [
    "knc = SVC(kernel='poly',degree =2) \n",
    "knc.fit(X_train, y_train)\n",
    "pred=knc.predict(X_test)\n",
    "print(\"Confusion matrix on test set:\\n\",sklearn.metrics.confusion_matrix(y_test, pred))\n",
    "print(\"\\nf1 on test set: \",sklearn.metrics.f1_score(y_test, pred,average='macro'))"
   ]
  },
  {
   "cell_type": "code",
   "execution_count": 14,
   "metadata": {},
   "outputs": [
    {
     "data": {
      "image/png": "[encoded data removed]",
      "text/plain": [
       "<Figure size 432x288 with 1 Axes>"
      ]
     },
     "metadata": {
      "needs_background": "light"
     },
     "output_type": "display_data"
    },
    {
     "name": "stdout",
     "output_type": "stream",
     "text": [
      "f1 10-fold cross on train data=  0.5417348705169939\n",
      "\n",
      "Confusion matrix on test set:\n",
      " [[ 12  11   0   0   0]\n",
      " [  8 178  14   0   0]\n",
      " [  1  20  40   1   0]\n",
      " [  0   0   4   7   1]\n",
      " [  0   0   1   3   1]]\n",
      "\n",
      "nf1 on test set:  0.5942874312115786\n",
      "\n",
      "Best combination of parameters found:  {'C': 1.0}\n",
      "\n",
      "Number of supports:  418 ( 242 of them have slacks)\n",
      "Prop. of supports:  0.59375\n"
     ]
    }
   ],
   "source": [
    "Cs = np.logspace(-3, 3, num=7, base=10.0)\n",
    "\n",
    "param_grid = {'C': Cs}\n",
    "grid_search = GridSearchCV(SVC(kernel='poly',degree =2) , param_grid, cv=10)\n",
    "grid_search.fit(X_train,y_train)\n",
    "\n",
    "scores = grid_search.cv_results_['mean_test_score']\n",
    "\n",
    "plt.semilogx(Cs,scores)\n",
    "plt.show()\n",
    "\n",
    "parval=grid_search.best_params_\n",
    "\n",
    "cvacc = cross_val_score(SVC(kernel='poly',degree =2,C=parval['C']) , X=X_train,  y=y_train, cv=10, scoring='f1_macro')\n",
    "print('f1 10-fold cross on train data= ', cvacc.mean())\n",
    "\n",
    "\n",
    "knc = SVC(kernel='poly',degree =2,C=parval['C']) \n",
    "knc.fit(X_train, y_train)\n",
    "pred=knc.predict(X_test)\n",
    "print(\"\\nConfusion matrix on test set:\\n\",sklearn.metrics.confusion_matrix(y_test, pred))\n",
    "print(\"\\nnf1 on test set: \",sklearn.metrics.f1_score(y_test, pred,average='macro'))\n",
    "print(\"\\nBest combination of parameters found: \",parval)\n",
    "print(\"\\nNumber of supports: \",np.sum(knc.n_support_), \"(\",np.sum(np.abs(knc.dual_coef_)==parval['C']) ,\"of them have slacks)\")\n",
    "print(\"Prop. of supports: \",np.sum(knc.n_support_)/X_train.shape[0])"
   ]
  },
  {
   "cell_type": "code",
   "execution_count": 15,
   "metadata": {},
   "outputs": [
    {
     "name": "stdout",
     "output_type": "stream",
     "text": [
      "Confusion matrix on test set:\n",
      " [[ 14   9   0   0   0]\n",
      " [ 14 169  16   1   0]\n",
      " [  1  16  41   4   0]\n",
      " [  0   2   4   5   1]\n",
      " [  0   0   1   3   1]]\n",
      "\n",
      "f1 on test set:  0.5478003000583646\n"
     ]
    }
   ],
   "source": [
    "knc = SVC(kernel='poly',degree =3) \n",
    "knc.fit(X_train, y_train)\n",
    "pred=knc.predict(X_test)\n",
    "print(\"Confusion matrix on test set:\\n\",sklearn.metrics.confusion_matrix(y_test, pred))\n",
    "print(\"\\nf1 on test set: \",sklearn.metrics.f1_score(y_test, pred,average='macro'))"
   ]
  },
  {
   "cell_type": "code",
   "execution_count": 16,
   "metadata": {},
   "outputs": [
    {
     "data": {
      "image/png": "[encoded data removed]",
      "text/plain": [
       "<Figure size 432x288 with 1 Axes>"
      ]
     },
     "metadata": {
      "needs_background": "light"
     },
     "output_type": "display_data"
    },
    {
     "name": "stdout",
     "output_type": "stream",
     "text": [
      "f1 10-fold cross on train data=  0.47115926723539225\n",
      "\n",
      "Confusion matrix on test set:\n",
      " [[  7  16   0   0   0]\n",
      " [  2 183  15   0   0]\n",
      " [  0  24  36   2   0]\n",
      " [  0   1   4   7   0]\n",
      " [  0   0   1   4   0]]\n",
      "\n",
      "Best combination of parameters found:  {'C': 0.01}\n",
      "\n",
      "f1 on test set:  0.49417540773904706\n",
      "\n",
      "Number of supports:  469 ( 429 of them have slacks)\n",
      "Prop. of supports:  0.6661931818181818\n"
     ]
    }
   ],
   "source": [
    "Cs = np.logspace(-3, 3, num=7, base=10.0)\n",
    "\n",
    "param_grid = {'C': Cs}\n",
    "grid_search = GridSearchCV(SVC(kernel='poly',degree =3) , param_grid, cv=10)\n",
    "grid_search.fit(X_train,y_train)\n",
    "\n",
    "scores = grid_search.cv_results_['mean_test_score']\n",
    "\n",
    "plt.semilogx(Cs,scores)\n",
    "plt.show()\n",
    "\n",
    "parval=grid_search.best_params_\n",
    "\n",
    "cvacc = cross_val_score(SVC(kernel='poly',degree =3,C=parval['C']) , X=X_train,  y=y_train, cv=10, scoring='f1_macro')\n",
    "print('f1 10-fold cross on train data= ', cvacc.mean())\n",
    "\n",
    "knc = SVC(kernel='poly',degree =3,C=parval['C']) \n",
    "knc.fit(X_train, y_train)\n",
    "pred=knc.predict(X_test)\n",
    "print(\"\\nConfusion matrix on test set:\\n\",sklearn.metrics.confusion_matrix(y_test, pred))\n",
    "print(\"\\nBest combination of parameters found: \",parval)\n",
    "print(\"\\nf1 on test set: \",sklearn.metrics.f1_score(y_test, pred,average='macro'))\n",
    "print(\"\\nNumber of supports: \",np.sum(knc.n_support_), \"(\",np.sum(np.abs(knc.dual_coef_)==parval['C']) ,\"of them have slacks)\")\n",
    "print(\"Prop. of supports: \",np.sum(knc.n_support_)/X_train.shape[0])"
   ]
  },
  {
   "cell_type": "code",
   "execution_count": 17,
   "metadata": {},
   "outputs": [
    {
     "name": "stdout",
     "output_type": "stream",
     "text": [
      "Confusion matrix on test set:\n",
      " [[ 14   9   0   0   0]\n",
      " [ 11 173  15   1   0]\n",
      " [  0  17  42   3   0]\n",
      " [  0   2   4   5   1]\n",
      " [  0   0   1   3   1]]\n",
      "\n",
      "f1 on test set:  0.5651953066642149\n"
     ]
    }
   ],
   "source": [
    "knc = SVC(kernel='poly',degree =4) \n",
    "knc.fit(X_train, y_train)\n",
    "pred=knc.predict(X_test)\n",
    "print(\"Confusion matrix on test set:\\n\",sklearn.metrics.confusion_matrix(y_test, pred))\n",
    "print(\"\\nf1 on test set: \",sklearn.metrics.f1_score(y_test, pred,average='macro'))"
   ]
  },
  {
   "cell_type": "code",
   "execution_count": 18,
   "metadata": {},
   "outputs": [
    {
     "data": {
      "image/png": "[encoded data removed]",
      "text/plain": [
       "<Figure size 432x288 with 1 Axes>"
      ]
     },
     "metadata": {
      "needs_background": "light"
     },
     "output_type": "display_data"
    },
    {
     "name": "stdout",
     "output_type": "stream",
     "text": [
      "f1 10-fold cross on train data=  0.23636489559906906\n",
      "\n",
      "Confusion matrix on test set:\n",
      " [[  8  15   0   0   0]\n",
      " [  3 185  12   0   0]\n",
      " [  0  26  35   1   0]\n",
      " [  0   0   4   8   0]\n",
      " [  0   0   1   4   0]]\n",
      "\n",
      "Best combination of parameters found:  {'C': 0.001}\n",
      "\n",
      "f1 on test set:  0.5186335847904766\n",
      "\n",
      "Number of supports:  450 ( 362 of them have slacks)\n",
      "Prop. of supports:  0.6392045454545454\n"
     ]
    }
   ],
   "source": [
    "Cs = np.logspace(-7, 3, num=11, base=10.0)\n",
    "\n",
    "param_grid = {'C': Cs}\n",
    "grid_search = GridSearchCV(SVC(kernel='poly',degree =4) , param_grid, cv=10)\n",
    "grid_search.fit(X_train,y_train)\n",
    "\n",
    "scores = grid_search.cv_results_['mean_test_score']\n",
    "\n",
    "plt.semilogx(Cs,scores)\n",
    "plt.show()\n",
    "\n",
    "parval=grid_search.best_params_\n",
    "\n",
    "cvacc = cross_val_score(SVC(kernel='poly',degree =3,C=parval['C']) , X=X_train,  y=y_train, cv=10, scoring='f1_macro')\n",
    "print('f1 10-fold cross on train data= ', cvacc.mean())\n",
    "\n",
    "knc = SVC(kernel='poly',degree =4,C=parval['C']) \n",
    "knc.fit(X_train, y_train)\n",
    "pred=knc.predict(X_test)\n",
    "print(\"\\nConfusion matrix on test set:\\n\",sklearn.metrics.confusion_matrix(y_test, pred))\n",
    "print(\"\\nBest combination of parameters found: \",parval)\n",
    "print(\"\\nf1 on test set: \",sklearn.metrics.f1_score(y_test, pred,average='macro'))\n",
    "print(\"\\nNumber of supports: \",np.sum(knc.n_support_), \"(\",np.sum(np.abs(knc.dual_coef_)==parval['C']) ,\"of them have slacks)\")\n",
    "print(\"Prop. of supports: \",np.sum(knc.n_support_)/X_train.shape[0])"
   ]
  },
  {
   "cell_type": "markdown",
   "metadata": {},
   "source": [
    "## RBF kernel"
   ]
  },
  {
   "cell_type": "code",
   "execution_count": 19,
   "metadata": {},
   "outputs": [
    {
     "name": "stdout",
     "output_type": "stream",
     "text": [
      "Confusion matrix on test set:\n",
      " [[  3  20   0   0   0]\n",
      " [  1 183  16   0   0]\n",
      " [  0  22  39   1   0]\n",
      " [  0   1   7   4   0]\n",
      " [  0   0   2   3   0]]\n",
      "\n",
      "f1 on test set:  0.42008495416946123\n"
     ]
    }
   ],
   "source": [
    "knc = SVC() \n",
    "knc.fit(X_train, y_train)\n",
    "pred=knc.predict(X_test)\n",
    "print(\"Confusion matrix on test set:\\n\",sklearn.metrics.confusion_matrix(y_test, pred))\n",
    "print(\"\\nf1 on test set: \",sklearn.metrics.f1_score(y_test, pred,average='macro'))"
   ]
  },
  {
   "cell_type": "code",
   "execution_count": 20,
   "metadata": {},
   "outputs": [
    {
     "data": {
      "image/png": "[encoded data removed]",
      "text/plain": [
       "<Figure size 288x468 with 2 Axes>"
      ]
     },
     "metadata": {
      "needs_background": "light"
     },
     "output_type": "display_data"
    },
    {
     "name": "stdout",
     "output_type": "stream",
     "text": [
      "\n",
      "Best combination of parameters found:  {'C': 10000000.0, 'gamma': 1e-05}\n",
      "\n",
      "f1 10-fold cross on train data=  0.5532253344809958\n",
      "\n",
      "Confusion matrix on test set:\n",
      " [[ 16   7   0   0   0]\n",
      " [ 16 174  10   0   0]\n",
      " [  0  10  47   5   0]\n",
      " [  0   1   3   7   1]\n",
      " [  0   0   1   2   2]]\n",
      "\n",
      "f1 on test set:  0.6544524929193918\n",
      "\n",
      "Number of supports:  272 ( 38 of them have slacks)\n",
      "Prop. of supports:  0.38636363636363635\n"
     ]
    }
   ],
   "source": [
    "# Values we will test for each parameter. When observin results, consider the limits of the \n",
    "# values tested and increase them if necessary \n",
    "gammas = [0.000001,0.00001, 0.0001,0.001,0.01,0.1,1,10]\n",
    "Cs = np.logspace(-3, 9, num=13, base=10.0)\n",
    "\n",
    "param_grid = {'C': Cs, 'gamma' : gammas}\n",
    "grid_search = GridSearchCV(SVC(), param_grid, cv=10)\n",
    "grid_search.fit(X_train,y_train)\n",
    "parval=grid_search.best_params_\n",
    "\n",
    "# We'll show in a grid, the accuracy for each combination of parameters tester\n",
    "scores = grid_search.cv_results_['mean_test_score']\n",
    "scores = np.array(scores).reshape(len(param_grid['C']), len(param_grid['gamma']))\n",
    "\n",
    "plt.matshow(scores)\n",
    "plt.xlabel('gamma')\n",
    "plt.ylabel('C')\n",
    "plt.colorbar()\n",
    "plt.xticks(np.arange(len(param_grid['gamma'])), param_grid['gamma'],rotation='vertical')\n",
    "plt.yticks(np.arange(len(param_grid['C'])), param_grid['C'])\n",
    "plt.show()\n",
    "parval=grid_search.best_params_\n",
    "print(\"\\nBest combination of parameters found: \",parval)\n",
    "\n",
    "\n",
    "cvacc = cross_val_score(SVC(C=parval['C'], gamma=parval['gamma']) , X=X_train,  y=y_train, cv=10, scoring='f1_macro')\n",
    "print('\\nf1 10-fold cross on train data= ', cvacc.mean())\n",
    "\n",
    "knc = SVC(C=parval['C'], gamma=parval['gamma'])\n",
    "knc.fit(X_train, y_train)\n",
    "pred=knc.predict(X_test)\n",
    "print(\"\\nConfusion matrix on test set:\\n\",sklearn.metrics.confusion_matrix(y_test, pred))\n",
    "print(\"\\nf1 on test set: \",sklearn.metrics.f1_score(y_test, pred,average='macro'))\n",
    "print(\"\\nNumber of supports: \",np.sum(knc.n_support_), \"(\",np.sum(np.abs(knc.dual_coef_)==parval['C']) ,\"of them have slacks)\")\n",
    "print(\"Prop. of supports: \",np.sum(knc.n_support_)/X_train.shape[0])"
   ]
  },
  {
   "cell_type": "markdown",
   "metadata": {},
   "source": [
    "# Conclusions\n",
    "We can see that for our dataset, polynomial kernels do not work very well, as the accuracy is lower than with the other SVM and they have a lot of supports, which the majority of them, have slacks.\n",
    "The linear SVM has obtained the best f1 score of them all but it has a large number of supports and 38% of them have slacks, on the other hand, when we use a SVM with RBF kernel, the f1 score is just 3% lower, but the number of supports is significatively lower and only a 14% have slacks. So we conclude that using the RBF kernel is better."
   ]
  },
  {
   "cell_type": "markdown",
   "metadata": {},
   "source": [
    "### Balancing the dataset"
   ]
  },
  {
   "cell_type": "code",
   "execution_count": 8,
   "metadata": {},
   "outputs": [
    {
     "name": "stdout",
     "output_type": "stream",
     "text": [
      "['Level2' 'Level4' 'Level1' 'Level3' 'Level5']\n"
     ]
    },
    {
     "data": {
      "text/plain": [
       "Level1    237\n",
       "Level4    236\n",
       "Level3    223\n",
       "Level2    209\n",
       "Level5    170\n",
       "Name: SalePrice, dtype: int64"
      ]
     },
     "execution_count": 8,
     "metadata": {},
     "output_type": "execute_result"
    }
   ],
   "source": [
    "print(df['SalePrice'].unique())\n",
    "\n",
    "X1 = df[df['SalePrice'] == 'Level1']\n",
    "X2 = df[df['SalePrice'] == 'Level2']\n",
    "X3 = df[df['SalePrice'] == 'Level3']\n",
    "X4 = df[df['SalePrice'] == 'Level4']\n",
    "X5 = df[df['SalePrice'] == 'Level5']\n",
    "\n",
    "bdata = pd.DataFrame()\n",
    "\n",
    "for i in range(3):\n",
    "    bdata = bdata.append(X1, ignore_index = True)\n",
    "bdata = bdata.append(X2.sample(frac=1/3), ignore_index = True)\n",
    "bdata = bdata.append(X3, ignore_index = True)\n",
    "for i in range(4):\n",
    "    bdata = bdata.append(X4, ignore_index = True)\n",
    "for i in range(10):\n",
    "    bdata = bdata.append(X5, ignore_index = True)\n",
    "\n",
    "bdata['SalePrice'].value_counts()"
   ]
  },
  {
   "cell_type": "code",
   "execution_count": 9,
   "metadata": {},
   "outputs": [],
   "source": [
    "X = bdata.drop(columns='SalePrice')\n",
    "X = X.drop(columns = 'Id')\n",
    "Y = bdata.loc[:,'SalePrice']\n",
    "\n",
    "le = Pre.LabelEncoder()\n",
    "le.fit(Y)\n",
    "Y = le.fit_transform(Y)\n",
    "i = 0\n",
    "for t in X.dtypes:\n",
    "    if t == object or t == bool:\n",
    "        le.fit(X.iloc[:,i])\n",
    "        X.iloc[:,i] = le.fit_transform(X.iloc[:,i])\n",
    "    i += 1\n",
    "\n",
    "X_train, X_test, y_train, y_test = cv.train_test_split(X, Y, test_size=.3, random_state=1)"
   ]
  },
  {
   "cell_type": "markdown",
   "metadata": {},
   "source": [
    "## Linear SVM with balanced dataset"
   ]
  },
  {
   "cell_type": "code",
   "execution_count": 10,
   "metadata": {},
   "outputs": [
    {
     "data": {
      "image/png": "[encoded data removed]",
      "text/plain": [
       "<Figure size 432x288 with 1 Axes>"
      ]
     },
     "metadata": {
      "needs_background": "light"
     },
     "output_type": "display_data"
    },
    {
     "name": "stdout",
     "output_type": "stream",
     "text": [
      "f1 10-fold cross on train data=  0.8803008465893534\n",
      "\n",
      "Confusion matrix on test set:\n",
      " [[67  8  0  0  0]\n",
      " [ 5 43 10  0  0]\n",
      " [ 1  9 45  7  0]\n",
      " [ 0  0  6 76  0]\n",
      " [ 0  0  0  0 46]]\n",
      "\n",
      "f1 on test set:  0.8574276806025463\n",
      "\n",
      "Best value of parameter C found:  {'C': 100.0}\n",
      "\n",
      "Number of supports:  335 ( 57 of them have slacks)\n",
      "Prop. of supports:  0.4454787234042553\n"
     ]
    }
   ],
   "source": [
    "# List of C values to test. We usualy test diverse orders of magnitude\n",
    "#Cs = np.logspace(-3, 11, num=15, base=10.0)\n",
    "Cs = np.logspace(-3, 3, num=7, base=10.0)\n",
    "\n",
    "param_grid = {'C': Cs}\n",
    "#grid_search = GridSearchCV(LinearSVC(), param_grid, cv=10)\n",
    "grid_search = GridSearchCV(SVC(kernel='linear'), param_grid, cv=10)\n",
    "grid_search.fit(X_train,y_train)\n",
    "\n",
    "# Let's plot the 10-fold cross.validation accuracy deppending on C\n",
    "scores = grid_search.cv_results_['mean_test_score']\n",
    "plt.semilogx(Cs,scores)\n",
    "plt.show()\n",
    "\n",
    "parval=grid_search.best_params_\n",
    "cvacc = cross_val_score(SVC(C=parval['C'],kernel='linear'), X=X_train,  y=y_train, cv=10, scoring='f1_macro')\n",
    "print('f1 10-fold cross on train data= ', cvacc.mean())\n",
    "\n",
    "\n",
    "# Let's apply the best C parameter found to the test set\n",
    "\n",
    "#knc = LinearSVC(C=parval['C']) \n",
    "knc = SVC(C=parval['C'],kernel='linear')\n",
    "knc.fit(X_train, y_train)\n",
    "pred=knc.predict(X_test)\n",
    "print(\"\\nConfusion matrix on test set:\\n\",sklearn.metrics.confusion_matrix(y_test, pred))\n",
    "print(\"\\nf1 on test set: \",sklearn.metrics.f1_score(y_test, pred,average='macro'))\n",
    "print(\"\\nBest value of parameter C found: \",parval)\n",
    "print(\"\\nNumber of supports: \",np.sum(knc.n_support_), \"(\",np.sum(np.abs(knc.dual_coef_)==parval['C']) ,\"of them have slacks)\")\n",
    "print(\"Prop. of supports: \",np.sum(knc.n_support_)/X_train.shape[0])"
   ]
  },
  {
   "cell_type": "markdown",
   "metadata": {},
   "source": [
    "## RBF kernel with balanced dataset"
   ]
  },
  {
   "cell_type": "code",
   "execution_count": 11,
   "metadata": {},
   "outputs": [
    {
     "data": {
      "image/png": "[encoded data removed]",
      "text/plain": [
       "<Figure size 288x468 with 2 Axes>"
      ]
     },
     "metadata": {
      "needs_background": "light"
     },
     "output_type": "display_data"
    },
    {
     "name": "stdout",
     "output_type": "stream",
     "text": [
      "\n",
      "Best combination of parameters found:  {'C': 1000000.0, 'gamma': 1e-05}\n",
      "\n",
      "f1 10-fold cross on train data=  0.8745798450523934\n",
      "\n",
      "Confusion matrix on test set:\n",
      " [[72  3  0  0  0]\n",
      " [ 4 45  9  0  0]\n",
      " [ 0 12 44  6  0]\n",
      " [ 0  0  3 79  0]\n",
      " [ 0  0  0  0 46]]\n",
      "\n",
      "f1 on test set:  0.881644948961657\n",
      "\n",
      "Number of supports:  362 ( 56 of them have slacks)\n",
      "Prop. of supports:  0.48138297872340424\n"
     ]
    }
   ],
   "source": [
    "# Values we will test for each parameter. When observin results, consider the limits of the \n",
    "# values tested and increase them if necessary \n",
    "gammas = [0.000001,0.00001, 0.0001,0.001,0.01,0.1,1,10]\n",
    "Cs = np.logspace(-3, 9, num=13, base=10.0)\n",
    "\n",
    "param_grid = {'C': Cs, 'gamma' : gammas}\n",
    "grid_search = GridSearchCV(SVC(), param_grid, cv=10)\n",
    "grid_search.fit(X_train,y_train)\n",
    "parval=grid_search.best_params_\n",
    "\n",
    "# We'll show in a grid, the accuracy for each combination of parameters tester\n",
    "scores = grid_search.cv_results_['mean_test_score']\n",
    "scores = np.array(scores).reshape(len(param_grid['C']), len(param_grid['gamma']))\n",
    "\n",
    "plt.matshow(scores)\n",
    "plt.xlabel('gamma')\n",
    "plt.ylabel('C')\n",
    "plt.colorbar()\n",
    "plt.xticks(np.arange(len(param_grid['gamma'])), param_grid['gamma'],rotation='vertical')\n",
    "plt.yticks(np.arange(len(param_grid['C'])), param_grid['C'])\n",
    "plt.show()\n",
    "parval=grid_search.best_params_\n",
    "print(\"\\nBest combination of parameters found: \",parval)\n",
    "\n",
    "\n",
    "cvacc = cross_val_score(SVC(C=parval['C'], gamma=parval['gamma']) , X=X_train,  y=y_train, cv=10, scoring='f1_macro')\n",
    "print('\\nf1 10-fold cross on train data= ', cvacc.mean())\n",
    "\n",
    "knc = SVC(C=parval['C'], gamma=parval['gamma'])\n",
    "knc.fit(X_train, y_train)\n",
    "pred=knc.predict(X_test)\n",
    "print(\"\\nConfusion matrix on test set:\\n\",sklearn.metrics.confusion_matrix(y_test, pred))\n",
    "print(\"\\nf1 on test set: \",sklearn.metrics.f1_score(y_test, pred,average='macro'))\n",
    "print(\"\\nNumber of supports: \",np.sum(knc.n_support_), \"(\",np.sum(np.abs(knc.dual_coef_)==parval['C']) ,\"of them have slacks)\")\n",
    "print(\"Prop. of supports: \",np.sum(knc.n_support_)/X_train.shape[0])"
   ]
  },
  {
   "cell_type": "markdown",
   "metadata": {},
   "source": [
    "# Conclusions with balanced dataset\n",
    "Here we can observe how balancing the dataset makes our f1 scores better. The linear SVM f1 score goes from a 68% to an 85% and the proportion of support point with slacks decreases to a 17%. For the RBF kernel, the f1 scores increases from 65% to 88% and the proportion of support point with slacks changes from a 14% to a 15%"
   ]
  }
 ],
 "metadata": {
  "kernelspec": {
   "display_name": "Python 3",
   "language": "python",
   "name": "python3"
  },
  "language_info": {
   "codemirror_mode": {
    "name": "ipython",
    "version": 3
   },
   "file_extension": ".py",
   "mimetype": "text/x-python",
   "name": "python",
   "nbconvert_exporter": "python",
   "pygments_lexer": "ipython3",
   "version": "3.7.3"
  }
 },
 "nbformat": 4,
 "nbformat_minor": 4
}
