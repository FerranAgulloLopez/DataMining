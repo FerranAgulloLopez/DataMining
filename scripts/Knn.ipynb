{
 "cells": [
  {
   "cell_type": "markdown",
   "metadata": {},
   "source": [
    "# K-NN in python"
   ]
  },
  {
   "cell_type": "markdown",
   "metadata": {},
   "source": [
    "## 1- Load the required modeules"
   ]
  },
  {
   "cell_type": "code",
   "execution_count": 12,
   "metadata": {},
   "outputs": [],
   "source": [
    "import numpy as np   \n",
    "import pandas as pd\n",
    "import matplotlib.pyplot as plt        \n",
    "import sklearn                         \n",
    "import sklearn.datasets as ds            \n",
    "import sklearn.model_selection as cv   \n",
    "import sklearn.neighbors as nb           \n",
    "%matplotlib inline                     "
   ]
  },
  {
   "cell_type": "markdown",
   "metadata": {},
   "source": [
    "## 2- Load the data"
   ]
  },
  {
   "cell_type": "code",
   "execution_count": 13,
   "metadata": {},
   "outputs": [
    {
     "name": "stdout",
     "output_type": "stream",
     "text": [
      "(1438, 22)\n"
     ]
    }
   ],
   "source": [
    "data = pd.read_csv('../datasets/preprocessed/train.csv', sep=',')\n",
    "Y = data['SalePrice'].to_numpy()\n",
    "X = data.select_dtypes(include=['float64','int64']).to_numpy() # only numerical\n",
    "\n",
    "print(X.shape)"
   ]
  },
  {
   "cell_type": "markdown",
   "metadata": {},
   "source": [
    "## 3- Simple cross-validation"
   ]
  },
  {
   "cell_type": "code",
   "execution_count": 14,
   "metadata": {},
   "outputs": [
    {
     "name": "stdout",
     "output_type": "stream",
     "text": [
      "0.7245370370370371\n"
     ]
    }
   ],
   "source": [
    "# Let's do a simple cross-validation: split data into training and test sets (test 30% of data)\n",
    "(X_train, X_test,  y_train, y_test) = cv.train_test_split(X, Y, test_size=.3, random_state=1)\n",
    "\n",
    "# Create a kNN classifier object\n",
    "knc = nb.KNeighborsClassifier()\n",
    "\n",
    "# Train the classifier\n",
    "knc.fit(X_train, y_train)\n",
    "\n",
    "# Obtain accuracy score of learned classifier on test data\n",
    "print(knc.score(X_test, y_test))\n",
    "\n"
   ]
  },
  {
   "cell_type": "code",
   "execution_count": 4,
   "metadata": {},
   "outputs": [
    {
     "name": "stdout",
     "output_type": "stream",
     "text": [
      "[[70 22  4  0  0]\n",
      " [28 50 15  3  0]\n",
      " [ 6 35 57 25  0]\n",
      " [ 1  3 27 37  4]\n",
      " [ 0  1  2 18 24]]\n"
     ]
    }
   ],
   "source": [
    "# More information with confussion matrix\n",
    "from sklearn.metrics import confusion_matrix\n",
    "\n",
    "y_pred = knc.predict(X_test)\n",
    "print(sklearn.metrics.confusion_matrix(y_test, y_pred))"
   ]
  },
  {
   "cell_type": "code",
   "execution_count": 5,
   "metadata": {},
   "outputs": [
    {
     "name": "stdout",
     "output_type": "stream",
     "text": [
      "              precision    recall  f1-score   support\n",
      "\n",
      "      Level1       0.67      0.73      0.70        96\n",
      "      Level2       0.45      0.52      0.48        96\n",
      "      Level3       0.54      0.46      0.50       123\n",
      "      Level4       0.45      0.51      0.48        72\n",
      "      Level5       0.86      0.53      0.66        45\n",
      "\n",
      "    accuracy                           0.55       432\n",
      "   macro avg       0.59      0.55      0.56       432\n",
      "weighted avg       0.57      0.55      0.55       432\n",
      "\n"
     ]
    }
   ],
   "source": [
    "# Obtain Recall, Precision and F-Measure for each class\n",
    "from sklearn import metrics\n",
    "\n",
    "print(metrics.classification_report(y_test, y_pred))"
   ]
  },
  {
   "cell_type": "markdown",
   "metadata": {},
   "source": [
    "## 4- Let's do a 10-fold cross-validation"
   ]
  },
  {
   "cell_type": "code",
   "execution_count": 6,
   "metadata": {},
   "outputs": [
    {
     "name": "stdout",
     "output_type": "stream",
     "text": [
      "[0.54166667 0.54861111 0.57638889 0.59027778 0.57638889 0.60416667\n",
      " 0.56944444 0.63888889 0.56643357 0.57342657]\n"
     ]
    }
   ],
   "source": [
    "# Method 1\n",
    "from sklearn.model_selection import cross_val_score  \n",
    "from sklearn.model_selection import cross_val_predict  \n",
    "from sklearn.metrics import accuracy_score\n",
    "\n",
    "cv_scores = cross_val_score(nb.KNeighborsClassifier(),  \n",
    "                            X=X,  \n",
    "                            y=Y,  \n",
    "                            cv=10, scoring='accuracy')  \n",
    "\n",
    "# cv_scores is a list with 10 accuracies (one for each validation)\n",
    "print(cv_scores)"
   ]
  },
  {
   "cell_type": "code",
   "execution_count": 25,
   "metadata": {},
   "outputs": [
    {
     "name": "stdout",
     "output_type": "stream",
     "text": [
      "0.34424533799533796\n",
      "0.02434237698451611\n"
     ]
    }
   ],
   "source": [
    "# Let's get the mean of the 10 validations (and standard deviation of them)\n",
    "print(np.mean(cv_scores))\n",
    "print(np.std(cv_scores))"
   ]
  },
  {
   "cell_type": "code",
   "execution_count": 7,
   "metadata": {},
   "outputs": [
    {
     "name": "stdout",
     "output_type": "stream",
     "text": [
      "[[210  79  12   0   0]\n",
      " [ 95 157  56   5   0]\n",
      " [ 32  83 235  54   0]\n",
      " [  4   9 107 131  20]\n",
      " [  0   0  10  40  99]]\n",
      "0.5785813630041725\n"
     ]
    }
   ],
   "source": [
    "# Method 2\n",
    "# Build confussion matrix of all 10 cross-validations\n",
    "predicted = cross_val_predict(nb.KNeighborsClassifier(), X=X, y=Y,  cv=10)  \n",
    "\n",
    "print(sklearn.metrics.confusion_matrix(Y, predicted))\n",
    "print(sklearn.metrics.accuracy_score(Y, predicted))"
   ]
  },
  {
   "cell_type": "code",
   "execution_count": 30,
   "metadata": {},
   "outputs": [
    {
     "data": {
      "image/png": "[encoded data removed]",
      "text/plain": [
       "<Figure size 180x180 with 1 Axes>"
      ]
     },
     "metadata": {
      "needs_background": "light"
     },
     "output_type": "display_data"
    }
   ],
   "source": [
    "confmat = sklearn.metrics.confusion_matrix(Y, predicted)\n",
    "\n",
    "fig, ax = plt.subplots(figsize=(2.5, 2.5))\n",
    "ax.matshow(confmat, cmap=plt.cm.Blues, alpha=0.3)\n",
    "for i in range(confmat.shape[0]):\n",
    "    for j in range(confmat.shape[1]):\n",
    "        ax.text(x=j, y=i, s=confmat[i, j], va='center', ha='center',fontsize=7)\n",
    "\n",
    "plt.xlabel('Predicted label')\n",
    "plt.ylabel('True label')\n",
    "\n",
    "plt.tight_layout()\n",
    "plt.savefig('ConMatrix.png', dpi=600)\n",
    "plt.show()"
   ]
  },
  {
   "cell_type": "code",
   "execution_count": 31,
   "metadata": {},
   "outputs": [
    {
     "name": "stdout",
     "output_type": "stream",
     "text": [
      "              precision    recall  f1-score   support\n",
      "\n",
      "      Level1       0.00      0.00      0.00         2\n",
      "     Level10       0.20      0.38      0.26        16\n",
      "     Level11       0.00      0.00      0.00        12\n",
      "     Level12       0.14      0.07      0.10        14\n",
      "     Level13       0.17      0.25      0.20         4\n",
      "     Level14       0.00      0.00      0.00         3\n",
      "     Level15       0.00      0.00      0.00         8\n",
      "     Level16       0.00      0.00      0.00         0\n",
      "     Level17       0.00      0.00      0.00         4\n",
      "      Level2       0.14      0.17      0.15         6\n",
      "      Level3       0.34      0.34      0.34        29\n",
      "      Level4       0.38      0.39      0.38        59\n",
      "      Level5       0.45      0.61      0.52        96\n",
      "      Level6       0.26      0.18      0.21        60\n",
      "      Level7       0.47      0.41      0.44        63\n",
      "      Level8       0.27      0.25      0.26        32\n",
      "      Level9       0.05      0.04      0.05        24\n",
      "\n",
      "    accuracy                           0.34       432\n",
      "   macro avg       0.17      0.18      0.17       432\n",
      "weighted avg       0.32      0.34      0.32       432\n",
      "\n"
     ]
    },
    {
     "name": "stderr",
     "output_type": "stream",
     "text": [
      "/home/ferran/Documents/uni/MD/LAB/DataMiningHousePrices/venv/lib/python3.6/site-packages/sklearn/metrics/_classification.py:1268: UndefinedMetricWarning: Precision and F-score are ill-defined and being set to 0.0 in labels with no predicted samples. Use `zero_division` parameter to control this behavior.\n",
      "  _warn_prf(average, modifier, msg_start, len(result))\n",
      "/home/ferran/Documents/uni/MD/LAB/DataMiningHousePrices/venv/lib/python3.6/site-packages/sklearn/metrics/_classification.py:1268: UndefinedMetricWarning: Recall and F-score are ill-defined and being set to 0.0 in labels with no true samples. Use `zero_division` parameter to control this behavior.\n",
      "  _warn_prf(average, modifier, msg_start, len(result))\n"
     ]
    }
   ],
   "source": [
    "print(metrics.classification_report(y_test, y_pred))"
   ]
  },
  {
   "cell_type": "markdown",
   "metadata": {},
   "source": [
    "### [Optional] Let's see how ammount of training data influences accuracy "
   ]
  },
  {
   "cell_type": "code",
   "execution_count": 13,
   "metadata": {},
   "outputs": [
    {
     "data": {
      "image/png": "[encoded data removed]",
      "text/plain": [
       "<matplotlib.figure.Figure at 0x25776b8cb38>"
      ]
     },
     "metadata": {},
     "output_type": "display_data"
    }
   ],
   "source": [
    "import matplotlib.pyplot as plt\n",
    "from sklearn.model_selection import learning_curve\n",
    "\n",
    "train_sizes, train_scores, test_scores =\\\n",
    "                learning_curve(estimator=nb.KNeighborsClassifier(n_neighbors=3),\n",
    "                               X=X,\n",
    "                               y=y,\n",
    "                               train_sizes=np.linspace(0.05, 1.0, 10),\n",
    "                               cv=10,\n",
    "                               n_jobs=-1)\n",
    "\n",
    "train_mean = np.mean(train_scores, axis=1)\n",
    "train_std = np.std(train_scores, axis=1)\n",
    "test_mean = np.mean(test_scores, axis=1)\n",
    "test_std = np.std(test_scores, axis=1)\n",
    "\n",
    "plt.plot(train_sizes, train_mean,\n",
    "         color='blue', marker='o',\n",
    "         markersize=5, label='training accuracy')\n",
    "\n",
    "plt.fill_between(train_sizes,\n",
    "                 train_mean + train_std,\n",
    "                 train_mean - train_std,\n",
    "                 alpha=0.15, color='blue')\n",
    "\n",
    "plt.plot(train_sizes, test_mean,\n",
    "         color='green', linestyle='--',\n",
    "         marker='s', markersize=5,\n",
    "         label='validation accuracy')\n",
    "\n",
    "plt.fill_between(train_sizes,\n",
    "                 test_mean + test_std,\n",
    "                 test_mean - test_std,\n",
    "                 alpha=0.15, color='green')\n",
    "\n",
    "plt.grid(True)\n",
    "plt.xlabel('Number of training samples')\n",
    "plt.ylabel('Accuracy')\n",
    "plt.legend(loc='lower right')\n",
    "plt.ylim([0.8, 1.03])\n",
    "plt.tight_layout()\n",
    "plt.savefig('learning_curve.png', dpi=600)\n",
    "plt.show()"
   ]
  },
  {
   "cell_type": "markdown",
   "metadata": {},
   "source": [
    "## 5- Finding parameters for k-NN"
   ]
  },
  {
   "cell_type": "code",
   "execution_count": 8,
   "metadata": {},
   "outputs": [
    {
     "name": "stdout",
     "output_type": "stream",
     "text": [
      "Accuracy 1 neighbour: 0.5426831683168316\n",
      "Accuracy 3 neighbours: 0.5506138613861387\n",
      "Accuracy 5 neighbours: 0.5645247524752476\n",
      "Accuracy 7 neighbours: 0.5575445544554455\n",
      "Accuracy 9 neighbours: 0.5535841584158416\n"
     ]
    }
   ],
   "source": [
    "# See parameters in\n",
    "# http://scikit-learn.org/stable/modules/generated/sklearn.neighbors.KNeighborsClassifier.html\n",
    "\n",
    "# Results with different parameters: k\n",
    "cv_scores = cross_val_score(nb.KNeighborsClassifier(n_neighbors=1), X=X_train, y=y_train,  cv=10)  \n",
    "print(\"Accuracy 1 neighbour:\", np.mean(cv_scores))\n",
    "\n",
    "cv_scores = cross_val_score(nb.KNeighborsClassifier(n_neighbors=3), X=X_train, y=y_train,  cv=10)  \n",
    "print(\"Accuracy 3 neighbours:\",  np.mean(cv_scores))\n",
    "\n",
    "cv_scores = cross_val_score(nb.KNeighborsClassifier(n_neighbors=5), X=X_train, y=y_train,  cv=10)  \n",
    "print(\"Accuracy 5 neighbours:\",  np.mean(cv_scores))\n",
    "\n",
    "cv_scores = cross_val_score(nb.KNeighborsClassifier(n_neighbors=7), X=X_train, y=y_train,  cv=10)  \n",
    "print(\"Accuracy 7 neighbours:\",  np.mean(cv_scores))\n",
    "\n",
    "cv_scores = cross_val_score(nb.KNeighborsClassifier(n_neighbors=9), X=X_train, y=y_train,  cv=10)  \n",
    "print(\"Accuracy 9 neighbours:\",  np.mean(cv_scores))"
   ]
  },
  {
   "cell_type": "code",
   "execution_count": 9,
   "metadata": {},
   "outputs": [
    {
     "name": "stdout",
     "output_type": "stream",
     "text": [
      "Accuracy 1 neighbour: and distance weighting: 0.5426831683168316\n",
      "Accuracy 3 neighbour: and distance weighting: 0.5596039603960397\n",
      "Accuracy 5 neighbour: and distance weighting: 0.5715346534653465\n",
      "Accuracy 7 neighbour: and distance weighting: 0.5665049504950496\n",
      "Accuracy 9 neighbour: and distance weighting: 0.5665544554455446\n"
     ]
    }
   ],
   "source": [
    "# Results with different parameters: k and distance weighting\n",
    "cv_scores = cross_val_score(nb.KNeighborsClassifier(n_neighbors=1,weights='distance'), X=X_train, y=y_train,  cv=10)  \n",
    "print(\"Accuracy 1 neighbour: and distance weighting:\", np.mean(cv_scores))\n",
    "\n",
    "cv_scores = cross_val_score(nb.KNeighborsClassifier(n_neighbors=3,weights='distance'), X=X_train, y=y_train,  cv=10)  \n",
    "print(\"Accuracy 3 neighbour: and distance weighting:\", np.mean(cv_scores))\n",
    "\n",
    "cv_scores = cross_val_score(nb.KNeighborsClassifier(n_neighbors=5,weights='distance'), X=X_train, y=y_train,  cv=10)  \n",
    "print(\"Accuracy 5 neighbour: and distance weighting:\", np.mean(cv_scores))\n",
    "\n",
    "cv_scores = cross_val_score(nb.KNeighborsClassifier(n_neighbors=7,weights='distance'), X=X_train, y=y_train,  cv=10)  \n",
    "print(\"Accuracy 7 neighbour: and distance weighting:\", np.mean(cv_scores))\n",
    "\n",
    "cv_scores = cross_val_score(nb.KNeighborsClassifier(n_neighbors=9,weights='distance'), X=X_train, y=y_train,  cv=10)  \n",
    "print(\"Accuracy 9 neighbour: and distance weighting:\", np.mean(cv_scores))"
   ]
  },
  {
   "cell_type": "markdown",
   "metadata": {},
   "source": [
    "### Authomatically find best parameters:"
   ]
  },
  {
   "cell_type": "code",
   "execution_count": 15,
   "metadata": {},
   "outputs": [
    {
     "data": {
      "image/png": "[encoded data removed]",
      "text/plain": [
       "<Figure size 432x288 with 1 Axes>"
      ]
     },
     "metadata": {
      "needs_background": "light"
     },
     "output_type": "display_data"
    }
   ],
   "source": [
    "lr = []\n",
    "for ki in range(1,30,2):\n",
    "    cv_scores = cross_val_score(nb.KNeighborsClassifier(n_neighbors=ki), X=X_train, y=y_train, cv=10)\n",
    "    lr.append(np.mean(cv_scores))\n",
    "plt.plot(range(1,30,2),lr,'b',label='No weighting')\n",
    "\n",
    "lr = []\n",
    "for ki in range(1,30,2):\n",
    "    cv_scores = cross_val_score(nb.KNeighborsClassifier(n_neighbors=ki,weights='distance'), X=X_train, y=y_train, cv=10)\n",
    "    lr.append(np.mean(cv_scores))\n",
    "plt.plot(range(1,30,2),lr,'r',label='Weighting')\n",
    "plt.xlabel('k')\n",
    "plt.ylabel('Accuracy')\n",
    "plt.legend(loc='upper right')\n",
    "plt.grid()\n",
    "plt.tight_layout()\n",
    "\n",
    "plt.show()"
   ]
  },
  {
   "cell_type": "markdown",
   "metadata": {},
   "source": [
    "### Do the same using Grid Search method in python"
   ]
  },
  {
   "cell_type": "code",
   "execution_count": 11,
   "metadata": {},
   "outputs": [
    {
     "name": "stdout",
     "output_type": "stream",
     "text": [
      "Best Params= {'n_neighbors': 5, 'weights': 'distance'} Accuracy= 0.5715346534653465\n"
     ]
    }
   ],
   "source": [
    "from sklearn.model_selection import GridSearchCV\n",
    "params = {'n_neighbors':list(range(1,30,2)), 'weights':('distance','uniform')}\n",
    "knc = nb.KNeighborsClassifier()\n",
    "clf = GridSearchCV(knc, param_grid=params,cv=10,n_jobs=-1)  # If cv is integer, by default is Stratifyed \n",
    "clf.fit(X_train, y_train)\n",
    "print(\"Best Params=\",clf.best_params_, \"Accuracy=\", clf.best_score_)"
   ]
  },
  {
   "cell_type": "markdown",
   "metadata": {},
   "source": [
    "Apply models with best parameters found trained with all training data to the test set"
   ]
  },
  {
   "cell_type": "code",
   "execution_count": 18,
   "metadata": {},
   "outputs": [
    {
     "name": "stdout",
     "output_type": "stream",
     "text": [
      "[[59  0  0  0  0  0  0  0  0  0]\n",
      " [ 0 49  0  0  0  0  0  0  0  0]\n",
      " [ 0  0 48  0  0  0  0  1  0  0]\n",
      " [ 0  0  0 64  0  0  0  0  0  0]\n",
      " [ 0  0  0  0 61  0  0  0  0  0]\n",
      " [ 0  0  0  0  0 46  0  0  0  1]\n",
      " [ 0  0  0  0  0  0 51  0  0  0]\n",
      " [ 0  0  0  0  0  0  0 56  0  1]\n",
      " [ 0  1  0  0  0  0  0  0 45  0]\n",
      " [ 0  0  0  0  0  1  0  0  0 56]]\n",
      "0.990740740741\n"
     ]
    }
   ],
   "source": [
    "parval=clf.best_params_\n",
    "knc = nb.KNeighborsClassifier(n_neighbors=parval['n_neighbors'],weights=parval['weights'])\n",
    "knc.fit(X_train, y_train)\n",
    "pred=knc.predict(X_test)\n",
    "print(sklearn.metrics.confusion_matrix(y_test, pred))\n",
    "print(sklearn.metrics.accuracy_score(y_test, pred))"
   ]
  },
  {
   "cell_type": "code",
   "execution_count": 19,
   "metadata": {},
   "outputs": [
    {
     "name": "stdout",
     "output_type": "stream",
     "text": [
      "Can approximate by Normal Distribution?:  False\n",
      "Interval 95% confidence: 0.991 +/- 0.008\n"
     ]
    },
    {
     "data": {
      "text/plain": [
       "(0.98266245251249873, 0.99881902896898267)"
      ]
     },
     "execution_count": 19,
     "metadata": {},
     "output_type": "execute_result"
    }
   ],
   "source": [
    "# interval confidence\n",
    "from statsmodels.stats.proportion import proportion_confint\n",
    "\n",
    "epsilon = sklearn.metrics.accuracy_score(y_test, pred)\n",
    "print(\"Can approximate by Normal Distribution?: \",X_test.shape[0]*epsilon*(1-epsilon)>5)\n",
    "print(\"Interval 95% confidence:\", \"{0:.3f}\".format(epsilon), \"+/-\", \"{0:.3f}\".format(1.96*np.sqrt(epsilon*(1-epsilon)/X_test.shape[0])))\n",
    "# or equivalent \n",
    "proportion_confint(count=epsilon*X_test.shape[0], nobs=X_test.shape[0], alpha=0.05, method='normal')"
   ]
  },
  {
   "cell_type": "code",
   "execution_count": 20,
   "metadata": {},
   "outputs": [
    {
     "data": {
      "text/plain": [
       "(0.9781611871249579, 0.9963446921115061)"
      ]
     },
     "execution_count": 20,
     "metadata": {},
     "output_type": "execute_result"
    }
   ],
   "source": [
    "#Using Binomial distribution\n",
    "\n",
    "proportion_confint(count=epsilon*X_test.shape[0], nobs=X_test.shape[0], alpha=0.05, method='binom_test')"
   ]
  },
  {
   "cell_type": "markdown",
   "metadata": {},
   "source": [
    "### Mcnemar's Test implementation"
   ]
  },
  {
   "cell_type": "code",
   "execution_count": 21,
   "metadata": {},
   "outputs": [
    {
     "name": "stdout",
     "output_type": "stream",
     "text": [
      "Have the classifiers significant different accuracy?: True\n"
     ]
    }
   ],
   "source": [
    "# Build two classifiers\n",
    "\n",
    "# Classifier 1 (3 Neighbours) successes\n",
    "y_pred = cross_val_predict(nb.KNeighborsClassifier(n_neighbors=3), X=X, y=y,  cv=10) \n",
    "res1=np.zeros(y.shape)\n",
    "res1[y_pred==y]=1\n",
    "\n",
    "# Classifier 2 (7 Neighbours) 2 successes\n",
    "y_pred = cross_val_predict(nb.KNeighborsClassifier(n_neighbors=7), X=X, y=y,  cv=10) \n",
    "res2=np.zeros(y.shape)\n",
    "res2[y_pred==y]=1\n",
    "\n",
    "# Build contingency matrix\n",
    "n00 = np.sum([res1[res2==1]==1])\n",
    "n11 = np.sum([res1[res2==0]==0])\n",
    "n10 = np.sum([res1[res2==1]==0])\n",
    "n01 = np.sum([res1[res2==0]==1])\n",
    "\n",
    "# Chi -square test\n",
    "print(\"Have the classifiers significant different accuracy?:\",(np.abs(n01-n10)-1)**2/(n01+n10)>3.84)"
   ]
  },
  {
   "cell_type": "markdown",
   "metadata": {},
   "source": [
    "### Take a look to the errors in test set"
   ]
  },
  {
   "cell_type": "code",
   "execution_count": 22,
   "metadata": {},
   "outputs": [
    {
     "name": "stdout",
     "output_type": "stream",
     "text": [
      "Guess: 9 Reality: 7\n"
     ]
    },
    {
     "data": {
      "text/plain": [
       "<matplotlib.figure.Figure at 0x2577e3ae940>"
      ]
     },
     "metadata": {},
     "output_type": "display_data"
    },
    {
     "data": {
      "image/png": "[encoded data removed]",
      "text/plain": [
       "<matplotlib.figure.Figure at 0x2577e3ca400>"
      ]
     },
     "metadata": {},
     "output_type": "display_data"
    },
    {
     "name": "stdout",
     "output_type": "stream",
     "text": [
      "Guess: 7 Reality: 2\n"
     ]
    },
    {
     "data": {
      "image/png": "[encoded data removed]",
      "text/plain": [
       "<matplotlib.figure.Figure at 0x2577e3eeda0>"
      ]
     },
     "metadata": {},
     "output_type": "display_data"
    },
    {
     "name": "stdout",
     "output_type": "stream",
     "text": [
      "Guess: 9 Reality: 5\n"
     ]
    },
    {
     "data": {
      "image/png": "[encoded data removed]",
      "text/plain": [
       "<matplotlib.figure.Figure at 0x2577e3c0da0>"
      ]
     },
     "metadata": {},
     "output_type": "display_data"
    },
    {
     "name": "stdout",
     "output_type": "stream",
     "text": [
      "Guess: 1 Reality: 8\n"
     ]
    },
    {
     "data": {
      "image/png": "[encoded data removed]",
      "text/plain": [
       "<matplotlib.figure.Figure at 0x2577e4922e8>"
      ]
     },
     "metadata": {},
     "output_type": "display_data"
    },
    {
     "name": "stdout",
     "output_type": "stream",
     "text": [
      "Guess: 5 Reality: 9\n"
     ]
    },
    {
     "data": {
      "image/png": "[encoded data removed]",
      "text/plain": [
       "<matplotlib.figure.Figure at 0x2577e48a0f0>"
      ]
     },
     "metadata": {},
     "output_type": "display_data"
    }
   ],
   "source": [
    "testerrors=[i for i,k in enumerate(pred) if k!=y_test[i]]\n",
    "plt.gray()\n",
    "plt.ion\n",
    "for i in testerrors:\n",
    "    plt.matshow(X_test[i].reshape(8,8))\n",
    "    plt.xticks([]); plt.yticks([]);\n",
    "    print(\"Guess:\", pred[i],\"Reality:\",y_test[i])\n",
    "    plt.show()"
   ]
  },
  {
   "cell_type": "markdown",
   "metadata": {},
   "source": [
    "# Exercises:\n",
    "\n",
    "### Do a 10-fold Cross-Validation using Naive Bayes"
   ]
  },
  {
   "cell_type": "code",
   "execution_count": 23,
   "metadata": {},
   "outputs": [
    {
     "name": "stdout",
     "output_type": "stream",
     "text": [
      "[[54  1  0  0  3  0  0  1  0  0]\n",
      " [ 0 42  1  0  0  0  0  0  6  0]\n",
      " [ 0  5 32  0  0  0  0  0 12  0]\n",
      " [ 0  2  2 51  0  1  0  3  5  0]\n",
      " [ 1  4  0  0 54  0  0  1  1  0]\n",
      " [ 0  2  0  1  0 41  0  2  1  0]\n",
      " [ 0  0  0  0  0  0 51  0  0  0]\n",
      " [ 0  0  0  0  0  0  0 57  0  0]\n",
      " [ 0 10  0  1  0  0  0  1 34  0]\n",
      " [ 0  2  0  1  2  3  1  7  8 33]]\n",
      "\n",
      "Accuracy: 0.831481481481\n",
      "\n",
      "             precision    recall  f1-score   support\n",
      "\n",
      "          0       0.98      0.92      0.95        59\n",
      "          1       0.62      0.86      0.72        49\n",
      "          2       0.91      0.65      0.76        49\n",
      "          3       0.94      0.80      0.86        64\n",
      "          4       0.92      0.89      0.90        61\n",
      "          5       0.91      0.87      0.89        47\n",
      "          6       0.98      1.00      0.99        51\n",
      "          7       0.79      1.00      0.88        57\n",
      "          8       0.51      0.74      0.60        46\n",
      "          9       1.00      0.58      0.73        57\n",
      "\n",
      "avg / total       0.87      0.83      0.83       540\n",
      "\n"
     ]
    },
    {
     "data": {
      "text/plain": [
       "(0.7973917698694923, 0.861327901247561)"
      ]
     },
     "execution_count": 23,
     "metadata": {},
     "output_type": "execute_result"
    }
   ],
   "source": [
    "from sklearn.naive_bayes import GaussianNB  # For numerical featuresm assuming normal distribution\n",
    "from sklearn.naive_bayes import MultinomialNB  # For features with counting numbers (f.i. hown many times word appears in doc)\n",
    "from sklearn.naive_bayes import BernoulliNB  # For binari features (f.i. word appears or not in document)\n",
    "\n",
    "# No parameters to tune\n",
    "\n",
    "clf = GaussianNB()\n",
    "pred = clf.fit(X_train, y_train).predict(X_test)\n",
    "print(sklearn.metrics.confusion_matrix(y_test, pred))\n",
    "print()\n",
    "print(\"Accuracy:\", sklearn.metrics.accuracy_score(y_test, pred))\n",
    "print()\n",
    "print(metrics.classification_report(y_test, pred))\n",
    "epsilon = sklearn.metrics.accuracy_score(y_test, pred)\n",
    "proportion_confint(count=epsilon*X_test.shape[0], nobs=X_test.shape[0], alpha=0.05, method='binom_test')"
   ]
  },
  {
   "cell_type": "markdown",
   "metadata": {},
   "source": [
    "### Reproduce in Rapidminer"
   ]
  },
  {
   "cell_type": "code",
   "execution_count": 24,
   "metadata": {
    "collapsed": true
   },
   "outputs": [],
   "source": [
    "# Export data to Rapidminer\n",
    "\n",
    "import pandas as pd \n",
    "df = pd.DataFrame(np.c_[ digits.data, digits.target])\n",
    "df.to_csv(\"digits2.csv\",index=False)\n",
    "\n",
    "# Go to Rapidminer and load the data set. Reproduce grid Search there and report results on the test set"
   ]
  },
  {
   "cell_type": "markdown",
   "metadata": {},
   "source": [
    "### Play with noise"
   ]
  },
  {
   "cell_type": "code",
   "execution_count": 25,
   "metadata": {},
   "outputs": [
    {
     "data": {
      "text/plain": [
       "array([[12, 12, 11, ...,  1, 12,  6],\n",
       "       [12,  4, 14, ...,  7,  1,  6],\n",
       "       [ 0,  3,  2, ...,  4, 10, 15],\n",
       "       ..., \n",
       "       [ 4,  6,  2, ...,  9, 12,  1],\n",
       "       [12,  9,  6, ..., 10,  3,  3],\n",
       "       [ 8,  1,  8, ...,  0,  3,  7]])"
      ]
     },
     "execution_count": 25,
     "metadata": {},
     "output_type": "execute_result"
    }
   ],
   "source": [
    "# Lets' add noise to data: 64 new columns with random data\n",
    "nrcols=64\n",
    "col = np.random.randint(0,17,(X_train.data.shape[0],nrcols))\n",
    "col"
   ]
  },
  {
   "cell_type": "code",
   "execution_count": 26,
   "metadata": {},
   "outputs": [
    {
     "data": {
      "text/plain": [
       "array([[  0.,   0.,   2., ...,   1.,  12.,   6.],\n",
       "       [  0.,   0.,   3., ...,   7.,   1.,   6.],\n",
       "       [  0.,   0.,   6., ...,   4.,  10.,  15.],\n",
       "       ..., \n",
       "       [  0.,   0.,   7., ...,   9.,  12.,   1.],\n",
       "       [  0.,   0.,   0., ...,  10.,   3.,   3.],\n",
       "       [  0.,   0.,   8., ...,   0.,   3.,   7.]])"
      ]
     },
     "execution_count": 26,
     "metadata": {},
     "output_type": "execute_result"
    }
   ],
   "source": [
    "Xr=np.hstack((X_train,col))\n",
    "Xr"
   ]
  },
  {
   "cell_type": "code",
   "execution_count": 27,
   "metadata": {
    "collapsed": true
   },
   "outputs": [],
   "source": [
    "col = np.random.randint(0,17,(X_test.data.shape[0],nrcols))\n",
    "Xr_test=np.hstack((X_test,col))"
   ]
  },
  {
   "cell_type": "code",
   "execution_count": 28,
   "metadata": {},
   "outputs": [
    {
     "data": {
      "image/png": "[encoded data removed]",
      "text/plain": [
       "<matplotlib.figure.Figure at 0x2577e4ea978>"
      ]
     },
     "metadata": {},
     "output_type": "display_data"
    }
   ],
   "source": [
    "lr = []\n",
    "for ki in range(1,30,2):\n",
    "    knc = nb.KNeighborsClassifier(n_neighbors=ki)\n",
    "    knc.fit(X_train, y_train)\n",
    "    lr.append(knc.score(X_test, y_test))         \n",
    "plt.plot(range(1,30,2),lr,'b',label='No noise')\n",
    "\n",
    "lr = []\n",
    "for ki in range(1,30,2):\n",
    "    knc = nb.KNeighborsClassifier(n_neighbors=ki)\n",
    "    knc.fit(Xr, y_train)\n",
    "    lr.append(knc.score(Xr_test, y_test))  \n",
    "plt.plot(range(1,30,2),lr,'r',label='With noise')\n",
    "\n",
    "plt.xlabel('k')\n",
    "plt.ylabel('Accuracy')\n",
    "plt.legend(loc='upper right')\n",
    "plt.grid()\n",
    "plt.tight_layout()\n",
    "\n",
    "plt.show()"
   ]
  },
  {
   "cell_type": "code",
   "execution_count": 29,
   "metadata": {},
   "outputs": [],
   "source": [
    "from sklearn.feature_selection import SelectKBest\n",
    "from sklearn.feature_selection import chi2, mutual_info_classif\n",
    "\n",
    "fs = SelectKBest(mutual_info_classif, k=64).fit(Xr, y_train) #chi2\n",
    "X_new = fs.transform(Xr)\n",
    "Xtr_new = fs.transform(Xr_test)"
   ]
  },
  {
   "cell_type": "code",
   "execution_count": 30,
   "metadata": {},
   "outputs": [
    {
     "data": {
      "image/png": "[encoded data removed]",
      "text/plain": [
       "<matplotlib.figure.Figure at 0x2577e3f7c18>"
      ]
     },
     "metadata": {},
     "output_type": "display_data"
    }
   ],
   "source": [
    "lr = []\n",
    "for ki in range(1,30,2):\n",
    "    knc = nb.KNeighborsClassifier(n_neighbors=ki)\n",
    "    knc.fit(Xr, y_train)\n",
    "    lr.append(knc.score(Xr_test, y_test))    \n",
    "plt.plot(range(1,30,2),lr,'r',label='With noise')\n",
    "\n",
    "lr = []\n",
    "for ki in range(1,30,2):\n",
    "    knc = nb.KNeighborsClassifier(n_neighbors=ki)\n",
    "    knc.fit(X_train, y_train)\n",
    "    lr.append(knc.score(X_test, y_test))   \n",
    "plt.plot(range(1,30,2),lr,'b',label='No noise')\n",
    "\n",
    "lr = []\n",
    "for ki in range(1,30,2):\n",
    "    knc = nb.KNeighborsClassifier(n_neighbors=ki)\n",
    "    knc.fit(X_new, y_train)\n",
    "    lr.append(knc.score(Xtr_new, y_test))   \n",
    "plt.plot(range(1,30,2),lr,'g',label='Noise removed')\n",
    "\n",
    "plt.xlabel('k')\n",
    "plt.ylabel('Accuracy')\n",
    "plt.legend(loc='upper right')\n",
    "plt.grid()\n",
    "plt.tight_layout()\n",
    "\n",
    "plt.show()"
   ]
  },
  {
   "cell_type": "markdown",
   "metadata": {},
   "source": [
    "### Change the scorer function"
   ]
  },
  {
   "cell_type": "code",
   "execution_count": 34,
   "metadata": {},
   "outputs": [
    {
     "name": "stdout",
     "output_type": "stream",
     "text": [
      "Best Params= {'n_neighbors': 3, 'weights': 'distance'} Accuracy= 0.984089101034\n",
      "[[59  0  0  0  0  0  0  0  0  0]\n",
      " [ 0 49  0  0  0  0  0  0  0  0]\n",
      " [ 0  0 48  0  0  0  0  1  0  0]\n",
      " [ 0  0  0 64  0  0  0  0  0  0]\n",
      " [ 0  0  0  0 61  0  0  0  0  0]\n",
      " [ 0  0  0  0  0 46  0  0  0  1]\n",
      " [ 0  0  0  0  0  0 51  0  0  0]\n",
      " [ 0  0  0  0  0  0  0 56  0  1]\n",
      " [ 0  1  0  0  0  0  0  0 45  0]\n",
      " [ 0  0  0  0  0  1  0  0  0 56]]\n",
      "0.990740740741\n",
      "             precision    recall  f1-score   support\n",
      "\n",
      "          0       1.00      1.00      1.00        59\n",
      "          1       0.98      1.00      0.99        49\n",
      "          2       1.00      0.98      0.99        49\n",
      "          3       1.00      1.00      1.00        64\n",
      "          4       1.00      1.00      1.00        61\n",
      "          5       0.98      0.98      0.98        47\n",
      "          6       1.00      1.00      1.00        51\n",
      "          7       0.98      0.98      0.98        57\n",
      "          8       1.00      0.98      0.99        46\n",
      "          9       0.97      0.98      0.97        57\n",
      "\n",
      "avg / total       0.99      0.99      0.99       540\n",
      "\n",
      "Precision for \"9\": 0.966\n"
     ]
    }
   ],
   "source": [
    "#Let's try to optimize parameters for precision of class \"9\"\n",
    "\n",
    "from sklearn.metrics import precision_score, recall_score, f1_score\n",
    "from sklearn.metrics import make_scorer\n",
    "\n",
    "params = {'n_neighbors':list(range(1,30,2)), 'weights':('distance','uniform')}\n",
    "knc = nb.KNeighborsClassifier()\n",
    "clf = GridSearchCV(knc, param_grid=params,cv=10,n_jobs=-1,scoring=\"accuracy\") \n",
    "clf.fit(X_train, y_train)\n",
    "print(\"Best Params=\",clf.best_params_, \"Accuracy=\", clf.best_score_)\n",
    "\n",
    "parval=clf.best_params_\n",
    "knc = nb.KNeighborsClassifier(n_neighbors=parval['n_neighbors'],weights=parval['weights'])\n",
    "knc.fit(X_train, y_train)\n",
    "pred=knc.predict(X_test)\n",
    "print(sklearn.metrics.confusion_matrix(y_test, pred))\n",
    "print(sklearn.metrics.accuracy_score(y_test, pred))\n",
    "print(metrics.classification_report(y_test, pred))\n",
    "\n",
    "print('Precision for \"9\": %.3f' % precision_score(y_true=y_test, y_pred=pred,average='macro',labels=[9]))"
   ]
  },
  {
   "cell_type": "code",
   "execution_count": 35,
   "metadata": {},
   "outputs": [
    {
     "name": "stdout",
     "output_type": "stream",
     "text": [
      "Best Params= {'n_neighbors': 7, 'weights': 'distance'} Precision= 0.98507697553\n",
      "[[58  0  0  0  1  0  0  0  0  0]\n",
      " [ 0 49  0  0  0  0  0  0  0  0]\n",
      " [ 0  0 48  0  0  0  0  1  0  0]\n",
      " [ 0  0  0 64  0  0  0  0  0  0]\n",
      " [ 0  0  0  0 61  0  0  0  0  0]\n",
      " [ 0  0  0  0  0 46  0  0  0  1]\n",
      " [ 0  0  0  0  0  0 51  0  0  0]\n",
      " [ 0  0  0  0  0  0  0 57  0  0]\n",
      " [ 0  1  0  0  0  0  0  0 45  0]\n",
      " [ 0  0  0  0  0  1  0  0  0 56]]\n",
      "0.990740740741\n",
      "             precision    recall  f1-score   support\n",
      "\n",
      "          0       1.00      0.98      0.99        59\n",
      "          1       0.98      1.00      0.99        49\n",
      "          2       1.00      0.98      0.99        49\n",
      "          3       1.00      1.00      1.00        64\n",
      "          4       0.98      1.00      0.99        61\n",
      "          5       0.98      0.98      0.98        47\n",
      "          6       1.00      1.00      1.00        51\n",
      "          7       0.98      1.00      0.99        57\n",
      "          8       1.00      0.98      0.99        46\n",
      "          9       0.98      0.98      0.98        57\n",
      "\n",
      "avg / total       0.99      0.99      0.99       540\n",
      "\n"
     ]
    }
   ],
   "source": [
    "# Precison of class 9 is low compared with others. \n",
    "# Assume precision of \"9\" is critical. Let's change optimize parameters by defining precision for 9.\n",
    "\n",
    "scorer = make_scorer(precision_score,average='macro',labels=[9])\n",
    "#scorer = make_scorer(score_func=precision_score, pos_label=9, greater_is_better=True,average='micro')\n",
    "\n",
    "\n",
    "params = {'n_neighbors':list(range(1,30,2)), 'weights':('distance','uniform')}\n",
    "knc = nb.KNeighborsClassifier()\n",
    "clf = GridSearchCV(knc, param_grid=params,cv=10,n_jobs=-1,scoring=scorer) \n",
    "clf.fit(X_train, y_train)\n",
    "print(\"Best Params=\",clf.best_params_, \"Precision=\", clf.best_score_)\n",
    "\n",
    "parval=clf.best_params_\n",
    "knc = nb.KNeighborsClassifier(n_neighbors=parval['n_neighbors'],weights=parval['weights'])\n",
    "knc.fit(X_train, y_train)\n",
    "pred=knc.predict(X_test)\n",
    "print(sklearn.metrics.confusion_matrix(y_test, pred))\n",
    "print(sklearn.metrics.accuracy_score(y_test, pred))\n",
    "print(metrics.classification_report(y_test, pred))\n"
   ]
  },
  {
   "cell_type": "code",
   "execution_count": 36,
   "metadata": {
    "scrolled": true
   },
   "outputs": [
    {
     "name": "stdout",
     "output_type": "stream",
     "text": [
      "Guess: 4 Reality: 0\n"
     ]
    },
    {
     "data": {
      "text/plain": [
       "<matplotlib.figure.Figure at 0x2577e43aef0>"
      ]
     },
     "metadata": {},
     "output_type": "display_data"
    },
    {
     "data": {
      "image/png": "[encoded data removed]",
      "text/plain": [
       "<matplotlib.figure.Figure at 0x2577e4500b8>"
      ]
     },
     "metadata": {},
     "output_type": "display_data"
    },
    {
     "name": "stdout",
     "output_type": "stream",
     "text": [
      "Guess: 7 Reality: 2\n"
     ]
    },
    {
     "data": {
      "image/png": "[encoded data removed]",
      "text/plain": [
       "<matplotlib.figure.Figure at 0x2577c1ceef0>"
      ]
     },
     "metadata": {},
     "output_type": "display_data"
    },
    {
     "name": "stdout",
     "output_type": "stream",
     "text": [
      "Guess: 9 Reality: 5\n"
     ]
    },
    {
     "data": {
      "image/png": "[encoded data removed]",
      "text/plain": [
       "<matplotlib.figure.Figure at 0x2577e43aef0>"
      ]
     },
     "metadata": {},
     "output_type": "display_data"
    },
    {
     "name": "stdout",
     "output_type": "stream",
     "text": [
      "Guess: 1 Reality: 8\n"
     ]
    },
    {
     "data": {
      "image/png": "[encoded data removed]",
      "text/plain": [
       "<matplotlib.figure.Figure at 0x2577e4f3e80>"
      ]
     },
     "metadata": {},
     "output_type": "display_data"
    },
    {
     "name": "stdout",
     "output_type": "stream",
     "text": [
      "Guess: 5 Reality: 9\n"
     ]
    },
    {
     "data": {
      "image/png": "[encoded data removed]",
      "text/plain": [
       "<matplotlib.figure.Figure at 0x2577e408588>"
      ]
     },
     "metadata": {},
     "output_type": "display_data"
    }
   ],
   "source": [
    "testerrors=[i for i,k in enumerate(pred) if k!=y_test[i]]\n",
    "plt.gray()\n",
    "plt.ion\n",
    "for i in testerrors:\n",
    "    plt.matshow(X_test[i].reshape(8,8))\n",
    "    plt.xticks([]); plt.yticks([]);\n",
    "    print(\"Guess:\", pred[i],\"Reality:\",y_test[i])\n",
    "    plt.show()"
   ]
  },
  {
   "cell_type": "code",
   "execution_count": null,
   "metadata": {},
   "outputs": [],
   "source": []
  }
 ],
 "metadata": {
  "kernelspec": {
   "display_name": "Python 3",
   "language": "python",
   "name": "python3"
  },
  "language_info": {
   "codemirror_mode": {
    "name": "ipython",
    "version": 3
   },
   "file_extension": ".py",
   "mimetype": "text/x-python",
   "name": "python",
   "nbconvert_exporter": "python",
   "pygments_lexer": "ipython3",
   "version": "3.7.1"
  }
 },
 "nbformat": 4,
 "nbformat_minor": 2
}
