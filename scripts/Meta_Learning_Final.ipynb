{
 "cells": [
  {
   "cell_type": "code",
   "execution_count": 1,
   "metadata": {},
   "outputs": [],
   "source": [
    "import pandas as pd\n",
    "import numpy as np\n",
    "import matplotlib.pyplot as plt\n",
    "\n",
    "import sklearn.model_selection as cv\n",
    "import sklearn.feature_selection as feat\n",
    "import sklearn.preprocessing as Pre\n",
    "import sklearn.tree as Tree\n",
    "import sklearn.ensemble as Ens\n",
    "import sklearn.metrics as m\n",
    "\n",
    "import warnings\n",
    "warnings.filterwarnings('ignore')"
   ]
  },
  {
   "cell_type": "markdown",
   "metadata": {},
   "source": [
    "# Meta-learning methods"
   ]
  },
  {
   "cell_type": "code",
   "execution_count": 2,
   "metadata": {},
   "outputs": [],
   "source": [
    "data = pd.read_csv('../datasets/preprocessed/train.csv', sep=',', na_values=\"NA\").drop(columns='Id')"
   ]
  },
  {
   "cell_type": "code",
   "execution_count": 3,
   "metadata": {},
   "outputs": [
    {
     "data": {
      "text/html": [
       "<div>\n",
       "<style scoped>\n",
       "    .dataframe tbody tr th:only-of-type {\n",
       "        vertical-align: middle;\n",
       "    }\n",
       "\n",
       "    .dataframe tbody tr th {\n",
       "        vertical-align: top;\n",
       "    }\n",
       "\n",
       "    .dataframe thead th {\n",
       "        text-align: right;\n",
       "    }\n",
       "</style>\n",
       "<table border=\"1\" class=\"dataframe\">\n",
       "  <thead>\n",
       "    <tr style=\"text-align: right;\">\n",
       "      <th></th>\n",
       "      <th>MSSubClass</th>\n",
       "      <th>MSZoning</th>\n",
       "      <th>LotArea</th>\n",
       "      <th>LotShape</th>\n",
       "      <th>LandContour</th>\n",
       "      <th>LotConfig</th>\n",
       "      <th>Neighborhood</th>\n",
       "      <th>Condition1</th>\n",
       "      <th>BldgType</th>\n",
       "      <th>HouseStyle</th>\n",
       "      <th>...</th>\n",
       "      <th>Fence</th>\n",
       "      <th>MiscVal</th>\n",
       "      <th>SaleType</th>\n",
       "      <th>SaleCondition</th>\n",
       "      <th>SalePrice</th>\n",
       "      <th>MasVnr</th>\n",
       "      <th>SecondFloor</th>\n",
       "      <th>Baths</th>\n",
       "      <th>Porch</th>\n",
       "      <th>Pool</th>\n",
       "    </tr>\n",
       "  </thead>\n",
       "  <tbody>\n",
       "    <tr>\n",
       "      <th>0</th>\n",
       "      <td>G</td>\n",
       "      <td>RH</td>\n",
       "      <td>0.185945</td>\n",
       "      <td>1.0</td>\n",
       "      <td>Lvl</td>\n",
       "      <td>Inside</td>\n",
       "      <td>Edwards</td>\n",
       "      <td>Artery</td>\n",
       "      <td>1Fam</td>\n",
       "      <td>2Story</td>\n",
       "      <td>...</td>\n",
       "      <td>0.0</td>\n",
       "      <td>0.0</td>\n",
       "      <td>WD</td>\n",
       "      <td>Normal</td>\n",
       "      <td>Level2</td>\n",
       "      <td>0.0</td>\n",
       "      <td>1.0</td>\n",
       "      <td>0.4</td>\n",
       "      <td>True</td>\n",
       "      <td>0.0</td>\n",
       "    </tr>\n",
       "    <tr>\n",
       "      <th>1</th>\n",
       "      <td>A</td>\n",
       "      <td>RL</td>\n",
       "      <td>0.198890</td>\n",
       "      <td>1.0</td>\n",
       "      <td>Lvl</td>\n",
       "      <td>Inside</td>\n",
       "      <td>NAmes</td>\n",
       "      <td>Norm</td>\n",
       "      <td>1Fam</td>\n",
       "      <td>1Story</td>\n",
       "      <td>...</td>\n",
       "      <td>1.0</td>\n",
       "      <td>0.0</td>\n",
       "      <td>WD</td>\n",
       "      <td>Family</td>\n",
       "      <td>Level2</td>\n",
       "      <td>1.0</td>\n",
       "      <td>0.0</td>\n",
       "      <td>0.0</td>\n",
       "      <td>True</td>\n",
       "      <td>0.0</td>\n",
       "    </tr>\n",
       "    <tr>\n",
       "      <th>2</th>\n",
       "      <td>L</td>\n",
       "      <td>RL</td>\n",
       "      <td>0.260616</td>\n",
       "      <td>1.0</td>\n",
       "      <td>Lvl</td>\n",
       "      <td>Corner</td>\n",
       "      <td>NridgHt</td>\n",
       "      <td>Norm</td>\n",
       "      <td>Twnhs</td>\n",
       "      <td>1Story</td>\n",
       "      <td>...</td>\n",
       "      <td>0.0</td>\n",
       "      <td>0.0</td>\n",
       "      <td>New</td>\n",
       "      <td>Partial</td>\n",
       "      <td>Level4</td>\n",
       "      <td>1.0</td>\n",
       "      <td>0.0</td>\n",
       "      <td>0.4</td>\n",
       "      <td>True</td>\n",
       "      <td>0.0</td>\n",
       "    </tr>\n",
       "    <tr>\n",
       "      <th>3</th>\n",
       "      <td>A</td>\n",
       "      <td>RL</td>\n",
       "      <td>0.251230</td>\n",
       "      <td>1.0</td>\n",
       "      <td>Lvl</td>\n",
       "      <td>Inside</td>\n",
       "      <td>NAmes</td>\n",
       "      <td>Norm</td>\n",
       "      <td>1Fam</td>\n",
       "      <td>1Story</td>\n",
       "      <td>...</td>\n",
       "      <td>1.0</td>\n",
       "      <td>0.0</td>\n",
       "      <td>WD</td>\n",
       "      <td>Abnorml</td>\n",
       "      <td>Level1</td>\n",
       "      <td>1.0</td>\n",
       "      <td>0.0</td>\n",
       "      <td>0.0</td>\n",
       "      <td>False</td>\n",
       "      <td>0.0</td>\n",
       "    </tr>\n",
       "    <tr>\n",
       "      <th>4</th>\n",
       "      <td>E</td>\n",
       "      <td>RL</td>\n",
       "      <td>0.174186</td>\n",
       "      <td>1.0</td>\n",
       "      <td>Lvl</td>\n",
       "      <td>Inside</td>\n",
       "      <td>SWISU</td>\n",
       "      <td>Norm</td>\n",
       "      <td>1Fam</td>\n",
       "      <td>1.5Fin</td>\n",
       "      <td>...</td>\n",
       "      <td>0.0</td>\n",
       "      <td>0.0</td>\n",
       "      <td>WD</td>\n",
       "      <td>Normal</td>\n",
       "      <td>Level2</td>\n",
       "      <td>0.0</td>\n",
       "      <td>1.0</td>\n",
       "      <td>0.4</td>\n",
       "      <td>True</td>\n",
       "      <td>0.0</td>\n",
       "    </tr>\n",
       "  </tbody>\n",
       "</table>\n",
       "<p>5 rows × 47 columns</p>\n",
       "</div>"
      ],
      "text/plain": [
       "  MSSubClass MSZoning   LotArea  LotShape LandContour LotConfig Neighborhood  \\\n",
       "0          G       RH  0.185945       1.0         Lvl    Inside      Edwards   \n",
       "1          A       RL  0.198890       1.0         Lvl    Inside        NAmes   \n",
       "2          L       RL  0.260616       1.0         Lvl    Corner      NridgHt   \n",
       "3          A       RL  0.251230       1.0         Lvl    Inside        NAmes   \n",
       "4          E       RL  0.174186       1.0         Lvl    Inside        SWISU   \n",
       "\n",
       "  Condition1 BldgType HouseStyle  ...  Fence  MiscVal SaleType SaleCondition  \\\n",
       "0     Artery     1Fam     2Story  ...    0.0      0.0       WD        Normal   \n",
       "1       Norm     1Fam     1Story  ...    1.0      0.0       WD        Family   \n",
       "2       Norm    Twnhs     1Story  ...    0.0      0.0      New       Partial   \n",
       "3       Norm     1Fam     1Story  ...    1.0      0.0       WD       Abnorml   \n",
       "4       Norm     1Fam     1.5Fin  ...    0.0      0.0       WD        Normal   \n",
       "\n",
       "  SalePrice  MasVnr SecondFloor Baths  Porch Pool  \n",
       "0    Level2     0.0         1.0   0.4   True  0.0  \n",
       "1    Level2     1.0         0.0   0.0   True  0.0  \n",
       "2    Level4     1.0         0.0   0.4   True  0.0  \n",
       "3    Level1     1.0         0.0   0.0  False  0.0  \n",
       "4    Level2     0.0         1.0   0.4   True  0.0  \n",
       "\n",
       "[5 rows x 47 columns]"
      ]
     },
     "execution_count": 3,
     "metadata": {},
     "output_type": "execute_result"
    }
   ],
   "source": [
    "data.head()"
   ]
  },
  {
   "cell_type": "code",
   "execution_count": 4,
   "metadata": {},
   "outputs": [],
   "source": [
    "kfold = cv.StratifiedKFold(n_splits=10, random_state=1) "
   ]
  },
  {
   "cell_type": "code",
   "execution_count": 5,
   "metadata": {},
   "outputs": [],
   "source": [
    "X = data.drop(columns='SalePrice')\n",
    "Y = data.loc[:,'SalePrice']\n",
    "\n",
    "le = Pre.LabelEncoder()\n",
    "le.fit(Y)\n",
    "Y = le.fit_transform(Y)\n",
    "i = 0\n",
    "for t in X.dtypes:\n",
    "    if t == object or t == bool:\n",
    "        le.fit(X.iloc[:,i])\n",
    "        X.iloc[:,i] = le.fit_transform(X.iloc[:,i])\n",
    "    i += 1\n",
    "\n",
    "X_train, X_test, y_train, y_test = cv.train_test_split(X, Y, test_size=.3, random_state=1)"
   ]
  },
  {
   "cell_type": "code",
   "execution_count": 6,
   "metadata": {},
   "outputs": [],
   "source": [
    "datapca = pd.read_csv('../datasets/preprocessed/train_pca.csv', sep=',', na_values=\"NA\").drop(columns='Id')"
   ]
  },
  {
   "cell_type": "code",
   "execution_count": 7,
   "metadata": {},
   "outputs": [
    {
     "data": {
      "text/html": [
       "<div>\n",
       "<style scoped>\n",
       "    .dataframe tbody tr th:only-of-type {\n",
       "        vertical-align: middle;\n",
       "    }\n",
       "\n",
       "    .dataframe tbody tr th {\n",
       "        vertical-align: top;\n",
       "    }\n",
       "\n",
       "    .dataframe thead th {\n",
       "        text-align: right;\n",
       "    }\n",
       "</style>\n",
       "<table border=\"1\" class=\"dataframe\">\n",
       "  <thead>\n",
       "    <tr style=\"text-align: right;\">\n",
       "      <th></th>\n",
       "      <th>0</th>\n",
       "      <th>1</th>\n",
       "      <th>2</th>\n",
       "      <th>3</th>\n",
       "      <th>4</th>\n",
       "      <th>5</th>\n",
       "    </tr>\n",
       "  </thead>\n",
       "  <tbody>\n",
       "    <tr>\n",
       "      <th>0</th>\n",
       "      <td>-0.753748</td>\n",
       "      <td>0.636941</td>\n",
       "      <td>-0.164025</td>\n",
       "      <td>-0.204247</td>\n",
       "      <td>0.549835</td>\n",
       "      <td>0.539191</td>\n",
       "    </tr>\n",
       "    <tr>\n",
       "      <th>1</th>\n",
       "      <td>-0.117306</td>\n",
       "      <td>-0.688384</td>\n",
       "      <td>-0.493263</td>\n",
       "      <td>0.796882</td>\n",
       "      <td>-0.008604</td>\n",
       "      <td>-0.239237</td>\n",
       "    </tr>\n",
       "    <tr>\n",
       "      <th>2</th>\n",
       "      <td>0.787114</td>\n",
       "      <td>-0.469485</td>\n",
       "      <td>-0.626444</td>\n",
       "      <td>-0.272131</td>\n",
       "      <td>-0.467151</td>\n",
       "      <td>0.305142</td>\n",
       "    </tr>\n",
       "    <tr>\n",
       "      <th>3</th>\n",
       "      <td>-0.172825</td>\n",
       "      <td>-0.708999</td>\n",
       "      <td>-0.480148</td>\n",
       "      <td>0.864432</td>\n",
       "      <td>0.145394</td>\n",
       "      <td>-0.106748</td>\n",
       "    </tr>\n",
       "    <tr>\n",
       "      <th>4</th>\n",
       "      <td>-0.488369</td>\n",
       "      <td>0.642514</td>\n",
       "      <td>-0.179286</td>\n",
       "      <td>-0.202405</td>\n",
       "      <td>0.023691</td>\n",
       "      <td>-0.091447</td>\n",
       "    </tr>\n",
       "  </tbody>\n",
       "</table>\n",
       "</div>"
      ],
      "text/plain": [
       "          0         1         2         3         4         5\n",
       "0 -0.753748  0.636941 -0.164025 -0.204247  0.549835  0.539191\n",
       "1 -0.117306 -0.688384 -0.493263  0.796882 -0.008604 -0.239237\n",
       "2  0.787114 -0.469485 -0.626444 -0.272131 -0.467151  0.305142\n",
       "3 -0.172825 -0.708999 -0.480148  0.864432  0.145394 -0.106748\n",
       "4 -0.488369  0.642514 -0.179286 -0.202405  0.023691 -0.091447"
      ]
     },
     "execution_count": 7,
     "metadata": {},
     "output_type": "execute_result"
    }
   ],
   "source": [
    "datapca.head()"
   ]
  },
  {
   "cell_type": "code",
   "execution_count": 8,
   "metadata": {},
   "outputs": [],
   "source": [
    "X_trainpca, X_testpca, y_trainpca, y_testpca = cv.train_test_split(datapca, Y, test_size=.3, random_state=1)"
   ]
  },
  {
   "cell_type": "markdown",
   "metadata": {},
   "source": [
    "## Bagging"
   ]
  },
  {
   "cell_type": "code",
   "execution_count": 9,
   "metadata": {},
   "outputs": [
    {
     "data": {
      "text/plain": [
       "0.804635761589404"
      ]
     },
     "execution_count": 9,
     "metadata": {},
     "output_type": "execute_result"
    }
   ],
   "source": [
    "bg = Ens.BaggingClassifier(base_estimator=Tree.DecisionTreeClassifier(), random_state=0).fit(X_train, y_train)\n",
    "bg.score(X_test,y_test)"
   ]
  },
  {
   "cell_type": "code",
   "execution_count": 10,
   "metadata": {},
   "outputs": [
    {
     "data": {
      "text/plain": [
       "0.808148893360161"
      ]
     },
     "execution_count": 10,
     "metadata": {},
     "output_type": "execute_result"
    }
   ],
   "source": [
    "cvs = cv.cross_val_score(Ens.BaggingClassifier(base_estimator=Tree.DecisionTreeClassifier(), random_state=0),\n",
    "                         X=X_train,y=y_train,cv=kfold)\n",
    "np.mean(cvs)"
   ]
  },
  {
   "cell_type": "code",
   "execution_count": 11,
   "metadata": {},
   "outputs": [
    {
     "name": "stdout",
     "output_type": "stream",
     "text": [
      "[[ 13  10   0   0   0]\n",
      " [  9 182   9   0   0]\n",
      " [  0  20  40   2   0]\n",
      " [  0   0   6   6   0]\n",
      " [  0   0   0   3   2]]\n",
      "0.804635761589404\n",
      "              precision    recall  f1-score   support\n",
      "\n",
      "           0       0.59      0.57      0.58        23\n",
      "           1       0.86      0.91      0.88       200\n",
      "           2       0.73      0.65      0.68        62\n",
      "           3       0.55      0.50      0.52        12\n",
      "           4       1.00      0.40      0.57         5\n",
      "\n",
      "    accuracy                           0.80       302\n",
      "   macro avg       0.74      0.60      0.65       302\n",
      "weighted avg       0.80      0.80      0.80       302\n",
      "\n"
     ]
    }
   ],
   "source": [
    "pred=bg.predict(X_test)\n",
    "\n",
    "print(m.confusion_matrix(y_test, pred))\n",
    "print(m.accuracy_score(y_test, pred))\n",
    "print(m.classification_report(y_test, pred))"
   ]
  },
  {
   "cell_type": "code",
   "execution_count": 12,
   "metadata": {},
   "outputs": [
    {
     "data": {
      "image/png": "[encoded data removed]",
      "text/plain": [
       "<Figure size 432x288 with 1 Axes>"
      ]
     },
     "metadata": {
      "needs_background": "light"
     },
     "output_type": "display_data"
    }
   ],
   "source": [
    "lb=[]\n",
    "for nest in [1,2,5,10,20,50,100,200]:\n",
    "    scores = cv.cross_val_score(Ens.BaggingClassifier(base_estimator=Tree.DecisionTreeClassifier(),\n",
    "                                                      n_estimators=nest),\n",
    "                                X_train, y_train, cv=kfold, scoring='f1_macro')\n",
    "    lb.append(scores.mean())\n",
    "\n",
    "lb2=[]   \n",
    "for nest in [1,2,5,10,20,50,100,200]:\n",
    "    scores = cv.cross_val_score(Ens.BaggingClassifier(base_estimator=Tree.DecisionTreeClassifier(),\n",
    "                                                      n_estimators=nest,\n",
    "                                                      max_features=0.35),\n",
    "                                X_train, y_train, cv=kfold, scoring='f1_macro')\n",
    "    lb2.append(scores.mean())\n",
    "\n",
    "lb3=[]\n",
    "for nest in [1,2,5,10,20,50,100,200]:\n",
    "    scores = cv.cross_val_score(Ens.BaggingClassifier(base_estimator=Tree.DecisionTreeClassifier(),\n",
    "                                                      n_estimators=nest,\n",
    "                                                      max_features=0.5),\n",
    "                                X_train, y_train, cv=kfold, scoring='f1_macro')\n",
    "    lb3.append(scores.mean())\n",
    "\n",
    "plt.plot([1,2,5,10,20,50,100,200],lb,'b',label='Default')\n",
    "plt.plot([1,2,5,10,20,50,100,200],lb3,'g',label='50% of features')\n",
    "plt.plot([1,2,5,10,20,50,100,200],lb2,'r',label='35% of features')\n",
    "plt.xlabel('Estimators')\n",
    "plt.ylabel('F1-score')\n",
    "plt.legend(loc='lower right')\n",
    "plt.grid()\n",
    "plt.tight_layout()\n",
    "\n",
    "plt.show()"
   ]
  },
  {
   "cell_type": "code",
   "execution_count": 13,
   "metadata": {},
   "outputs": [
    {
     "data": {
      "image/png": "[encoded data removed]",
      "text/plain": [
       "<Figure size 432x288 with 1 Axes>"
      ]
     },
     "metadata": {
      "needs_background": "light"
     },
     "output_type": "display_data"
    }
   ],
   "source": [
    "plt.plot([1,2,5,10,20,50,100,200],lb,'b',label='Default + Any depth')\n",
    "\n",
    "lb=[]\n",
    "for nest in [1,2,5,10,20,50,100,200]:\n",
    "    scores = cv.cross_val_score(Ens.BaggingClassifier(base_estimator=Tree.DecisionTreeClassifier(max_depth=3),\n",
    "                                                      n_estimators=nest),\n",
    "                                X_train, y_train, cv=kfold, scoring='f1_macro')\n",
    "    lb.append(scores.mean())\n",
    "\n",
    "lb4=[]\n",
    "for nest in [1,2,5,10,20,50,100,200]:\n",
    "    scores = cv.cross_val_score(Ens.BaggingClassifier(base_estimator=Tree.DecisionTreeClassifier(max_depth=5),\n",
    "                                                      n_estimators=nest),\n",
    "                                X_train, y_train, cv=kfold, scoring='f1_macro')\n",
    "    lb4.append(scores.mean())\n",
    "\n",
    "\n",
    "\n",
    "plt.plot([1,2,5,10,20,50,100,200],lb4,'g',label='Default + Max. depth 5')\n",
    "plt.plot([1,2,5,10,20,50,100,200],lb,'y',label='Default + Max. depth 3')\n",
    "plt.xlabel('Estimators')\n",
    "plt.ylabel('F1-score')\n",
    "plt.legend(loc='lower right')\n",
    "plt.grid()\n",
    "plt.tight_layout()\n",
    "\n",
    "plt.show()"
   ]
  },
  {
   "cell_type": "code",
   "execution_count": 14,
   "metadata": {},
   "outputs": [],
   "source": [
    "bestbg = Ens.BaggingClassifier(base_estimator=Tree.DecisionTreeClassifier(),\n",
    "                               n_estimators=[1,2,5,10,20,50,100,200][np.argmax(lb)])"
   ]
  },
  {
   "cell_type": "code",
   "execution_count": 15,
   "metadata": {},
   "outputs": [
    {
     "data": {
      "image/png": "[encoded data removed]",
      "text/plain": [
       "<Figure size 432x288 with 1 Axes>"
      ]
     },
     "metadata": {
      "needs_background": "light"
     },
     "output_type": "display_data"
    }
   ],
   "source": [
    "train_sizes, train_scores, test_scores =\\\n",
    "                cv.learning_curve(estimator=bestbg,\n",
    "                               X=X,\n",
    "                               y=Y,\n",
    "                               train_sizes=np.linspace(0.05, 1.0, 10),\n",
    "                               cv=10,\n",
    "                               n_jobs=1,\n",
    "                               scoring='f1_macro')\n",
    "\n",
    "train_mean = np.mean(train_scores, axis=1)\n",
    "train_std = np.std(train_scores, axis=1)\n",
    "test_mean = np.mean(test_scores, axis=1)\n",
    "test_std = np.std(test_scores, axis=1)\n",
    "\n",
    "plt.plot(train_sizes, train_mean,\n",
    "         color='blue', marker='o',\n",
    "         markersize=5, label='training accuracy')\n",
    "\n",
    "plt.fill_between(train_sizes,\n",
    "                 train_mean + train_std,\n",
    "                 train_mean - train_std,\n",
    "                 alpha=0.15, color='blue')\n",
    "\n",
    "plt.plot(train_sizes, test_mean,\n",
    "         color='green', linestyle='--',\n",
    "         marker='s', markersize=5,\n",
    "         label='validation accuracy')\n",
    "\n",
    "plt.fill_between(train_sizes,\n",
    "                 test_mean + test_std,\n",
    "                 test_mean - test_std,\n",
    "                 alpha=0.15, color='green')\n",
    "\n",
    "plt.grid(True)\n",
    "plt.xlabel('Number of training samples')\n",
    "plt.ylabel('F1-score')\n",
    "plt.legend(loc='lower right')\n",
    "plt.tight_layout()\n",
    "plt.savefig('learning_curve.png', dpi=600)\n",
    "plt.show()"
   ]
  },
  {
   "cell_type": "code",
   "execution_count": 16,
   "metadata": {},
   "outputs": [
    {
     "data": {
      "text/plain": [
       "0.7251655629139073"
      ]
     },
     "execution_count": 16,
     "metadata": {},
     "output_type": "execute_result"
    }
   ],
   "source": [
    "bg = bestbg.fit(X_trainpca, y_trainpca)\n",
    "bg.score(X_testpca,y_testpca)"
   ]
  },
  {
   "cell_type": "code",
   "execution_count": 17,
   "metadata": {},
   "outputs": [
    {
     "data": {
      "text/plain": [
       "0.7685714285714286"
      ]
     },
     "execution_count": 17,
     "metadata": {},
     "output_type": "execute_result"
    }
   ],
   "source": [
    "cvs = cv.cross_val_score(Ens.BaggingClassifier(base_estimator=Tree.DecisionTreeClassifier(), random_state=0),\n",
    "                         X=X_trainpca,y=y_trainpca,cv=kfold)\n",
    "np.mean(cvs)"
   ]
  },
  {
   "cell_type": "code",
   "execution_count": 18,
   "metadata": {},
   "outputs": [
    {
     "name": "stdout",
     "output_type": "stream",
     "text": [
      "[[ 16   7   0   0   0]\n",
      " [ 22 161  17   0   0]\n",
      " [  0  24  37   1   0]\n",
      " [  0   0   7   5   0]\n",
      " [  0   0   1   4   0]]\n",
      "0.7251655629139073\n",
      "              precision    recall  f1-score   support\n",
      "\n",
      "           0       0.42      0.70      0.52        23\n",
      "           1       0.84      0.81      0.82       200\n",
      "           2       0.60      0.60      0.60        62\n",
      "           3       0.50      0.42      0.45        12\n",
      "           4       0.00      0.00      0.00         5\n",
      "\n",
      "    accuracy                           0.73       302\n",
      "   macro avg       0.47      0.50      0.48       302\n",
      "weighted avg       0.73      0.73      0.72       302\n",
      "\n"
     ]
    }
   ],
   "source": [
    "pred=bg.predict(X_testpca)\n",
    "\n",
    "print(m.confusion_matrix(y_testpca, pred))\n",
    "print(m.accuracy_score(y_testpca, pred))\n",
    "print(m.classification_report(y_testpca, pred))"
   ]
  },
  {
   "cell_type": "markdown",
   "metadata": {},
   "source": [
    "## Random Forests"
   ]
  },
  {
   "cell_type": "code",
   "execution_count": 19,
   "metadata": {},
   "outputs": [
    {
     "data": {
      "text/plain": [
       "0.847682119205298"
      ]
     },
     "execution_count": 19,
     "metadata": {},
     "output_type": "execute_result"
    }
   ],
   "source": [
    "rfc = Ens.RandomForestClassifier().fit(X_train, y_train)\n",
    "rfc.score(X_test,y_test)"
   ]
  },
  {
   "cell_type": "code",
   "execution_count": 20,
   "metadata": {},
   "outputs": [
    {
     "data": {
      "text/plain": [
       "0.8181287726358148"
      ]
     },
     "execution_count": 20,
     "metadata": {},
     "output_type": "execute_result"
    }
   ],
   "source": [
    "cvs = cv.cross_val_score(Ens.RandomForestClassifier(),X=X_train,y=y_train,cv=kfold)\n",
    "np.mean(cvs)"
   ]
  },
  {
   "cell_type": "code",
   "execution_count": 21,
   "metadata": {},
   "outputs": [
    {
     "name": "stdout",
     "output_type": "stream",
     "text": [
      "[[ 12  11   0   0   0]\n",
      " [  2 191   7   0   0]\n",
      " [  0  18  44   0   0]\n",
      " [  0   0   5   7   0]\n",
      " [  0   0   0   3   2]]\n",
      "0.847682119205298\n",
      "              precision    recall  f1-score   support\n",
      "\n",
      "           0       0.86      0.52      0.65        23\n",
      "           1       0.87      0.95      0.91       200\n",
      "           2       0.79      0.71      0.75        62\n",
      "           3       0.70      0.58      0.64        12\n",
      "           4       1.00      0.40      0.57         5\n",
      "\n",
      "    accuracy                           0.85       302\n",
      "   macro avg       0.84      0.63      0.70       302\n",
      "weighted avg       0.85      0.85      0.84       302\n",
      "\n"
     ]
    }
   ],
   "source": [
    "pred=rfc.predict(X_test)\n",
    "print(m.confusion_matrix(y_test, pred))\n",
    "print(m.accuracy_score(y_test, pred))\n",
    "print(m.classification_report(y_test, pred))"
   ]
  },
  {
   "cell_type": "code",
   "execution_count": 22,
   "metadata": {},
   "outputs": [
    {
     "data": {
      "image/png": "[encoded data removed]",
      "text/plain": [
       "<Figure size 432x288 with 1 Axes>"
      ]
     },
     "metadata": {
      "needs_background": "light"
     },
     "output_type": "display_data"
    }
   ],
   "source": [
    "lb=[]\n",
    "for nest in [1,2,5,10,20,50,100,200]:\n",
    "    scores = cv.cross_val_score(Ens.RandomForestClassifier(n_estimators=nest),\n",
    "                                X_train, y_train, cv=kfold, scoring='f1_macro')\n",
    "    lb.append(scores.mean())\n",
    "\n",
    "lb2=[]   \n",
    "for nest in [1,2,5,10,20,50,100,200]:\n",
    "    scores = cv.cross_val_score(Ens.RandomForestClassifier(n_estimators=nest, max_features=0.35),\n",
    "                                X_train, y_train, cv=kfold, scoring='f1_macro')\n",
    "    lb2.append(scores.mean())\n",
    "\n",
    "lb3=[]\n",
    "for nest in [1,2,5,10,20,50,100,200]:\n",
    "    scores = cv.cross_val_score(Ens.RandomForestClassifier(n_estimators=nest, max_features=0.5),\n",
    "                                X_train, y_train, cv=kfold, scoring='f1_macro')\n",
    "    lb3.append(scores.mean())\n",
    "\n",
    "plt.plot([1,2,5,10,20,50,100,200],lb,'b',label='Default')\n",
    "plt.plot([1,2,5,10,20,50,100,200],lb3,'g',label='50% of features')\n",
    "plt.plot([1,2,5,10,20,50,100,200],lb2,'r',label='35% of features')\n",
    "plt.xlabel('Estimators')\n",
    "plt.ylabel('F1-score')\n",
    "plt.legend(loc='lower right')\n",
    "plt.grid()\n",
    "plt.tight_layout()\n",
    "\n",
    "plt.show()"
   ]
  },
  {
   "cell_type": "code",
   "execution_count": 23,
   "metadata": {},
   "outputs": [
    {
     "data": {
      "image/png": "[encoded data removed]",
      "text/plain": [
       "<Figure size 432x288 with 1 Axes>"
      ]
     },
     "metadata": {
      "needs_background": "light"
     },
     "output_type": "display_data"
    }
   ],
   "source": [
    "plt.plot([1,2,5,10,20,50,100,200],lb3,'b',label='50% + Any depth')\n",
    "\n",
    "lb=[]\n",
    "for nest in [1,2,5,10,20,50,100,200]:\n",
    "    scores = cv.cross_val_score(Ens.RandomForestClassifier(n_estimators=nest,\n",
    "                                                           max_features=0.50,\n",
    "                                                           max_depth=3),\n",
    "                                X_train, y_train, cv=kfold, scoring='f1_macro')\n",
    "    lb.append(scores.mean())\n",
    "\n",
    "lb2=[]\n",
    "for nest in [1,2,5,10,20,50,100,200]:\n",
    "    scores = cv.cross_val_score(Ens.RandomForestClassifier(n_estimators=nest,\n",
    "                                                           max_features=0.50,\n",
    "                                                           max_depth=5),\n",
    "                                X_train, y_train, cv=kfold, scoring='f1_macro')\n",
    "    lb2.append(scores.mean())\n",
    "    \n",
    "plt.plot([1,2,5,10,20,50,100,200],lb2,'r',label='50% + Max. depth 5')\n",
    "plt.plot([1,2,5,10,20,50,100,200],lb,'g',label='50% + Max. depth 3')\n",
    "plt.xlabel('Estimators')\n",
    "plt.ylabel('F1-score')\n",
    "plt.legend(loc='lower right')\n",
    "plt.grid()\n",
    "plt.tight_layout()\n",
    "\n",
    "plt.show()"
   ]
  },
  {
   "cell_type": "code",
   "execution_count": 24,
   "metadata": {},
   "outputs": [
    {
     "data": {
      "image/png": "[encoded data removed]",
      "text/plain": [
       "<Figure size 432x288 with 1 Axes>"
      ]
     },
     "metadata": {
      "needs_background": "light"
     },
     "output_type": "display_data"
    }
   ],
   "source": [
    "lb=[]   \n",
    "for nest in [1,2,5,10,20,50,100,200]:\n",
    "    scores = cv.cross_val_score(Ens.RandomForestClassifier(n_estimators=nest,\n",
    "                                                           criterion='entropy',\n",
    "                                                           max_features=0.5),\n",
    "                                X_train, y_train, cv=kfold, scoring='f1_macro')\n",
    "    lb.append(scores.mean())\n",
    "    \n",
    "plt.plot([1,2,5,10,20,50,100,200],lb3,'b',label='gini')\n",
    "plt.plot([1,2,5,10,20,50,100,200],lb,'r',label='entropy')\n",
    "plt.xlabel('Estimators')\n",
    "plt.ylabel('F1-score')\n",
    "plt.legend(loc='lower right')\n",
    "plt.grid()\n",
    "plt.tight_layout()\n",
    "\n",
    "plt.show()"
   ]
  },
  {
   "cell_type": "code",
   "execution_count": 25,
   "metadata": {},
   "outputs": [],
   "source": [
    "bestrf = Ens.RandomForestClassifier(n_estimators=[1,2,5,10,20,50,100,200][np.argmax(lb)],\n",
    "                                    criterion='entropy',\n",
    "                                    max_features=0.5)"
   ]
  },
  {
   "cell_type": "code",
   "execution_count": 26,
   "metadata": {},
   "outputs": [
    {
     "data": {
      "image/png": "[encoded data removed]",
      "text/plain": [
       "<Figure size 432x288 with 1 Axes>"
      ]
     },
     "metadata": {
      "needs_background": "light"
     },
     "output_type": "display_data"
    }
   ],
   "source": [
    "train_sizes, train_scores, test_scores =\\\n",
    "                cv.learning_curve(bestrf,\n",
    "                               X=X,\n",
    "                               y=Y,\n",
    "                               train_sizes=np.linspace(0.05, 1.0, 10),\n",
    "                               cv=10,\n",
    "                               n_jobs=1,\n",
    "                               scoring='f1_macro')\n",
    "\n",
    "train_mean = np.mean(train_scores, axis=1)\n",
    "train_std = np.std(train_scores, axis=1)\n",
    "test_mean = np.mean(test_scores, axis=1)\n",
    "test_std = np.std(test_scores, axis=1)\n",
    "\n",
    "plt.plot(train_sizes, train_mean,\n",
    "         color='blue', marker='o',\n",
    "         markersize=5, label='training accuracy')\n",
    "\n",
    "plt.fill_between(train_sizes,\n",
    "                 train_mean + train_std,\n",
    "                 train_mean - train_std,\n",
    "                 alpha=0.15, color='blue')\n",
    "\n",
    "plt.plot(train_sizes, test_mean,\n",
    "         color='green', linestyle='--',\n",
    "         marker='s', markersize=5,\n",
    "         label='validation accuracy')\n",
    "\n",
    "plt.fill_between(train_sizes,\n",
    "                 test_mean + test_std,\n",
    "                 test_mean - test_std,\n",
    "                 alpha=0.15, color='green')\n",
    "\n",
    "plt.grid(True)\n",
    "plt.xlabel('Number of training samples')\n",
    "plt.ylabel('F1-score')\n",
    "plt.legend(loc='lower right')\n",
    "plt.tight_layout()\n",
    "plt.savefig('learning_curve.png', dpi=600)\n",
    "plt.show()"
   ]
  },
  {
   "cell_type": "code",
   "execution_count": 27,
   "metadata": {},
   "outputs": [
    {
     "name": "stdout",
     "output_type": "stream",
     "text": [
      "[1.29498704e-02 3.26284659e-03 5.05465295e-02 2.13124284e-03\n",
      " 5.74906600e-03 3.51835945e-03 2.07174121e-02 2.35071069e-03\n",
      " 2.21516571e-03 4.07728146e-03 1.83920336e-01 5.17651763e-02\n",
      " 8.67296591e-03 1.41070017e-04 1.41357260e-02 4.41042638e-02\n",
      " 2.66006813e-03 1.62833947e-02 2.08767383e-03 7.16345815e-03\n",
      " 1.31250027e-01 7.00885877e-03 1.99818349e-02 1.89818882e-01\n",
      " 5.18192954e-03 8.94317889e-04 2.17019931e-02 1.72521968e-02\n",
      " 6.10072932e-04 9.41494157e-03 9.03846204e-03 6.31857548e-03\n",
      " 7.50195270e-03 6.60879306e-02 1.92664941e-03 3.98902745e-03\n",
      " 2.21623626e-03 1.09636032e-03 1.28662838e-03 5.35709857e-03\n",
      " 1.56154513e-02 2.34707070e-03 2.21043784e-03 3.12859223e-02\n",
      " 2.15452354e-03 0.00000000e+00]\n"
     ]
    }
   ],
   "source": [
    "rfc = bestrf\n",
    "rfc = rfc.fit(X, Y)\n",
    "print(rfc.feature_importances_)  "
   ]
  },
  {
   "cell_type": "code",
   "execution_count": 28,
   "metadata": {},
   "outputs": [
    {
     "name": "stdout",
     "output_type": "stream",
     "text": [
      "(1006, 6)\n",
      "0.6960057783247731\n",
      "0.6384197348386073\n"
     ]
    }
   ],
   "source": [
    "model = feat.SelectFromModel(rfc, prefit=True, threshold=0.05)\n",
    "X_new = model.transform(X)\n",
    "print(X_new.shape)\n",
    "\n",
    "print(np.mean(cv.cross_val_score(rfc, X=X, y=Y, cv=kfold, scoring='f1_macro')))\n",
    "print(np.mean(cv.cross_val_score(rfc, X=X_new, y=Y, cv=kfold, scoring='f1_macro')))"
   ]
  },
  {
   "cell_type": "code",
   "execution_count": 29,
   "metadata": {},
   "outputs": [
    {
     "data": {
      "image/png": "[encoded data removed]",
      "text/plain": [
       "<Figure size 432x288 with 1 Axes>"
      ]
     },
     "metadata": {
      "needs_background": "light"
     },
     "output_type": "display_data"
    },
    {
     "name": "stdout",
     "output_type": "stream",
     "text": [
      "Best threshold:  0.01413572601888696\n"
     ]
    }
   ],
   "source": [
    "thresholds=rfc.feature_importances_\n",
    "\n",
    "l=[]\n",
    "for threshold in thresholds:\n",
    "    model = feat.SelectFromModel(rfc, prefit=True, threshold=threshold)\n",
    "    X_new = model.transform(X)\n",
    "    acc = np.mean(cv.cross_val_score(rfc, X=X_new, y=Y, cv=kfold, scoring='f1_macro'))\n",
    "    l.append(acc)\n",
    "    \n",
    "plt.scatter(thresholds,l)\n",
    "plt.show()\n",
    "\n",
    "print('Best threshold: ',thresholds[np.argmax(l)])"
   ]
  },
  {
   "cell_type": "code",
   "execution_count": 30,
   "metadata": {},
   "outputs": [],
   "source": [
    "model = feat.SelectFromModel(rfc, prefit=True, threshold=thresholds[np.argmax(l)])\n",
    "X_new = model.transform(X)"
   ]
  },
  {
   "cell_type": "code",
   "execution_count": 31,
   "metadata": {},
   "outputs": [],
   "source": [
    "X_train2, X_test2, y_train2, y_test2 = cv.train_test_split(X_new, Y, test_size=.3, random_state=1)"
   ]
  },
  {
   "cell_type": "code",
   "execution_count": 32,
   "metadata": {},
   "outputs": [
    {
     "data": {
      "text/plain": [
       "0.8543046357615894"
      ]
     },
     "execution_count": 32,
     "metadata": {},
     "output_type": "execute_result"
    }
   ],
   "source": [
    "rfc = bestrf.fit(X_train2, y_train2)\n",
    "rfc.score(X_test2,y_test2)"
   ]
  },
  {
   "cell_type": "code",
   "execution_count": 33,
   "metadata": {},
   "outputs": [
    {
     "data": {
      "text/plain": [
       "0.8252515090543259"
      ]
     },
     "execution_count": 33,
     "metadata": {},
     "output_type": "execute_result"
    }
   ],
   "source": [
    "cvs = cv.cross_val_score(bestrf,X=X_train2,y=y_train2,cv=kfold)\n",
    "np.mean(cvs)"
   ]
  },
  {
   "cell_type": "code",
   "execution_count": 34,
   "metadata": {},
   "outputs": [
    {
     "name": "stdout",
     "output_type": "stream",
     "text": [
      "[[ 12  11   0   0   0]\n",
      " [  3 188   9   0   0]\n",
      " [  0  12  49   1   0]\n",
      " [  0   0   5   7   0]\n",
      " [  0   0   1   2   2]]\n",
      "0.8543046357615894\n",
      "              precision    recall  f1-score   support\n",
      "\n",
      "           0       0.80      0.52      0.63        23\n",
      "           1       0.89      0.94      0.91       200\n",
      "           2       0.77      0.79      0.78        62\n",
      "           3       0.70      0.58      0.64        12\n",
      "           4       1.00      0.40      0.57         5\n",
      "\n",
      "    accuracy                           0.85       302\n",
      "   macro avg       0.83      0.65      0.71       302\n",
      "weighted avg       0.85      0.85      0.85       302\n",
      "\n"
     ]
    }
   ],
   "source": [
    "pred=rfc.predict(X_test2)\n",
    "print(m.confusion_matrix(y_test2, pred))\n",
    "print(m.accuracy_score(y_test2, pred))\n",
    "print(m.classification_report(y_test2, pred))"
   ]
  },
  {
   "cell_type": "code",
   "execution_count": 35,
   "metadata": {},
   "outputs": [
    {
     "data": {
      "text/plain": [
       "0.7980132450331126"
      ]
     },
     "execution_count": 35,
     "metadata": {},
     "output_type": "execute_result"
    }
   ],
   "source": [
    "rfc = bestrf.fit(X_trainpca, y_trainpca)\n",
    "rfc.score(X_testpca,y_testpca)"
   ]
  },
  {
   "cell_type": "code",
   "execution_count": 36,
   "metadata": {},
   "outputs": [
    {
     "data": {
      "text/plain": [
       "0.7826961770623743"
      ]
     },
     "execution_count": 36,
     "metadata": {},
     "output_type": "execute_result"
    }
   ],
   "source": [
    "cvs = cv.cross_val_score(bestrf,X=X_trainpca,y=y_trainpca,cv=kfold)\n",
    "np.mean(cvs)"
   ]
  },
  {
   "cell_type": "code",
   "execution_count": 37,
   "metadata": {},
   "outputs": [
    {
     "name": "stdout",
     "output_type": "stream",
     "text": [
      "[[ 12  11   0   0   0]\n",
      " [  4 173  23   0   0]\n",
      " [  0  14  45   3   0]\n",
      " [  0   0   2   9   1]\n",
      " [  0   0   0   3   2]]\n",
      "0.7980132450331126\n",
      "              precision    recall  f1-score   support\n",
      "\n",
      "           0       0.75      0.52      0.62        23\n",
      "           1       0.87      0.86      0.87       200\n",
      "           2       0.64      0.73      0.68        62\n",
      "           3       0.60      0.75      0.67        12\n",
      "           4       0.67      0.40      0.50         5\n",
      "\n",
      "    accuracy                           0.80       302\n",
      "   macro avg       0.71      0.65      0.67       302\n",
      "weighted avg       0.80      0.80      0.80       302\n",
      "\n"
     ]
    }
   ],
   "source": [
    "pred=rfc.predict(X_testpca)\n",
    "print(m.confusion_matrix(y_testpca, pred))\n",
    "print(m.accuracy_score(y_testpca, pred))\n",
    "print(m.classification_report(y_testpca, pred))"
   ]
  },
  {
   "cell_type": "markdown",
   "metadata": {},
   "source": [
    "## Extra Trees\n"
   ]
  },
  {
   "cell_type": "code",
   "execution_count": 38,
   "metadata": {},
   "outputs": [
    {
     "data": {
      "text/plain": [
       "0.8443708609271523"
      ]
     },
     "execution_count": 38,
     "metadata": {},
     "output_type": "execute_result"
    }
   ],
   "source": [
    "etc = Ens.ExtraTreesClassifier().fit(X_train, y_train)\n",
    "etc.score(X_test,y_test)"
   ]
  },
  {
   "cell_type": "code",
   "execution_count": 39,
   "metadata": {},
   "outputs": [
    {
     "data": {
      "text/plain": [
       "0.7953923541247485"
      ]
     },
     "execution_count": 39,
     "metadata": {},
     "output_type": "execute_result"
    }
   ],
   "source": [
    "cvs = cv.cross_val_score(Ens.ExtraTreesClassifier(),X=X_train,y=y_train,cv=kfold)\n",
    "np.mean(cvs)"
   ]
  },
  {
   "cell_type": "code",
   "execution_count": 40,
   "metadata": {},
   "outputs": [
    {
     "name": "stdout",
     "output_type": "stream",
     "text": [
      "[[ 11  12   0   0   0]\n",
      " [  3 192   5   0   0]\n",
      " [  0  20  41   1   0]\n",
      " [  0   0   2   9   1]\n",
      " [  0   0   0   3   2]]\n",
      "0.8443708609271523\n",
      "              precision    recall  f1-score   support\n",
      "\n",
      "           0       0.79      0.48      0.59        23\n",
      "           1       0.86      0.96      0.91       200\n",
      "           2       0.85      0.66      0.75        62\n",
      "           3       0.69      0.75      0.72        12\n",
      "           4       0.67      0.40      0.50         5\n",
      "\n",
      "    accuracy                           0.84       302\n",
      "   macro avg       0.77      0.65      0.69       302\n",
      "weighted avg       0.84      0.84      0.83       302\n",
      "\n"
     ]
    }
   ],
   "source": [
    "pred = etc.predict(X_test)\n",
    "\n",
    "print(m.confusion_matrix(y_test, pred))\n",
    "print(m.accuracy_score(y_test, pred))\n",
    "print(m.classification_report(y_test, pred))"
   ]
  },
  {
   "cell_type": "code",
   "execution_count": 41,
   "metadata": {},
   "outputs": [
    {
     "data": {
      "image/png": "[encoded data removed]",
      "text/plain": [
       "<Figure size 432x288 with 1 Axes>"
      ]
     },
     "metadata": {
      "needs_background": "light"
     },
     "output_type": "display_data"
    }
   ],
   "source": [
    "lb=[]\n",
    "for nest in [1,2,5,10,20,50,100,200]:\n",
    "    scores = cv.cross_val_score(Ens.ExtraTreesClassifier(n_estimators=nest),\n",
    "                                X_train, y_train, cv=kfold, scoring='f1_macro')\n",
    "    lb.append(scores.mean())\n",
    "\n",
    "lb2=[]   \n",
    "for nest in [1,2,5,10,20,50,100,200]:\n",
    "    scores = cv.cross_val_score(Ens.ExtraTreesClassifier(n_estimators=nest,\n",
    "                                                         max_features=0.35),\n",
    "                                X_train, y_train, cv=kfold, scoring='f1_macro')\n",
    "    lb2.append(scores.mean())\n",
    "\n",
    "lb3=[]\n",
    "for nest in [1,2,5,10,20,50,100,200]:\n",
    "    scores = cv.cross_val_score(Ens.ExtraTreesClassifier(n_estimators=nest,\n",
    "                                                           max_features=0.5),\n",
    "                                X_train, y_train, cv=kfold, scoring='f1_macro')\n",
    "    lb3.append(scores.mean())\n",
    "\n",
    "plt.plot([1,2,5,10,20,50,100,200],lb,'b',label='Default')\n",
    "plt.plot([1,2,5,10,20,50,100,200],lb3,'g',label='50% of features')\n",
    "plt.plot([1,2,5,10,20,50,100,200],lb2,'r',label='35% of features')\n",
    "plt.xlabel('Estimators')\n",
    "plt.ylabel('F1-score')\n",
    "plt.legend(loc='lower right')\n",
    "plt.grid()\n",
    "plt.tight_layout()\n",
    "\n",
    "plt.show()"
   ]
  },
  {
   "cell_type": "code",
   "execution_count": 42,
   "metadata": {},
   "outputs": [
    {
     "data": {
      "image/png": "[encoded data removed]",
      "text/plain": [
       "<Figure size 432x288 with 1 Axes>"
      ]
     },
     "metadata": {
      "needs_background": "light"
     },
     "output_type": "display_data"
    }
   ],
   "source": [
    "plt.plot([1,2,5,10,20,50,100,200],lb3,'g',label='50% + Any depth')\n",
    "plt.plot([1,2,5,10,20,50,100,200],lb2,'r',label='35% + Any depth')\n",
    "\n",
    "lb=[]   \n",
    "for nest in [1,2,5,10,20,50,100,200]:\n",
    "    scores = cv.cross_val_score(Ens.ExtraTreesClassifier(n_estimators=nest,\n",
    "                                                         max_depth=3,\n",
    "                                                         max_features=0.35),\n",
    "                                X_train, y_train, cv=kfold, scoring='f1_macro')\n",
    "    lb.append(scores.mean())\n",
    "\n",
    "lb4=[]\n",
    "for nest in [1,2,5,10,20,50,100,200]:\n",
    "    scores = cv.cross_val_score(Ens.ExtraTreesClassifier(n_estimators=nest,\n",
    "                                                         max_depth=5,\n",
    "                                                         max_features=0.35),\n",
    "                                X_train, y_train, cv=kfold, scoring='f1_macro')\n",
    "    lb4.append(scores.mean())\n",
    "\n",
    "    \n",
    "plt.plot([1,2,5,10,20,50,100,200],lb4,'b',label='35% + Max. depth 5')\n",
    "plt.plot([1,2,5,10,20,50,100,200],lb,'y',label='35% + Max. depth 3')\n",
    "plt.xlabel('Estimators')\n",
    "plt.ylabel('F1-score')\n",
    "plt.legend(loc='lower right')\n",
    "plt.grid()\n",
    "plt.tight_layout()\n",
    "\n",
    "plt.show()"
   ]
  },
  {
   "cell_type": "code",
   "execution_count": 43,
   "metadata": {},
   "outputs": [
    {
     "data": {
      "image/png": "[encoded data removed]",
      "text/plain": [
       "<Figure size 432x288 with 1 Axes>"
      ]
     },
     "metadata": {
      "needs_background": "light"
     },
     "output_type": "display_data"
    }
   ],
   "source": [
    "plt.plot([1,2,5,10,20,50,100,200],lb2,'r',label='gini')\n",
    "lb5=[]   \n",
    "for nest in [1,2,5,10,20,50,100,200]:\n",
    "    scores = cv.cross_val_score(Ens.ExtraTreesClassifier(n_estimators=nest,\n",
    "                                                           criterion='entropy',\n",
    "                                                           max_features=0.35),\n",
    "                                X_train, y_train, cv=kfold, scoring='f1_macro')\n",
    "    lb5.append(scores.mean())\n",
    "    \n",
    "plt.plot([1,2,5,10,20,50,100,200],lb5,'b',label='entropy')\n",
    "plt.xlabel('Estimators')\n",
    "plt.ylabel('F1-score')\n",
    "plt.legend(loc='lower right')\n",
    "plt.grid()\n",
    "plt.tight_layout()\n",
    "\n",
    "plt.show()"
   ]
  },
  {
   "cell_type": "code",
   "execution_count": 44,
   "metadata": {},
   "outputs": [],
   "source": [
    "bestet = Ens.ExtraTreesClassifier(n_estimators=[1,2,5,10,20,50,100,200][np.argmax(lb2)],\n",
    "                                    max_features=0.35)"
   ]
  },
  {
   "cell_type": "code",
   "execution_count": 45,
   "metadata": {},
   "outputs": [
    {
     "data": {
      "image/png": "[encoded data removed]",
      "text/plain": [
       "<Figure size 432x288 with 1 Axes>"
      ]
     },
     "metadata": {
      "needs_background": "light"
     },
     "output_type": "display_data"
    }
   ],
   "source": [
    "train_sizes, train_scores, test_scores =\\\n",
    "                cv.learning_curve(estimator=bestet,\n",
    "                                  X=X,\n",
    "                                  y=Y,\n",
    "                                  train_sizes=np.linspace(0.05, 1.0, 10),\n",
    "                                  cv=10,\n",
    "                                  n_jobs=1,\n",
    "                                  scoring='f1_macro')\n",
    "\n",
    "train_mean = np.mean(train_scores, axis=1)\n",
    "train_std = np.std(train_scores, axis=1)\n",
    "test_mean = np.mean(test_scores, axis=1)\n",
    "test_std = np.std(test_scores, axis=1)\n",
    "\n",
    "plt.plot(train_sizes, train_mean,\n",
    "         color='blue', marker='o',\n",
    "         markersize=5, label='training accuracy')\n",
    "\n",
    "plt.fill_between(train_sizes,\n",
    "                 train_mean + train_std,\n",
    "                 train_mean - train_std,\n",
    "                 alpha=0.15, color='blue')\n",
    "\n",
    "plt.plot(train_sizes, test_mean,\n",
    "         color='green', linestyle='--',\n",
    "         marker='s', markersize=5,\n",
    "         label='validation accuracy')\n",
    "\n",
    "plt.fill_between(train_sizes,\n",
    "                 test_mean + test_std,\n",
    "                 test_mean - test_std,\n",
    "                 alpha=0.15, color='green')\n",
    "\n",
    "plt.grid(True)\n",
    "plt.xlabel('Number of training samples')\n",
    "plt.ylabel('F1-score')\n",
    "plt.legend(loc='lower right')\n",
    "plt.tight_layout()\n",
    "plt.savefig('learning_curve.png', dpi=600)\n",
    "plt.show()"
   ]
  },
  {
   "cell_type": "code",
   "execution_count": 46,
   "metadata": {},
   "outputs": [
    {
     "data": {
      "text/plain": [
       "0.7781456953642384"
      ]
     },
     "execution_count": 46,
     "metadata": {},
     "output_type": "execute_result"
    }
   ],
   "source": [
    "etc = bestet.fit(X_trainpca, y_trainpca)\n",
    "etc.score(X_testpca,y_testpca)"
   ]
  },
  {
   "cell_type": "code",
   "execution_count": 47,
   "metadata": {},
   "outputs": [
    {
     "data": {
      "text/plain": [
       "0.757102615694165"
      ]
     },
     "execution_count": 47,
     "metadata": {},
     "output_type": "execute_result"
    }
   ],
   "source": [
    "cvs = cv.cross_val_score(bestet,X=X_trainpca,y=y_trainpca,cv=kfold)\n",
    "np.mean(cvs)"
   ]
  },
  {
   "cell_type": "code",
   "execution_count": 48,
   "metadata": {},
   "outputs": [
    {
     "name": "stdout",
     "output_type": "stream",
     "text": [
      "[[ 12  11   0   0   0]\n",
      " [  6 172  22   0   0]\n",
      " [  0  18  41   3   0]\n",
      " [  0   1   1   8   2]\n",
      " [  0   0   0   3   2]]\n",
      "0.7781456953642384\n",
      "              precision    recall  f1-score   support\n",
      "\n",
      "           0       0.67      0.52      0.59        23\n",
      "           1       0.85      0.86      0.86       200\n",
      "           2       0.64      0.66      0.65        62\n",
      "           3       0.57      0.67      0.62        12\n",
      "           4       0.50      0.40      0.44         5\n",
      "\n",
      "    accuracy                           0.78       302\n",
      "   macro avg       0.65      0.62      0.63       302\n",
      "weighted avg       0.78      0.78      0.78       302\n",
      "\n"
     ]
    }
   ],
   "source": [
    "pred = etc.predict(X_testpca)\n",
    "\n",
    "print(m.confusion_matrix(y_testpca, pred))\n",
    "print(m.accuracy_score(y_testpca, pred))\n",
    "print(m.classification_report(y_testpca, pred))"
   ]
  },
  {
   "cell_type": "markdown",
   "metadata": {},
   "source": [
    "## AdaBoost"
   ]
  },
  {
   "cell_type": "code",
   "execution_count": 49,
   "metadata": {},
   "outputs": [
    {
     "data": {
      "text/plain": [
       "0.4900662251655629"
      ]
     },
     "execution_count": 49,
     "metadata": {},
     "output_type": "execute_result"
    }
   ],
   "source": [
    "adb = Ens.AdaBoostClassifier().fit(X_train, y_train)\n",
    "adb.score(X_test,y_test)"
   ]
  },
  {
   "cell_type": "code",
   "execution_count": 50,
   "metadata": {},
   "outputs": [
    {
     "data": {
      "text/plain": [
       "0.5498390342052314"
      ]
     },
     "execution_count": 50,
     "metadata": {},
     "output_type": "execute_result"
    }
   ],
   "source": [
    "cvs = cv.cross_val_score(Ens.AdaBoostClassifier(),X=X_train,y=y_train,cv=kfold)\n",
    "np.mean(cvs)"
   ]
  },
  {
   "cell_type": "code",
   "execution_count": 51,
   "metadata": {},
   "outputs": [
    {
     "name": "stdout",
     "output_type": "stream",
     "text": [
      "[[17  6  0  0  0]\n",
      " [71 85 44  0  0]\n",
      " [ 6 10 46  0  0]\n",
      " [ 0  0 12  0  0]\n",
      " [ 0  0  5  0  0]]\n",
      "0.4900662251655629\n",
      "              precision    recall  f1-score   support\n",
      "\n",
      "           0       0.18      0.74      0.29        23\n",
      "           1       0.84      0.42      0.56       200\n",
      "           2       0.43      0.74      0.54        62\n",
      "           3       0.00      0.00      0.00        12\n",
      "           4       0.00      0.00      0.00         5\n",
      "\n",
      "    accuracy                           0.49       302\n",
      "   macro avg       0.29      0.38      0.28       302\n",
      "weighted avg       0.66      0.49      0.51       302\n",
      "\n"
     ]
    }
   ],
   "source": [
    "pred = adb.predict(X_test)\n",
    "\n",
    "print(m.confusion_matrix(y_test, pred))\n",
    "print(m.accuracy_score(y_test, pred))\n",
    "print(m.classification_report(y_test, pred))"
   ]
  },
  {
   "cell_type": "code",
   "execution_count": 52,
   "metadata": {},
   "outputs": [
    {
     "data": {
      "text/plain": [
       "0.7384105960264901"
      ]
     },
     "execution_count": 52,
     "metadata": {},
     "output_type": "execute_result"
    }
   ],
   "source": [
    "adb = Ens.AdaBoostClassifier(base_estimator=Ens.BaggingClassifier(base_estimator=Tree.DecisionTreeClassifier(max_depth=1),\n",
    "                                                             random_state=0)).fit(X_train, y_train)\n",
    "adb.score(X_test,y_test)"
   ]
  },
  {
   "cell_type": "code",
   "execution_count": 53,
   "metadata": {},
   "outputs": [
    {
     "data": {
      "text/plain": [
       "0.7132997987927565"
      ]
     },
     "execution_count": 53,
     "metadata": {},
     "output_type": "execute_result"
    }
   ],
   "source": [
    "cvs = cv.cross_val_score(Ens.AdaBoostClassifier(base_estimator=\n",
    "                                                Ens.BaggingClassifier(base_estimator=Tree.DecisionTreeClassifier(max_depth=1),\n",
    "                                                                                     random_state=0)),\n",
    "                         X=X_train,y=y_train,cv=kfold)\n",
    "np.mean(cvs)"
   ]
  },
  {
   "cell_type": "code",
   "execution_count": 54,
   "metadata": {},
   "outputs": [
    {
     "name": "stdout",
     "output_type": "stream",
     "text": [
      "[[ 12  10   1   0   0]\n",
      " [ 20 150  30   0   0]\n",
      " [  0   4  58   0   0]\n",
      " [  0   0   9   3   0]\n",
      " [  0   0   1   4   0]]\n",
      "0.7384105960264901\n",
      "              precision    recall  f1-score   support\n",
      "\n",
      "           0       0.38      0.52      0.44        23\n",
      "           1       0.91      0.75      0.82       200\n",
      "           2       0.59      0.94      0.72        62\n",
      "           3       0.43      0.25      0.32        12\n",
      "           4       0.00      0.00      0.00         5\n",
      "\n",
      "    accuracy                           0.74       302\n",
      "   macro avg       0.46      0.49      0.46       302\n",
      "weighted avg       0.77      0.74      0.74       302\n",
      "\n"
     ]
    }
   ],
   "source": [
    "pred = adb.predict(X_test)\n",
    "\n",
    "print(m.confusion_matrix(y_test, pred))\n",
    "print(m.accuracy_score(y_test, pred))\n",
    "print(m.classification_report(y_test, pred))"
   ]
  },
  {
   "cell_type": "code",
   "execution_count": 55,
   "metadata": {},
   "outputs": [
    {
     "data": {
      "text/plain": [
       "0.8642384105960265"
      ]
     },
     "execution_count": 55,
     "metadata": {},
     "output_type": "execute_result"
    }
   ],
   "source": [
    "adb = Ens.AdaBoostClassifier(base_estimator=Ens.BaggingClassifier(base_estimator=Tree.DecisionTreeClassifier(),\n",
    "                                                             random_state=0)).fit(X_train, y_train)\n",
    "adb.score(X_test,y_test)"
   ]
  },
  {
   "cell_type": "code",
   "execution_count": 56,
   "metadata": {},
   "outputs": [
    {
     "data": {
      "text/plain": [
       "0.8111066398390342"
      ]
     },
     "execution_count": 56,
     "metadata": {},
     "output_type": "execute_result"
    }
   ],
   "source": [
    "cvs = cv.cross_val_score(Ens.AdaBoostClassifier(base_estimator=\n",
    "                                                Ens.BaggingClassifier(base_estimator=Tree.DecisionTreeClassifier(),\n",
    "                                                                      random_state=0)),\n",
    "                         X=X_train,y=y_train,cv=kfold)\n",
    "np.mean(cvs)"
   ]
  },
  {
   "cell_type": "code",
   "execution_count": 57,
   "metadata": {},
   "outputs": [
    {
     "name": "stdout",
     "output_type": "stream",
     "text": [
      "[[ 12  11   0   0   0]\n",
      " [  2 187  11   0   0]\n",
      " [  0   7  55   0   0]\n",
      " [  0   0   6   6   0]\n",
      " [  0   0   0   4   1]]\n",
      "0.8642384105960265\n",
      "              precision    recall  f1-score   support\n",
      "\n",
      "           0       0.86      0.52      0.65        23\n",
      "           1       0.91      0.94      0.92       200\n",
      "           2       0.76      0.89      0.82        62\n",
      "           3       0.60      0.50      0.55        12\n",
      "           4       1.00      0.20      0.33         5\n",
      "\n",
      "    accuracy                           0.86       302\n",
      "   macro avg       0.83      0.61      0.65       302\n",
      "weighted avg       0.87      0.86      0.86       302\n",
      "\n"
     ]
    }
   ],
   "source": [
    "pred = adb.predict(X_test)\n",
    "\n",
    "print(m.confusion_matrix(y_test, pred))\n",
    "print(m.accuracy_score(y_test, pred))\n",
    "print(m.classification_report(y_test, pred))"
   ]
  },
  {
   "cell_type": "code",
   "execution_count": 58,
   "metadata": {},
   "outputs": [
    {
     "data": {
      "text/plain": [
       "0.8543046357615894"
      ]
     },
     "execution_count": 58,
     "metadata": {},
     "output_type": "execute_result"
    }
   ],
   "source": [
    "adb = Ens.AdaBoostClassifier(Ens.RandomForestClassifier()).fit(X_train, y_train)\n",
    "adb.score(X_test,y_test)"
   ]
  },
  {
   "cell_type": "code",
   "execution_count": 59,
   "metadata": {},
   "outputs": [
    {
     "data": {
      "text/plain": [
       "0.8067806841046277"
      ]
     },
     "execution_count": 59,
     "metadata": {},
     "output_type": "execute_result"
    }
   ],
   "source": [
    "cvs = cv.cross_val_score(Ens.AdaBoostClassifier(Ens.RandomForestClassifier()),X=X_train,y=y_train,cv=kfold)\n",
    "np.mean(cvs)"
   ]
  },
  {
   "cell_type": "code",
   "execution_count": 60,
   "metadata": {},
   "outputs": [
    {
     "name": "stdout",
     "output_type": "stream",
     "text": [
      "[[ 11  12   0   0   0]\n",
      " [  3 194   3   0   0]\n",
      " [  0  16  45   1   0]\n",
      " [  0   0   5   7   0]\n",
      " [  0   0   0   4   1]]\n",
      "0.8543046357615894\n",
      "              precision    recall  f1-score   support\n",
      "\n",
      "           0       0.79      0.48      0.59        23\n",
      "           1       0.87      0.97      0.92       200\n",
      "           2       0.85      0.73      0.78        62\n",
      "           3       0.58      0.58      0.58        12\n",
      "           4       1.00      0.20      0.33         5\n",
      "\n",
      "    accuracy                           0.85       302\n",
      "   macro avg       0.82      0.59      0.64       302\n",
      "weighted avg       0.85      0.85      0.84       302\n",
      "\n"
     ]
    }
   ],
   "source": [
    "pred = adb.predict(X_test)\n",
    "\n",
    "print(m.confusion_matrix(y_test, pred))\n",
    "print(m.accuracy_score(y_test, pred))\n",
    "print(m.classification_report(y_test, pred))"
   ]
  },
  {
   "cell_type": "code",
   "execution_count": 61,
   "metadata": {},
   "outputs": [
    {
     "data": {
      "text/plain": [
       "0.8509933774834437"
      ]
     },
     "execution_count": 61,
     "metadata": {},
     "output_type": "execute_result"
    }
   ],
   "source": [
    "adb = Ens.AdaBoostClassifier(Ens.ExtraTreesClassifier()).fit(X_train, y_train)\n",
    "adb.score(X_test,y_test)"
   ]
  },
  {
   "cell_type": "code",
   "execution_count": 62,
   "metadata": {},
   "outputs": [
    {
     "data": {
      "text/plain": [
       "0.7954124748490946"
      ]
     },
     "execution_count": 62,
     "metadata": {},
     "output_type": "execute_result"
    }
   ],
   "source": [
    "cvs = cv.cross_val_score(Ens.AdaBoostClassifier(Ens.ExtraTreesClassifier()),X=X_train,y=y_train,cv=kfold)\n",
    "np.mean(cvs)"
   ]
  },
  {
   "cell_type": "code",
   "execution_count": 63,
   "metadata": {},
   "outputs": [
    {
     "name": "stdout",
     "output_type": "stream",
     "text": [
      "[[ 13  10   0   0   0]\n",
      " [  2 190   8   0   0]\n",
      " [  0  18  44   0   0]\n",
      " [  0   0   3   8   1]\n",
      " [  0   0   0   3   2]]\n",
      "0.8509933774834437\n",
      "              precision    recall  f1-score   support\n",
      "\n",
      "           0       0.87      0.57      0.68        23\n",
      "           1       0.87      0.95      0.91       200\n",
      "           2       0.80      0.71      0.75        62\n",
      "           3       0.73      0.67      0.70        12\n",
      "           4       0.67      0.40      0.50         5\n",
      "\n",
      "    accuracy                           0.85       302\n",
      "   macro avg       0.79      0.66      0.71       302\n",
      "weighted avg       0.85      0.85      0.84       302\n",
      "\n"
     ]
    }
   ],
   "source": [
    "pred = adb.predict(X_test)\n",
    "\n",
    "print(m.confusion_matrix(y_test, pred))\n",
    "print(m.accuracy_score(y_test, pred))\n",
    "print(m.classification_report(y_test, pred))"
   ]
  },
  {
   "cell_type": "code",
   "execution_count": 64,
   "metadata": {},
   "outputs": [
    {
     "data": {
      "image/png": "[encoded data removed]",
      "text/plain": [
       "<Figure size 432x288 with 1 Axes>"
      ]
     },
     "metadata": {
      "needs_background": "light"
     },
     "output_type": "display_data"
    }
   ],
   "source": [
    "lb=[]\n",
    "for nest in [1,2,5,10,20,50,100,200]:\n",
    "    scores = cv.cross_val_score(Ens.AdaBoostClassifier(n_estimators=nest),\n",
    "                                X_train, y_train, cv=kfold, scoring='f1_macro')\n",
    "    lb.append(scores.mean())\n",
    "\n",
    "lb2=[]   \n",
    "for nest in [1,2,5,10,20,50,100,200]:\n",
    "    scores = cv.cross_val_score(Ens.AdaBoostClassifier(n_estimators=nest,\n",
    "                                                       base_estimator=Ens.BaggingClassifier(base_estimator=Tree.DecisionTreeClassifier(max_depth=1),\n",
    "                                                                                            random_state=0)),\n",
    "                                X_train, y_train, cv=kfold, scoring='f1_macro')\n",
    "    lb2.append(scores.mean())\n",
    "\n",
    "lb3=[]\n",
    "for nest in [1,2,5,10,20,50,100,200]:\n",
    "    scores = cv.cross_val_score(Ens.AdaBoostClassifier(n_estimators=nest,\n",
    "                                                       base_estimator=Ens.ExtraTreesClassifier()),\n",
    "                                X_train, y_train, cv=kfold, scoring='f1_macro')\n",
    "    lb3.append(scores.mean())\n",
    "\n",
    "lb4=[]\n",
    "for nest in [1,2,5,10,20,50,100,200]:\n",
    "    scores = cv.cross_val_score(Ens.AdaBoostClassifier(n_estimators=nest,\n",
    "                                                       base_estimator=Ens.RandomForestClassifier()),\n",
    "                                X_train, y_train, cv=kfold, scoring='f1_macro')\n",
    "    lb4.append(scores.mean())\n",
    "    \n",
    "    \n",
    "    \n",
    "plt.plot([1,2,5,10,20,50,100,200],lb,'b',label='AdaBoost')\n",
    "plt.plot([1,2,5,10,20,50,100,200],lb2,'r',label='AdaBoost (Bagging)')\n",
    "plt.plot([1,2,5,10,20,50,100,200],lb3,'g',label='AdaBoost (ExtraTrees)')\n",
    "plt.plot([1,2,5,10,20,50,100,200],lb4,'y',label='AdaBoost (RandomForest)')\n",
    "plt.xlabel('Estimators')\n",
    "plt.ylabel('F1-score')\n",
    "plt.legend(loc='lower right')\n",
    "plt.grid()\n",
    "plt.tight_layout()\n",
    "\n",
    "plt.show()"
   ]
  },
  {
   "cell_type": "code",
   "execution_count": 65,
   "metadata": {},
   "outputs": [],
   "source": [
    "bestab = Ens.AdaBoostClassifier(n_estimators=[1,2,5,10,20,50,100,200][np.argmax(lb)])\n",
    "bestab2 = Ens.AdaBoostClassifier(n_estimators=[1,2,5,10,20,50,100,200][np.argmax(lb4)],\n",
    "                                                       base_estimator=Ens.RandomForestClassifier())"
   ]
  },
  {
   "cell_type": "code",
   "execution_count": 66,
   "metadata": {},
   "outputs": [
    {
     "data": {
      "image/png": "[encoded data removed]",
      "text/plain": [
       "<Figure size 432x288 with 1 Axes>"
      ]
     },
     "metadata": {
      "needs_background": "light"
     },
     "output_type": "display_data"
    }
   ],
   "source": [
    "train_sizes, train_scores, test_scores =\\\n",
    "                cv.learning_curve(estimator=bestab,\n",
    "                               X=X,\n",
    "                               y=Y,\n",
    "                               train_sizes=np.linspace(0.05, 1.0, 10),\n",
    "                               cv=10,\n",
    "                               n_jobs=-1,\n",
    "                               scoring='f1_macro')\n",
    "\n",
    "train_mean = np.mean(train_scores, axis=1)\n",
    "train_std = np.std(train_scores, axis=1)\n",
    "test_mean = np.mean(test_scores, axis=1)\n",
    "test_std = np.std(test_scores, axis=1)\n",
    "\n",
    "plt.plot(train_sizes, train_mean,\n",
    "         color='blue', marker='o',\n",
    "         markersize=5, label='training accuracy')\n",
    "\n",
    "plt.fill_between(train_sizes,\n",
    "                 train_mean + train_std,\n",
    "                 train_mean - train_std,\n",
    "                 alpha=0.15, color='blue')\n",
    "\n",
    "plt.plot(train_sizes, test_mean,\n",
    "         color='green', linestyle='--',\n",
    "         marker='s', markersize=5,\n",
    "         label='validation accuracy')\n",
    "\n",
    "plt.fill_between(train_sizes,\n",
    "                 test_mean + test_std,\n",
    "                 test_mean - test_std,\n",
    "                 alpha=0.15, color='green')\n",
    "\n",
    "plt.grid(True)\n",
    "plt.xlabel('Number of training samples')\n",
    "plt.ylabel('F1-score')\n",
    "plt.legend(loc='lower right')\n",
    "plt.tight_layout()\n",
    "plt.savefig('learning_curve.png', dpi=600)\n",
    "plt.show()"
   ]
  },
  {
   "cell_type": "code",
   "execution_count": 67,
   "metadata": {},
   "outputs": [
    {
     "data": {
      "image/png": "[encoded data removed]",
      "text/plain": [
       "<Figure size 432x288 with 1 Axes>"
      ]
     },
     "metadata": {
      "needs_background": "light"
     },
     "output_type": "display_data"
    }
   ],
   "source": [
    "train_sizes, train_scores, test_scores =\\\n",
    "                cv.learning_curve(estimator=bestab2,\n",
    "                               X=X,\n",
    "                               y=Y,\n",
    "                               train_sizes=np.linspace(0.05, 1.0, 10),\n",
    "                               cv=10,\n",
    "                               n_jobs=-1,\n",
    "                               scoring='f1_macro')\n",
    "\n",
    "train_mean = np.mean(train_scores, axis=1)\n",
    "train_std = np.std(train_scores, axis=1)\n",
    "test_mean = np.mean(test_scores, axis=1)\n",
    "test_std = np.std(test_scores, axis=1)\n",
    "\n",
    "plt.plot(train_sizes, train_mean,\n",
    "         color='blue', marker='o',\n",
    "         markersize=5, label='training accuracy')\n",
    "\n",
    "plt.fill_between(train_sizes,\n",
    "                 train_mean + train_std,\n",
    "                 train_mean - train_std,\n",
    "                 alpha=0.15, color='blue')\n",
    "\n",
    "plt.plot(train_sizes, test_mean,\n",
    "         color='green', linestyle='--',\n",
    "         marker='s', markersize=5,\n",
    "         label='validation accuracy')\n",
    "\n",
    "plt.fill_between(train_sizes,\n",
    "                 test_mean + test_std,\n",
    "                 test_mean - test_std,\n",
    "                 alpha=0.15, color='green')\n",
    "\n",
    "plt.grid(True)\n",
    "plt.xlabel('Number of training samples')\n",
    "plt.ylabel('F1-score')\n",
    "plt.legend(loc='lower right')\n",
    "plt.tight_layout()\n",
    "plt.savefig('learning_curve.png', dpi=600)\n",
    "plt.show()"
   ]
  },
  {
   "cell_type": "code",
   "execution_count": 68,
   "metadata": {},
   "outputs": [
    {
     "data": {
      "text/plain": [
       "0.6324503311258278"
      ]
     },
     "execution_count": 68,
     "metadata": {},
     "output_type": "execute_result"
    }
   ],
   "source": [
    "adb = bestab.fit(X_trainpca, y_trainpca)\n",
    "adb.score(X_testpca,y_testpca)"
   ]
  },
  {
   "cell_type": "code",
   "execution_count": 69,
   "metadata": {},
   "outputs": [
    {
     "data": {
      "text/plain": [
       "0.6251106639839035"
      ]
     },
     "execution_count": 69,
     "metadata": {},
     "output_type": "execute_result"
    }
   ],
   "source": [
    "cvs = cv.cross_val_score(bestab,X=X_trainpca,y=y_trainpca,cv=kfold)\n",
    "np.mean(cvs)"
   ]
  },
  {
   "cell_type": "code",
   "execution_count": 70,
   "metadata": {},
   "outputs": [
    {
     "name": "stdout",
     "output_type": "stream",
     "text": [
      "[[  3  20   0   0   0]\n",
      " [  6 148  46   0   0]\n",
      " [  0  22  40   0   0]\n",
      " [  0   0  12   0   0]\n",
      " [  0   0   5   0   0]]\n",
      "0.6324503311258278\n",
      "              precision    recall  f1-score   support\n",
      "\n",
      "           0       0.33      0.13      0.19        23\n",
      "           1       0.78      0.74      0.76       200\n",
      "           2       0.39      0.65      0.48        62\n",
      "           3       0.00      0.00      0.00        12\n",
      "           4       0.00      0.00      0.00         5\n",
      "\n",
      "    accuracy                           0.63       302\n",
      "   macro avg       0.30      0.30      0.29       302\n",
      "weighted avg       0.62      0.63      0.62       302\n",
      "\n"
     ]
    }
   ],
   "source": [
    "pred = adb.predict(X_testpca)\n",
    "\n",
    "print(m.confusion_matrix(y_testpca, pred))\n",
    "print(m.accuracy_score(y_testpca, pred))\n",
    "print(m.classification_report(y_testpca, pred))"
   ]
  },
  {
   "cell_type": "code",
   "execution_count": 71,
   "metadata": {},
   "outputs": [
    {
     "data": {
      "text/plain": [
       "0.7947019867549668"
      ]
     },
     "execution_count": 71,
     "metadata": {},
     "output_type": "execute_result"
    }
   ],
   "source": [
    "adb = bestab2.fit(X_trainpca, y_trainpca)\n",
    "adb.score(X_testpca,y_testpca)"
   ]
  },
  {
   "cell_type": "code",
   "execution_count": 72,
   "metadata": {},
   "outputs": [
    {
     "data": {
      "text/plain": [
       "0.7741046277665997"
      ]
     },
     "execution_count": 72,
     "metadata": {},
     "output_type": "execute_result"
    }
   ],
   "source": [
    "cvs = cv.cross_val_score(bestab2,X=X_trainpca,y=y_trainpca,cv=kfold)\n",
    "np.mean(cvs)"
   ]
  },
  {
   "cell_type": "code",
   "execution_count": 73,
   "metadata": {},
   "outputs": [
    {
     "name": "stdout",
     "output_type": "stream",
     "text": [
      "[[ 11  12   0   0   0]\n",
      " [  3 178  19   0   0]\n",
      " [  0  17  42   3   0]\n",
      " [  0   0   4   7   1]\n",
      " [  0   0   0   3   2]]\n",
      "0.7947019867549668\n",
      "              precision    recall  f1-score   support\n",
      "\n",
      "           0       0.79      0.48      0.59        23\n",
      "           1       0.86      0.89      0.87       200\n",
      "           2       0.65      0.68      0.66        62\n",
      "           3       0.54      0.58      0.56        12\n",
      "           4       0.67      0.40      0.50         5\n",
      "\n",
      "    accuracy                           0.79       302\n",
      "   macro avg       0.70      0.61      0.64       302\n",
      "weighted avg       0.79      0.79      0.79       302\n",
      "\n"
     ]
    }
   ],
   "source": [
    "pred = adb.predict(X_testpca)\n",
    "\n",
    "print(m.confusion_matrix(y_testpca, pred))\n",
    "print(m.accuracy_score(y_testpca, pred))\n",
    "print(m.classification_report(y_testpca, pred))"
   ]
  },
  {
   "cell_type": "markdown",
   "metadata": {},
   "source": [
    "## Gradient Tree Boosting"
   ]
  },
  {
   "cell_type": "code",
   "execution_count": 74,
   "metadata": {},
   "outputs": [
    {
     "data": {
      "text/plain": [
       "0.847682119205298"
      ]
     },
     "execution_count": 74,
     "metadata": {},
     "output_type": "execute_result"
    }
   ],
   "source": [
    "gbc = Ens.GradientBoostingClassifier().fit(X_train, y_train)\n",
    "gbc.score(X_test,y_test)"
   ]
  },
  {
   "cell_type": "code",
   "execution_count": 75,
   "metadata": {},
   "outputs": [
    {
     "data": {
      "text/plain": [
       "0.8109255533199194"
      ]
     },
     "execution_count": 75,
     "metadata": {},
     "output_type": "execute_result"
    }
   ],
   "source": [
    "cvs = cv.cross_val_score(gbc,X=X_train,y=y_train,cv=kfold)\n",
    "np.mean(cvs)"
   ]
  },
  {
   "cell_type": "code",
   "execution_count": 76,
   "metadata": {},
   "outputs": [
    {
     "name": "stdout",
     "output_type": "stream",
     "text": [
      "[[ 11  12   0   0   0]\n",
      " [  2 188  10   0   0]\n",
      " [  0  14  47   1   0]\n",
      " [  0   0   5   7   0]\n",
      " [  0   0   1   1   3]]\n",
      "0.847682119205298\n",
      "              precision    recall  f1-score   support\n",
      "\n",
      "           0       0.85      0.48      0.61        23\n",
      "           1       0.88      0.94      0.91       200\n",
      "           2       0.75      0.76      0.75        62\n",
      "           3       0.78      0.58      0.67        12\n",
      "           4       1.00      0.60      0.75         5\n",
      "\n",
      "    accuracy                           0.85       302\n",
      "   macro avg       0.85      0.67      0.74       302\n",
      "weighted avg       0.85      0.85      0.84       302\n",
      "\n"
     ]
    }
   ],
   "source": [
    "pred = gbc.predict(X_test)\n",
    "\n",
    "print(m.confusion_matrix(y_test, pred))\n",
    "print(m.accuracy_score(y_test, pred))\n",
    "print(m.classification_report(y_test, pred))"
   ]
  },
  {
   "cell_type": "code",
   "execution_count": 77,
   "metadata": {},
   "outputs": [
    {
     "data": {
      "image/png": "[encoded data removed]",
      "text/plain": [
       "<Figure size 432x288 with 1 Axes>"
      ]
     },
     "metadata": {
      "needs_background": "light"
     },
     "output_type": "display_data"
    }
   ],
   "source": [
    "lb=[]\n",
    "for nest in [1,2,5,10,20,50,100,200]:\n",
    "    scores = cv.cross_val_score(Ens.GradientBoostingClassifier(n_estimators=nest),\n",
    "                                X_train, y_train, cv=kfold, scoring='f1_macro')\n",
    "    lb.append(scores.mean())\n",
    "\n",
    "lb2=[]   \n",
    "for nest in [1,2,5,10,20,50,100,200]:\n",
    "    scores = cv.cross_val_score(Ens.GradientBoostingClassifier(n_estimators=nest, learning_rate=0.01),\n",
    "                                X_train, y_train, cv=kfold, scoring='f1_macro')\n",
    "    lb2.append(scores.mean())\n",
    "\n",
    "lb3=[]\n",
    "for nest in [1,2,5,10,20,50,100,200]:\n",
    "    scores = cv.cross_val_score(Ens.GradientBoostingClassifier(n_estimators=nest, learning_rate=1),\n",
    "                                X_train, y_train, cv=kfold, scoring='f1_macro')\n",
    "    lb3.append(scores.mean())\n",
    "\n",
    "plt.plot([1,2,5,10,20,50,100,200],lb3,'g',label='Learning rate 1')\n",
    "plt.plot([1,2,5,10,20,50,100,200],lb,'b',label='Learning rate 0.1')\n",
    "plt.plot([1,2,5,10,20,50,100,200],lb2,'r',label='Learning rate 0.01')\n",
    "plt.xlabel('Estimators')\n",
    "plt.ylabel('F1-score')\n",
    "plt.legend(loc='lower right')\n",
    "plt.grid()\n",
    "plt.tight_layout()\n",
    "\n",
    "plt.show()"
   ]
  },
  {
   "cell_type": "code",
   "execution_count": 78,
   "metadata": {},
   "outputs": [
    {
     "data": {
      "image/png": "[encoded data removed]",
      "text/plain": [
       "<Figure size 432x288 with 1 Axes>"
      ]
     },
     "metadata": {
      "needs_background": "light"
     },
     "output_type": "display_data"
    }
   ],
   "source": [
    "lb2=[]   \n",
    "for nest in [1,2,5,10,20,50,100,200]:\n",
    "    scores = cv.cross_val_score(Ens.GradientBoostingClassifier(n_estimators=nest, learning_rate=0.08),\n",
    "                                X_train, y_train, cv=kfold, scoring='f1_macro')\n",
    "    lb2.append(scores.mean())\n",
    "\n",
    "lb4=[]\n",
    "for nest in [1,2,5,10,20,50,100,200]:\n",
    "    scores = cv.cross_val_score(Ens.GradientBoostingClassifier(n_estimators=nest, learning_rate=0.06),\n",
    "                                X_train, y_train, cv=kfold, scoring='f1_macro')\n",
    "    lb4.append(scores.mean())\n",
    "\n",
    "lb3=[]\n",
    "for nest in [1,2,5,10,20,50,100,200]:\n",
    "    scores = cv.cross_val_score(Ens.GradientBoostingClassifier(n_estimators=nest, learning_rate=0.12),\n",
    "                                X_train, y_train, cv=kfold, scoring='f1_macro')\n",
    "    lb3.append(scores.mean())\n",
    "\n",
    "lb5=[]\n",
    "for nest in [1,2,5,10,20,50,100,200]:\n",
    "    scores = cv.cross_val_score(Ens.GradientBoostingClassifier(n_estimators=nest, learning_rate=0.14),\n",
    "                                X_train, y_train, cv=kfold, scoring='f1_macro')\n",
    "    lb5.append(scores.mean())\n",
    "\n",
    "    \n",
    "plt.plot([1,2,5,10,20,50,100,200],lb5,'r',label='Learning rate 0.14')\n",
    "plt.plot([1,2,5,10,20,50,100,200],lb3,'g',label='Learning rate 0.12')\n",
    "plt.plot([1,2,5,10,20,50,100,200],lb,'b',label='Learning rate 0.1')\n",
    "plt.plot([1,2,5,10,20,50,100,200],lb2,'y',label='Learning rate 0.08')\n",
    "plt.plot([1,2,5,10,20,50,100,200],lb4,'black',label='Learning rate 0.06')\n",
    "plt.xlabel('Estimators')\n",
    "plt.ylabel('F1-score')\n",
    "plt.legend(loc='lower right')\n",
    "plt.grid()\n",
    "plt.tight_layout()\n",
    "\n",
    "plt.show()"
   ]
  },
  {
   "cell_type": "code",
   "execution_count": 80,
   "metadata": {},
   "outputs": [],
   "source": [
    "bestgb = Ens.GradientBoostingClassifier(learning_rate=0.14, n_estimators=[1,2,5,10,20,50,100,200][np.argmax(lb5)])"
   ]
  },
  {
   "cell_type": "code",
   "execution_count": 81,
   "metadata": {},
   "outputs": [
    {
     "data": {
      "image/png": "[encoded data removed]",
      "text/plain": [
       "<Figure size 432x288 with 1 Axes>"
      ]
     },
     "metadata": {
      "needs_background": "light"
     },
     "output_type": "display_data"
    }
   ],
   "source": [
    "train_sizes, train_scores, test_scores =\\\n",
    "                cv.learning_curve(estimator=bestgb,\n",
    "                               X=X,\n",
    "                               y=Y,\n",
    "                               train_sizes=np.linspace(0.05, 1.0, 10),\n",
    "                               cv=10,\n",
    "                               n_jobs=1,\n",
    "                               scoring='f1_macro')\n",
    "\n",
    "train_mean = np.mean(train_scores, axis=1)\n",
    "train_std = np.std(train_scores, axis=1)\n",
    "test_mean = np.mean(test_scores, axis=1)\n",
    "test_std = np.std(test_scores, axis=1)\n",
    "\n",
    "plt.plot(train_sizes, train_mean,\n",
    "         color='blue', marker='o',\n",
    "         markersize=5, label='training accuracy')\n",
    "\n",
    "plt.fill_between(train_sizes,\n",
    "                 train_mean + train_std,\n",
    "                 train_mean - train_std,\n",
    "                 alpha=0.15, color='blue')\n",
    "\n",
    "plt.plot(train_sizes, test_mean,\n",
    "         color='green', linestyle='--',\n",
    "         marker='s', markersize=5,\n",
    "         label='validation accuracy')\n",
    "\n",
    "plt.fill_between(train_sizes,\n",
    "                 test_mean + test_std,\n",
    "                 test_mean - test_std,\n",
    "                 alpha=0.15, color='green')\n",
    "\n",
    "plt.grid(True)\n",
    "plt.xlabel('Number of training samples')\n",
    "plt.ylabel('Accuracy')\n",
    "plt.legend(loc='lower right')\n",
    "plt.tight_layout()\n",
    "plt.savefig('learning_curve.png', dpi=600)\n",
    "plt.show()"
   ]
  },
  {
   "cell_type": "code",
   "execution_count": 82,
   "metadata": {},
   "outputs": [
    {
     "data": {
      "text/plain": [
       "0.8013245033112583"
      ]
     },
     "execution_count": 82,
     "metadata": {},
     "output_type": "execute_result"
    }
   ],
   "source": [
    "gbc = bestgb.fit(X_trainpca, y_trainpca)\n",
    "gbc.score(X_testpca,y_testpca)\n"
   ]
  },
  {
   "cell_type": "code",
   "execution_count": 83,
   "metadata": {},
   "outputs": [
    {
     "data": {
      "text/plain": [
       "0.7713480885311872"
      ]
     },
     "execution_count": 83,
     "metadata": {},
     "output_type": "execute_result"
    }
   ],
   "source": [
    "cvs = cv.cross_val_score(gbc,X=X_trainpca,y=y_trainpca,cv=kfold)\n",
    "np.mean(cvs)"
   ]
  },
  {
   "cell_type": "code",
   "execution_count": 84,
   "metadata": {},
   "outputs": [
    {
     "name": "stdout",
     "output_type": "stream",
     "text": [
      "[[ 11  12   0   0   0]\n",
      " [  3 177  20   0   0]\n",
      " [  0  14  44   4   0]\n",
      " [  0   0   3   8   1]\n",
      " [  0   0   1   2   2]]\n",
      "0.8013245033112583\n",
      "              precision    recall  f1-score   support\n",
      "\n",
      "           0       0.79      0.48      0.59        23\n",
      "           1       0.87      0.89      0.88       200\n",
      "           2       0.65      0.71      0.68        62\n",
      "           3       0.57      0.67      0.62        12\n",
      "           4       0.67      0.40      0.50         5\n",
      "\n",
      "    accuracy                           0.80       302\n",
      "   macro avg       0.71      0.63      0.65       302\n",
      "weighted avg       0.80      0.80      0.80       302\n",
      "\n"
     ]
    }
   ],
   "source": [
    "pred = gbc.predict(X_testpca)\n",
    "\n",
    "print(m.confusion_matrix(y_testpca, pred))\n",
    "print(m.accuracy_score(y_testpca, pred))\n",
    "print(m.classification_report(y_testpca, pred))"
   ]
  },
  {
   "cell_type": "markdown",
   "metadata": {},
   "source": [
    "## Voting scheme"
   ]
  },
  {
   "cell_type": "code",
   "execution_count": 85,
   "metadata": {},
   "outputs": [
    {
     "name": "stdout",
     "output_type": "stream",
     "text": [
      "Best Params fo Knn= {'n_neighbors': 5, 'weights': 'uniform'} F1-score= 0.4791471079694918\n",
      "F1-score: 0.233 [Naive Bayes]\n",
      "F1-score: 0.479 [Knn (3)]\n",
      "F1-score: 0.544 [Dec. Tree]\n"
     ]
    }
   ],
   "source": [
    "#import sklearn.neighbors as N\n",
    "\n",
    "#knc = N.KNeighborsClassifier()\n",
    "#sorted(N.VALID_METRICS['brute'])\n",
    "\n",
    "from sklearn.model_selection import cross_val_score\n",
    "#from sklearn.linear_model import LogisticRegression\n",
    "from sklearn.naive_bayes import GaussianNB\n",
    "from sklearn.ensemble import VotingClassifier\n",
    "from sklearn.tree import DecisionTreeClassifier\n",
    "from sklearn.neighbors import KNeighborsClassifier\n",
    "from sklearn.model_selection import GridSearchCV\n",
    "\n",
    "cvp=50\n",
    "\n",
    "clf1 = GaussianNB()\n",
    "\n",
    "params = {'n_neighbors':list(range(1,30,2)), 'weights':('distance','uniform')}\n",
    "knc = KNeighborsClassifier()\n",
    "clf = GridSearchCV(knc, param_grid=params,cv=cvp,n_jobs=-1,scoring='f1_macro')  # If cvp is integer, by default is Stratifyed \n",
    "clf.fit(X, Y)\n",
    "print(\"Best Params fo Knn=\",clf.best_params_, \"F1-score=\", clf.best_score_)\n",
    "parval=clf.best_params_\n",
    "clf2 = KNeighborsClassifier(n_neighbors=parval['n_neighbors'],weights=parval['weights'])\n",
    "\n",
    "clf3 = DecisionTreeClassifier(criterion='entropy')\n",
    "\n",
    "\n",
    "for clf, label in zip([clf1, clf2, clf3], ['Naive Bayes','Knn (3)', 'Dec. Tree', ]):\n",
    "    scores = cross_val_score(clf, X, Y, cv=cvp, scoring='f1_macro')\n",
    "    print(\"F1-score: %0.3f [%s]\" % (scores.mean(), label))"
   ]
  },
  {
   "cell_type": "code",
   "execution_count": 86,
   "metadata": {},
   "outputs": [
    {
     "name": "stdout",
     "output_type": "stream",
     "text": [
      "F1-score: 0.511 [Majority Voting]\n"
     ]
    }
   ],
   "source": [
    "import warnings\n",
    "warnings.filterwarnings(\"ignore\", category=DeprecationWarning)\n",
    "\n",
    "eclf = VotingClassifier(estimators=[('nb', clf1), ('knn3', clf2), ('dt', clf3)], voting='hard')\n",
    "scores = cross_val_score(eclf, X, Y, cv=cvp, scoring='f1_macro')\n",
    "print(\"F1-score: %0.3f [%s]\" % (scores.mean() , \"Majority Voting\"))"
   ]
  },
  {
   "cell_type": "code",
   "execution_count": 87,
   "metadata": {},
   "outputs": [
    {
     "name": "stdout",
     "output_type": "stream",
     "text": [
      "F1-score: 0.553 [Weighted Voting]\n"
     ]
    }
   ],
   "source": [
    "eclf = VotingClassifier(estimators=[('nb', clf1), ('knn3', clf2), ('dt', clf3)],voting='soft', weights=[1,5,10])\n",
    "scores = cross_val_score(eclf, X, Y, cv=cvp, scoring='f1_macro')\n",
    "print(\"F1-score: %0.3f [%s]\" % (scores.mean(), \"Weighted Voting\"))"
   ]
  },
  {
   "cell_type": "code",
   "execution_count": 88,
   "metadata": {},
   "outputs": [],
   "source": [
    "bestvc = VotingClassifier(estimators=[('nb', clf1), ('knn3', clf2), ('dt', clf3)],voting='soft', weights=[1,5,10])"
   ]
  },
  {
   "cell_type": "markdown",
   "metadata": {},
   "source": [
    "## Comparison of the best models"
   ]
  },
  {
   "cell_type": "code",
   "execution_count": 93,
   "metadata": {},
   "outputs": [
    {
     "name": "stdout",
     "output_type": "stream",
     "text": [
      "                    F1      Conf Int    Acc   Prec    Rec\n",
      "Bagging:         0.583 (0.534,0.627)  0.755  0.625  0.568 \n",
      "Random Forests:  0.662 (0.616,0.706)  0.831  0.770  0.612 \n",
      "Extra Trees:     0.674 (0.627,0.717)  0.845  0.834  0.608 \n",
      "AdaBoost:        0.288 (0.245,0.332)  0.500  0.296  0.376 \n",
      "AdaBoost (RF):   0.673 (0.625,0.714)  0.845  0.857  0.606 \n",
      "Gradient Boost:  0.681 (0.634,0.724)  0.838  0.804  0.635 \n",
      "Voting Scheme:   0.587 (0.538,0.632)  0.769  0.594  0.586 \n"
     ]
    }
   ],
   "source": [
    "import statsmodels.stats.proportion as Prop\n",
    "\n",
    "test_data = pd.read_csv('../datasets/preprocessed/test.csv', sep=',')\n",
    "X_test = test_data.drop(columns=['Id','SalePrice'])\n",
    "y_test = test_data['SalePrice']\n",
    "\n",
    "le = Pre.LabelEncoder()\n",
    "le.fit(y_test)\n",
    "y_test = le.fit_transform(y_test)\n",
    "i = 0\n",
    "for t in X_test.dtypes:\n",
    "    if t == object or t == bool:\n",
    "        le.fit(X_test.iloc[:,i])\n",
    "        X_test.iloc[:,i] = le.fit_transform(X_test.iloc[:,i])\n",
    "    i += 1\n",
    "\n",
    "print('                    F1      Conf Int    Acc   Prec    Rec')\n",
    "pred = bestbg.fit(X_train, y_train).predict(X_test)\n",
    "pro1, pro2 = Prop.proportion_confint(count=m.f1_score(y_test, pred, average='macro')*X_test.shape[0], nobs=X_test.shape[0], alpha=0.05, method='binom_test')\n",
    "print('Bagging:         %0.3f (%0.3f,%0.3f)  %0.3f  %0.3f  %0.3f ' %  (m.f1_score(y_test, pred, average='macro'),\n",
    "                                                                       pro1,\n",
    "                                                                       pro2,\n",
    "                                                                       m.accuracy_score(y_test, pred),\n",
    "                                                                       m.precision_score(y_test, pred, average='macro'),\n",
    "                                                                       m.recall_score(y_test, pred, average='macro')))\n",
    "pred = bestrf.fit(X_train, y_train).predict(X_test)\n",
    "pro1, pro2 = Prop.proportion_confint(count=m.f1_score(y_test, pred, average='macro')*X_test.shape[0], nobs=X_test.shape[0], alpha=0.05, method='binom_test')\n",
    "print('Random Forests:  %0.3f (%0.3f,%0.3f)  %0.3f  %0.3f  %0.3f ' %  (m.f1_score(y_test, pred, average='macro'),\n",
    "                                                                       pro1,\n",
    "                                                                       pro2,\n",
    "                                                                       m.accuracy_score(y_test, pred),\n",
    "                                                                       m.precision_score(y_test, pred, average='macro'),\n",
    "                                                                       m.recall_score(y_test, pred, average='macro')))\n",
    "pred = bestet.fit(X_train, y_train).predict(X_test)\n",
    "pro1, pro2 = Prop.proportion_confint(count=m.f1_score(y_test, pred, average='macro')*X_test.shape[0], nobs=X_test.shape[0], alpha=0.05, method='binom_test')\n",
    "print('Extra Trees:     %0.3f (%0.3f,%0.3f)  %0.3f  %0.3f  %0.3f ' %  (m.f1_score(y_test, pred, average='macro'),\n",
    "                                                                       pro1,\n",
    "                                                                       pro2,\n",
    "                                                                       m.accuracy_score(y_test, pred),\n",
    "                                                                       m.precision_score(y_test, pred, average='macro'),\n",
    "                                                                       m.recall_score(y_test, pred, average='macro')))\n",
    "pred = bestab.fit(X_train, y_train).predict(X_test)\n",
    "pro1, pro2 = Prop.proportion_confint(count=m.f1_score(y_test, pred, average='macro')*X_test.shape[0], nobs=X_test.shape[0], alpha=0.05, method='binom_test')\n",
    "print('AdaBoost:        %0.3f (%0.3f,%0.3f)  %0.3f  %0.3f  %0.3f ' %  (m.f1_score(y_test, pred, average='macro'),\n",
    "                                                                       pro1,\n",
    "                                                                       pro2,\n",
    "                                                                       m.accuracy_score(y_test, pred),\n",
    "                                                                       m.precision_score(y_test, pred, average='macro'),\n",
    "                                                                       m.recall_score(y_test, pred, average='macro')))\n",
    "pred = bestab2.fit(X_train, y_train).predict(X_test)\n",
    "pro1, pro2 = Prop.proportion_confint(count=m.f1_score(y_test, pred, average='macro')*X_test.shape[0], nobs=X_test.shape[0], alpha=0.05, method='binom_test')\n",
    "print('AdaBoost (RF):   %0.3f (%0.3f,%0.3f)  %0.3f  %0.3f  %0.3f ' %  (m.f1_score(y_test, pred, average='macro'),\n",
    "                                                                       pro1,\n",
    "                                                                       pro2,\n",
    "                                                                       m.accuracy_score(y_test, pred),\n",
    "                                                                       m.precision_score(y_test, pred, average='macro'),\n",
    "                                                                       m.recall_score(y_test, pred, average='macro')))\n",
    "pred = bestgb.fit(X_train, y_train).predict(X_test)\n",
    "pro1, pro2 = Prop.proportion_confint(count=m.f1_score(y_test, pred, average='macro')*X_test.shape[0], nobs=X_test.shape[0], alpha=0.05, method='binom_test')\n",
    "print('Gradient Boost:  %0.3f (%0.3f,%0.3f)  %0.3f  %0.3f  %0.3f ' %  (m.f1_score(y_test, pred, average='macro'),\n",
    "                                                                       pro1,\n",
    "                                                                       pro2,\n",
    "                                                                       m.accuracy_score(y_test, pred),\n",
    "                                                                       m.precision_score(y_test, pred, average='macro'),\n",
    "                                                                       m.recall_score(y_test, pred, average='macro')))\n",
    "pred = bestvc.fit(X_train, y_train).predict(X_test)\n",
    "pro1, pro2 = Prop.proportion_confint(count=m.f1_score(y_test, pred, average='macro')*X_test.shape[0], nobs=X_test.shape[0], alpha=0.05, method='binom_test')\n",
    "print('Voting Scheme:   %0.3f (%0.3f,%0.3f)  %0.3f  %0.3f  %0.3f ' %  (m.f1_score(y_test, pred, average='macro'),\n",
    "                                                                       pro1,\n",
    "                                                                       pro2,\n",
    "                                                                       m.accuracy_score(y_test, pred),\n",
    "                                                                       m.precision_score(y_test, pred, average='macro'),\n",
    "                                                                       m.recall_score(y_test, pred, average='macro')))"
   ]
  }
 ],
 "metadata": {
  "kernelspec": {
   "display_name": "Python 3",
   "language": "python",
   "name": "python3"
  },
  "language_info": {
   "codemirror_mode": {
    "name": "ipython",
    "version": 3
   },
   "file_extension": ".py",
   "mimetype": "text/x-python",
   "name": "python",
   "nbconvert_exporter": "python",
   "pygments_lexer": "ipython3",
   "version": "3.7.2"
  }
 },
 "nbformat": 4,
 "nbformat_minor": 4
}
