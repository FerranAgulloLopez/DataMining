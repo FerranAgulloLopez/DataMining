{
 "cells": [
  {
   "cell_type": "code",
   "execution_count": 1,
   "metadata": {},
   "outputs": [],
   "source": [
    "import pandas as pd\n",
    "import numpy as np\n",
    "import sklearn.naive_bayes as NB\n",
    "import sklearn.model_selection as cv\n",
    "import sklearn.metrics as m\n",
    "from sklearn import preprocessing"
   ]
  },
  {
   "cell_type": "markdown",
   "metadata": {},
   "source": [
    "# Naive Bayes"
   ]
  },
  {
   "cell_type": "markdown",
   "metadata": {},
   "source": [
    "## Read the data"
   ]
  },
  {
   "cell_type": "markdown",
   "metadata": {},
   "source": [
    "As usual, before analyzing the data we read the csv and store all the values in a variable."
   ]
  },
  {
   "cell_type": "code",
   "execution_count": 2,
   "metadata": {},
   "outputs": [],
   "source": [
    "data = pd.read_csv('../datasets/preprocessed/train.csv', sep=',', na_values=\"NA\")"
   ]
  },
  {
   "cell_type": "code",
   "execution_count": 3,
   "metadata": {},
   "outputs": [
    {
     "data": {
      "text/html": [
       "<div>\n",
       "<style scoped>\n",
       "    .dataframe tbody tr th:only-of-type {\n",
       "        vertical-align: middle;\n",
       "    }\n",
       "\n",
       "    .dataframe tbody tr th {\n",
       "        vertical-align: top;\n",
       "    }\n",
       "\n",
       "    .dataframe thead th {\n",
       "        text-align: right;\n",
       "    }\n",
       "</style>\n",
       "<table border=\"1\" class=\"dataframe\">\n",
       "  <thead>\n",
       "    <tr style=\"text-align: right;\">\n",
       "      <th></th>\n",
       "      <th>Id</th>\n",
       "      <th>MSSubClass</th>\n",
       "      <th>MSZoning</th>\n",
       "      <th>LotArea</th>\n",
       "      <th>LotShape</th>\n",
       "      <th>LandContour</th>\n",
       "      <th>LotConfig</th>\n",
       "      <th>Neighborhood</th>\n",
       "      <th>Condition1</th>\n",
       "      <th>BldgType</th>\n",
       "      <th>...</th>\n",
       "      <th>Fence</th>\n",
       "      <th>MiscVal</th>\n",
       "      <th>SaleType</th>\n",
       "      <th>SaleCondition</th>\n",
       "      <th>SalePrice</th>\n",
       "      <th>MasVnr</th>\n",
       "      <th>SecondFloor</th>\n",
       "      <th>Baths</th>\n",
       "      <th>Porch</th>\n",
       "      <th>Pool</th>\n",
       "    </tr>\n",
       "  </thead>\n",
       "  <tbody>\n",
       "    <tr>\n",
       "      <th>0</th>\n",
       "      <td>0.000000</td>\n",
       "      <td>F</td>\n",
       "      <td>RL</td>\n",
       "      <td>0.249485</td>\n",
       "      <td>1.0</td>\n",
       "      <td>Lvl</td>\n",
       "      <td>Inside</td>\n",
       "      <td>CollgCr</td>\n",
       "      <td>Norm</td>\n",
       "      <td>1Fam</td>\n",
       "      <td>...</td>\n",
       "      <td>0.0</td>\n",
       "      <td>0.0</td>\n",
       "      <td>WD</td>\n",
       "      <td>Normal</td>\n",
       "      <td>Level3</td>\n",
       "      <td>1.0</td>\n",
       "      <td>1.0</td>\n",
       "      <td>0.6</td>\n",
       "      <td>True</td>\n",
       "      <td>0.0</td>\n",
       "    </tr>\n",
       "    <tr>\n",
       "      <th>1</th>\n",
       "      <td>0.000685</td>\n",
       "      <td>A</td>\n",
       "      <td>RL</td>\n",
       "      <td>0.289612</td>\n",
       "      <td>1.0</td>\n",
       "      <td>Lvl</td>\n",
       "      <td>FR</td>\n",
       "      <td>Veenker</td>\n",
       "      <td>Feedr</td>\n",
       "      <td>1Fam</td>\n",
       "      <td>...</td>\n",
       "      <td>0.0</td>\n",
       "      <td>0.0</td>\n",
       "      <td>WD</td>\n",
       "      <td>Normal</td>\n",
       "      <td>Level2</td>\n",
       "      <td>0.0</td>\n",
       "      <td>0.0</td>\n",
       "      <td>0.4</td>\n",
       "      <td>True</td>\n",
       "      <td>0.0</td>\n",
       "    </tr>\n",
       "    <tr>\n",
       "      <th>2</th>\n",
       "      <td>0.001371</td>\n",
       "      <td>F</td>\n",
       "      <td>RL</td>\n",
       "      <td>0.347186</td>\n",
       "      <td>0.0</td>\n",
       "      <td>Lvl</td>\n",
       "      <td>Inside</td>\n",
       "      <td>CollgCr</td>\n",
       "      <td>Norm</td>\n",
       "      <td>1Fam</td>\n",
       "      <td>...</td>\n",
       "      <td>0.0</td>\n",
       "      <td>0.0</td>\n",
       "      <td>WD</td>\n",
       "      <td>Normal</td>\n",
       "      <td>Level3</td>\n",
       "      <td>1.0</td>\n",
       "      <td>1.0</td>\n",
       "      <td>0.6</td>\n",
       "      <td>True</td>\n",
       "      <td>0.0</td>\n",
       "    </tr>\n",
       "    <tr>\n",
       "      <th>3</th>\n",
       "      <td>0.002056</td>\n",
       "      <td>G</td>\n",
       "      <td>RL</td>\n",
       "      <td>0.287868</td>\n",
       "      <td>0.0</td>\n",
       "      <td>Lvl</td>\n",
       "      <td>Corner</td>\n",
       "      <td>Crawfor</td>\n",
       "      <td>Norm</td>\n",
       "      <td>1Fam</td>\n",
       "      <td>...</td>\n",
       "      <td>0.0</td>\n",
       "      <td>0.0</td>\n",
       "      <td>WD</td>\n",
       "      <td>Abnorml</td>\n",
       "      <td>Level2</td>\n",
       "      <td>0.0</td>\n",
       "      <td>1.0</td>\n",
       "      <td>0.2</td>\n",
       "      <td>True</td>\n",
       "      <td>0.0</td>\n",
       "    </tr>\n",
       "    <tr>\n",
       "      <th>4</th>\n",
       "      <td>0.002742</td>\n",
       "      <td>F</td>\n",
       "      <td>RL</td>\n",
       "      <td>0.452214</td>\n",
       "      <td>0.0</td>\n",
       "      <td>Lvl</td>\n",
       "      <td>FR</td>\n",
       "      <td>NoRidge</td>\n",
       "      <td>Norm</td>\n",
       "      <td>1Fam</td>\n",
       "      <td>...</td>\n",
       "      <td>0.0</td>\n",
       "      <td>0.0</td>\n",
       "      <td>WD</td>\n",
       "      <td>Normal</td>\n",
       "      <td>Level3</td>\n",
       "      <td>1.0</td>\n",
       "      <td>1.0</td>\n",
       "      <td>0.6</td>\n",
       "      <td>True</td>\n",
       "      <td>0.0</td>\n",
       "    </tr>\n",
       "  </tbody>\n",
       "</table>\n",
       "<p>5 rows × 48 columns</p>\n",
       "</div>"
      ],
      "text/plain": [
       "         Id MSSubClass MSZoning   LotArea  LotShape LandContour LotConfig  \\\n",
       "0  0.000000          F       RL  0.249485       1.0         Lvl    Inside   \n",
       "1  0.000685          A       RL  0.289612       1.0         Lvl        FR   \n",
       "2  0.001371          F       RL  0.347186       0.0         Lvl    Inside   \n",
       "3  0.002056          G       RL  0.287868       0.0         Lvl    Corner   \n",
       "4  0.002742          F       RL  0.452214       0.0         Lvl        FR   \n",
       "\n",
       "  Neighborhood Condition1 BldgType  ... Fence  MiscVal  SaleType  \\\n",
       "0      CollgCr       Norm     1Fam  ...   0.0      0.0        WD   \n",
       "1      Veenker      Feedr     1Fam  ...   0.0      0.0        WD   \n",
       "2      CollgCr       Norm     1Fam  ...   0.0      0.0        WD   \n",
       "3      Crawfor       Norm     1Fam  ...   0.0      0.0        WD   \n",
       "4      NoRidge       Norm     1Fam  ...   0.0      0.0        WD   \n",
       "\n",
       "  SaleCondition SalePrice MasVnr  SecondFloor Baths Porch Pool  \n",
       "0        Normal    Level3    1.0          1.0   0.6  True  0.0  \n",
       "1        Normal    Level2    0.0          0.0   0.4  True  0.0  \n",
       "2        Normal    Level3    1.0          1.0   0.6  True  0.0  \n",
       "3       Abnorml    Level2    0.0          1.0   0.2  True  0.0  \n",
       "4        Normal    Level3    1.0          1.0   0.6  True  0.0  \n",
       "\n",
       "[5 rows x 48 columns]"
      ]
     },
     "execution_count": 3,
     "metadata": {},
     "output_type": "execute_result"
    }
   ],
   "source": [
    "data.head()"
   ]
  },
  {
   "cell_type": "markdown",
   "metadata": {},
   "source": [
    "## Prepare the data"
   ]
  },
  {
   "cell_type": "markdown",
   "metadata": {},
   "source": [
    "First, we begin by separating the data into two different variables: num_data, which only contains the numerical values, and cat_data, which only contains the categorical ones. We also exclude from cat_dat all the values that correspond to the column \"SalePrice\", since that's what we want to predict."
   ]
  },
  {
   "cell_type": "code",
   "execution_count": 4,
   "metadata": {},
   "outputs": [],
   "source": [
    "data\n",
    "num_data = data.select_dtypes(include=np.number)\n",
    "cat_data = data.select_dtypes(include=['bool','object']).drop(columns='SalePrice')"
   ]
  },
  {
   "cell_type": "markdown",
   "metadata": {},
   "source": [
    "## Train a model with numeric columns"
   ]
  },
  {
   "cell_type": "markdown",
   "metadata": {},
   "source": [
    "First, we train a model using the numerical values in num_data. We're using Gaussian Naive Bayes which, as we can see, gives us a very small score of only 0.259."
   ]
  },
  {
   "cell_type": "code",
   "execution_count": 5,
   "metadata": {},
   "outputs": [
    {
     "data": {
      "text/plain": [
       "0.25925925925925924"
      ]
     },
     "execution_count": 5,
     "metadata": {},
     "output_type": "execute_result"
    }
   ],
   "source": [
    "X = num_data\n",
    "Y = data.loc[:,'SalePrice']\n",
    "\n",
    "X_train, X_test, y_train, y_test = cv.train_test_split(X, Y, test_size=.3, random_state=1)\n",
    "\n",
    "gnb = NB.GaussianNB()\n",
    "gnb.fit(X_train,y_train)\n",
    "gnb.score(X_test,y_test)"
   ]
  },
  {
   "cell_type": "markdown",
   "metadata": {},
   "source": [
    "## Train a model with categorical columns"
   ]
  },
  {
   "cell_type": "markdown",
   "metadata": {},
   "source": [
    "Afterwards, we train a model with the categorical values in cat_data. Since we're using Multinomial Naive Bayes, which requires numerical tags instead of strings, we need to preprocess the categories in order to assign an integer ID to each different one before doing the training. As we can see, the final score is 0.625, which is much better than the previous score of 0.259 but still has plenty of room for improvement."
   ]
  },
  {
   "cell_type": "code",
   "execution_count": 6,
   "metadata": {},
   "outputs": [
    {
     "data": {
      "text/plain": [
       "0.625"
      ]
     },
     "execution_count": 6,
     "metadata": {},
     "output_type": "execute_result"
    }
   ],
   "source": [
    "X = cat_data\n",
    "Y = data.loc[:,'SalePrice']\n",
    "\n",
    "data.dtypes\n",
    "for col in X.columns:\n",
    "    X.loc[:,col] = pd.factorize(X.loc[:,col])[0]\n",
    "X.head()\n",
    "\n",
    "X_train, X_test, y_train, y_test = cv.train_test_split(X, Y, test_size=.3, random_state=1)\n",
    "\n",
    "mnb = NB.MultinomialNB()\n",
    "mnb.fit(X_train,y_train)\n",
    "mnb.score(X_test,y_test)"
   ]
  },
  {
   "cell_type": "markdown",
   "metadata": {},
   "source": [
    "## Cross validation of the best model"
   ]
  },
  {
   "cell_type": "markdown",
   "metadata": {},
   "source": [
    "Now we do cross validation with the categorical values, applying the same preprocessing we did for the previous model and Multinomial Naive Bayes again, but now calculating the cross_val_score. As we can see, the result is very similar: 0.63. We also build the confusion matrix and compute the accuracy, which again has almost the same value, and then we finish with the classification report."
   ]
  },
  {
   "cell_type": "code",
   "execution_count": 9,
   "metadata": {},
   "outputs": [
    {
     "name": "stderr",
     "output_type": "stream",
     "text": [
      "c:\\users\\adris\\appdata\\local\\programs\\python\\python37\\lib\\site-packages\\sklearn\\model_selection\\_split.py:296: FutureWarning: Setting a random_state has no effect since shuffle is False. This will raise an error in 0.24. You should leave random_state to its default (None), or set shuffle=True.\n",
      "  FutureWarning\n"
     ]
    },
    {
     "data": {
      "text/plain": [
       "0.6307886557886558"
      ]
     },
     "execution_count": 9,
     "metadata": {},
     "output_type": "execute_result"
    }
   ],
   "source": [
    "kfold = cv.StratifiedKFold(n_splits=10, random_state=1) \n",
    "\n",
    "X = cat_data\n",
    "Y = data.loc[:,'SalePrice']\n",
    "\n",
    "for col in X.columns:\n",
    "    X.loc[:,col] = pd.factorize(X.loc[:,col])[0]\n",
    "X.head()\n",
    "\n",
    "mnb = NB.MultinomialNB()\n",
    "\n",
    "cvs = cv.cross_val_score(mnb,X=X,y=Y,cv=kfold)\n",
    "np.mean(cvs)"
   ]
  },
  {
   "cell_type": "code",
   "execution_count": 10,
   "metadata": {},
   "outputs": [
    {
     "name": "stdout",
     "output_type": "stream",
     "text": [
      "[[ 53  57   3   0   1]\n",
      " [ 75 678 131  10  10]\n",
      " [  2 131 137  26  15]\n",
      " [  0  14  29  34   7]\n",
      " [  0   1   4  15   5]]\n",
      "0.6307371349095967\n"
     ]
    }
   ],
   "source": [
    "pred = cv.cross_val_predict(mnb, X=X, y=Y, cv=kfold)  \n",
    "\n",
    "print(m.confusion_matrix(Y, pred))\n",
    "print(m.accuracy_score(Y, pred))"
   ]
  },
  {
   "cell_type": "code",
   "execution_count": 11,
   "metadata": {},
   "outputs": [
    {
     "name": "stdout",
     "output_type": "stream",
     "text": [
      "              precision    recall  f1-score   support\n",
      "\n",
      "      Level1       0.41      0.46      0.43       114\n",
      "      Level2       0.77      0.75      0.76       904\n",
      "      Level3       0.45      0.44      0.45       311\n",
      "      Level4       0.40      0.40      0.40        84\n",
      "      Level5       0.13      0.20      0.16        25\n",
      "\n",
      "    accuracy                           0.63      1438\n",
      "   macro avg       0.43      0.45      0.44      1438\n",
      "weighted avg       0.64      0.63      0.63      1438\n",
      "\n"
     ]
    }
   ],
   "source": [
    "print(m.classification_report(Y, pred))"
   ]
  },
  {
   "cell_type": "markdown",
   "metadata": {},
   "source": [
    "## Balancing the dataset"
   ]
  },
  {
   "cell_type": "markdown",
   "metadata": {},
   "source": [
    "Since we haven't seen any score that's high enough, we decide to balance our data so that there isn't very different amounts of instances for each one, since Level2 had 904 cases and Level5 only had 25. By reducing this difference, we can see that the scores and accuracy are lower than before doing so, but the f1-score for the different levels is more consistent, with a smaller difference."
   ]
  },
  {
   "cell_type": "code",
   "execution_count": 12,
   "metadata": {},
   "outputs": [
    {
     "data": {
      "text/plain": [
       "Level2    904\n",
       "Level3    311\n",
       "Level1    114\n",
       "Level4     84\n",
       "Level5     25\n",
       "Name: SalePrice, dtype: int64"
      ]
     },
     "execution_count": 12,
     "metadata": {},
     "output_type": "execute_result"
    }
   ],
   "source": [
    "Y.value_counts()"
   ]
  },
  {
   "cell_type": "code",
   "execution_count": 13,
   "metadata": {},
   "outputs": [
    {
     "name": "stdout",
     "output_type": "stream",
     "text": [
      "['Level3' 'Level2' 'Level4' 'Level1' 'Level5']\n"
     ]
    },
    {
     "data": {
      "text/plain": [
       "Level1    342\n",
       "Level4    336\n",
       "Level3    311\n",
       "Level2    301\n",
       "Level5    250\n",
       "Name: SalePrice, dtype: int64"
      ]
     },
     "execution_count": 13,
     "metadata": {},
     "output_type": "execute_result"
    }
   ],
   "source": [
    "print(data['SalePrice'].unique())\n",
    "\n",
    "X1 = data[data['SalePrice'] == 'Level1']\n",
    "X2 = data[data['SalePrice'] == 'Level2']\n",
    "X3 = data[data['SalePrice'] == 'Level3']\n",
    "X4 = data[data['SalePrice'] == 'Level4']\n",
    "X5 = data[data['SalePrice'] == 'Level5']\n",
    "\n",
    "bdata = pd.DataFrame()\n",
    "\n",
    "for i in range(3):\n",
    "    bdata = bdata.append(X1, ignore_index = True)\n",
    "bdata = bdata.append(X2.sample(frac=1/3), ignore_index = True)\n",
    "bdata = bdata.append(X3, ignore_index = True)\n",
    "for i in range(4):\n",
    "    bdata = bdata.append(X4, ignore_index = True)\n",
    "for i in range(10):\n",
    "    bdata = bdata.append(X5, ignore_index = True)\n",
    "\n",
    "bdata['SalePrice'].value_counts()"
   ]
  },
  {
   "cell_type": "code",
   "execution_count": 14,
   "metadata": {},
   "outputs": [
    {
     "data": {
      "text/plain": [
       "0.5292207792207793"
      ]
     },
     "execution_count": 14,
     "metadata": {},
     "output_type": "execute_result"
    }
   ],
   "source": [
    "X = bdata.select_dtypes(include=['bool','object']).drop(columns=['SalePrice'])\n",
    "Y = bdata['SalePrice']\n",
    "\n",
    "kfold = cv.StratifiedKFold(n_splits=10) \n",
    "\n",
    "for col in X.columns:\n",
    "    X.loc[:,col] = pd.factorize(X.loc[:,col])[0]\n",
    "X.head()\n",
    "\n",
    "mnb = NB.MultinomialNB()\n",
    "\n",
    "cvs = cv.cross_val_score(mnb,X=X,y=Y,cv=kfold)\n",
    "np.mean(cvs)"
   ]
  },
  {
   "cell_type": "code",
   "execution_count": 15,
   "metadata": {},
   "outputs": [
    {
     "name": "stdout",
     "output_type": "stream",
     "text": [
      "[[271  55   9   7   0]\n",
      " [ 62 119  88  14  18]\n",
      " [  8  53 174  36  40]\n",
      " [  9  29 121  81  96]\n",
      " [ 10   0  30  40 170]]\n",
      "0.5292207792207793\n"
     ]
    }
   ],
   "source": [
    "pred = cv.cross_val_predict(mnb, X=X, y=Y, cv=kfold)  \n",
    "\n",
    "print(m.confusion_matrix(Y, pred))\n",
    "print(m.accuracy_score(Y, pred))"
   ]
  },
  {
   "cell_type": "code",
   "execution_count": 16,
   "metadata": {},
   "outputs": [
    {
     "name": "stdout",
     "output_type": "stream",
     "text": [
      "              precision    recall  f1-score   support\n",
      "\n",
      "      Level1       0.75      0.79      0.77       342\n",
      "      Level2       0.46      0.40      0.43       301\n",
      "      Level3       0.41      0.56      0.47       311\n",
      "      Level4       0.46      0.24      0.32       336\n",
      "      Level5       0.52      0.68      0.59       250\n",
      "\n",
      "    accuracy                           0.53      1540\n",
      "   macro avg       0.52      0.53      0.52      1540\n",
      "weighted avg       0.53      0.53      0.52      1540\n",
      "\n"
     ]
    }
   ],
   "source": [
    "print(m.classification_report(Y, pred))"
   ]
  },
  {
   "cell_type": "markdown",
   "metadata": {},
   "source": [
    "## Naive Bayes using PCA "
   ]
  },
  {
   "cell_type": "markdown",
   "metadata": {},
   "source": [
    "Using PCA we obtain some slightly better results. We have a final score of 0.678 with Gaussian Naive Bayes and 0.709 for the cross validation. This is an improvement, but the numbers are still a little bit lower than desired."
   ]
  },
  {
   "cell_type": "code",
   "execution_count": 33,
   "metadata": {},
   "outputs": [],
   "source": [
    "data_pca = pd.read_csv('../datasets/preprocessed/trainpca.csv', sep=',', na_values=\"NA\")"
   ]
  },
  {
   "cell_type": "code",
   "execution_count": 34,
   "metadata": {},
   "outputs": [
    {
     "data": {
      "text/html": [
       "<div>\n",
       "<style scoped>\n",
       "    .dataframe tbody tr th:only-of-type {\n",
       "        vertical-align: middle;\n",
       "    }\n",
       "\n",
       "    .dataframe tbody tr th {\n",
       "        vertical-align: top;\n",
       "    }\n",
       "\n",
       "    .dataframe thead th {\n",
       "        text-align: right;\n",
       "    }\n",
       "</style>\n",
       "<table border=\"1\" class=\"dataframe\">\n",
       "  <thead>\n",
       "    <tr style=\"text-align: right;\">\n",
       "      <th></th>\n",
       "      <th>0</th>\n",
       "      <th>1</th>\n",
       "      <th>2</th>\n",
       "      <th>3</th>\n",
       "      <th>4</th>\n",
       "      <th>5</th>\n",
       "    </tr>\n",
       "  </thead>\n",
       "  <tbody>\n",
       "    <tr>\n",
       "      <th>0</th>\n",
       "      <td>0.551880</td>\n",
       "      <td>0.483035</td>\n",
       "      <td>-0.707528</td>\n",
       "      <td>-0.032989</td>\n",
       "      <td>0.043738</td>\n",
       "      <td>-0.504799</td>\n",
       "    </tr>\n",
       "    <tr>\n",
       "      <th>1</th>\n",
       "      <td>-0.355187</td>\n",
       "      <td>-0.326004</td>\n",
       "      <td>-0.066491</td>\n",
       "      <td>-0.397804</td>\n",
       "      <td>-0.234813</td>\n",
       "      <td>-0.542305</td>\n",
       "    </tr>\n",
       "    <tr>\n",
       "      <th>2</th>\n",
       "      <td>1.017713</td>\n",
       "      <td>0.519211</td>\n",
       "      <td>0.170533</td>\n",
       "      <td>0.108878</td>\n",
       "      <td>0.203064</td>\n",
       "      <td>-0.473465</td>\n",
       "    </tr>\n",
       "    <tr>\n",
       "      <th>3</th>\n",
       "      <td>0.015638</td>\n",
       "      <td>0.682820</td>\n",
       "      <td>0.683731</td>\n",
       "      <td>-0.076190</td>\n",
       "      <td>0.155393</td>\n",
       "      <td>-0.487857</td>\n",
       "    </tr>\n",
       "    <tr>\n",
       "      <th>4</th>\n",
       "      <td>1.106544</td>\n",
       "      <td>0.579149</td>\n",
       "      <td>0.160572</td>\n",
       "      <td>0.117646</td>\n",
       "      <td>0.134389</td>\n",
       "      <td>-0.469887</td>\n",
       "    </tr>\n",
       "  </tbody>\n",
       "</table>\n",
       "</div>"
      ],
      "text/plain": [
       "          0         1         2         3         4         5\n",
       "0  0.551880  0.483035 -0.707528 -0.032989  0.043738 -0.504799\n",
       "1 -0.355187 -0.326004 -0.066491 -0.397804 -0.234813 -0.542305\n",
       "2  1.017713  0.519211  0.170533  0.108878  0.203064 -0.473465\n",
       "3  0.015638  0.682820  0.683731 -0.076190  0.155393 -0.487857\n",
       "4  1.106544  0.579149  0.160572  0.117646  0.134389 -0.469887"
      ]
     },
     "execution_count": 34,
     "metadata": {},
     "output_type": "execute_result"
    }
   ],
   "source": [
    "X = data_pca\n",
    "Y = data.loc[:,'SalePrice']\n",
    "X.head()"
   ]
  },
  {
   "cell_type": "code",
   "execution_count": 35,
   "metadata": {},
   "outputs": [
    {
     "data": {
      "text/plain": [
       "0.6782407407407407"
      ]
     },
     "execution_count": 35,
     "metadata": {},
     "output_type": "execute_result"
    }
   ],
   "source": [
    "X_train, X_test, y_train, y_test = cv.train_test_split(X, Y, test_size=.3, random_state=1)\n",
    "\n",
    "gnb = NB.GaussianNB()\n",
    "gnb.fit(X_train,y_train)\n",
    "gnb.score(X_test,y_test)"
   ]
  },
  {
   "cell_type": "code",
   "execution_count": 36,
   "metadata": {},
   "outputs": [
    {
     "data": {
      "text/plain": [
       "0.7093045843045843"
      ]
     },
     "execution_count": 36,
     "metadata": {},
     "output_type": "execute_result"
    }
   ],
   "source": [
    "cvs = cv.cross_val_score(gnb,X=X,y=Y,cv=kfold)\n",
    "np.mean(cvs)"
   ]
  },
  {
   "cell_type": "code",
   "execution_count": 37,
   "metadata": {},
   "outputs": [
    {
     "name": "stdout",
     "output_type": "stream",
     "text": [
      "[[ 34  80   0   0   0]\n",
      " [ 26 784  94   0   0]\n",
      " [  0 121 178  12   0]\n",
      " [  0   9  51  24   0]\n",
      " [  0   1  13  11   0]]\n",
      "0.7093184979137691\n",
      "              precision    recall  f1-score   support\n",
      "\n",
      "      Level1       0.57      0.30      0.39       114\n",
      "      Level2       0.79      0.87      0.83       904\n",
      "      Level3       0.53      0.57      0.55       311\n",
      "      Level4       0.51      0.29      0.37        84\n",
      "      Level5       0.00      0.00      0.00        25\n",
      "\n",
      "    accuracy                           0.71      1438\n",
      "   macro avg       0.48      0.40      0.43      1438\n",
      "weighted avg       0.68      0.71      0.69      1438\n",
      "\n"
     ]
    },
    {
     "name": "stderr",
     "output_type": "stream",
     "text": [
      "c:\\users\\adris\\appdata\\local\\programs\\python\\python37\\lib\\site-packages\\sklearn\\metrics\\_classification.py:1268: UndefinedMetricWarning: Precision and F-score are ill-defined and being set to 0.0 in labels with no predicted samples. Use `zero_division` parameter to control this behavior.\n",
      "  _warn_prf(average, modifier, msg_start, len(result))\n"
     ]
    }
   ],
   "source": [
    "pred = cv.cross_val_predict(gnb, X=X, y=Y, cv=kfold)  \n",
    "\n",
    "print(m.confusion_matrix(Y, pred))\n",
    "print(m.accuracy_score(Y, pred))\n",
    "print(m.classification_report(Y, pred))"
   ]
  }
 ],
 "metadata": {
  "kernelspec": {
   "display_name": "Python 3",
   "language": "python",
   "name": "python3"
  },
  "language_info": {
   "codemirror_mode": {
    "name": "ipython",
    "version": 3
   },
   "file_extension": ".py",
   "mimetype": "text/x-python",
   "name": "python",
   "nbconvert_exporter": "python",
   "pygments_lexer": "ipython3",
   "version": "3.7.3"
  }
 },
 "nbformat": 4,
 "nbformat_minor": 2
}
