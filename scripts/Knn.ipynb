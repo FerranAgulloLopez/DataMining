{
 "cells": [
  {
   "cell_type": "markdown",
   "metadata": {},
   "source": [
    "# K-NN"
   ]
  },
  {
   "cell_type": "markdown",
   "metadata": {},
   "source": [
    "Load the required modules"
   ]
  },
  {
   "cell_type": "code",
   "execution_count": 1,
   "metadata": {},
   "outputs": [],
   "source": [
    "import numpy as np   \n",
    "import pandas as pd\n",
    "import matplotlib.pyplot as plt        \n",
    "import sklearn\n",
    "import sklearn.datasets as ds            \n",
    "import sklearn.model_selection as cv   \n",
    "import sklearn.neighbors as nb      \n",
    "from sklearn.model_selection import GridSearchCV\n",
    "from sklearn import preprocessing\n",
    "from sklearn.model_selection import cross_val_score  \n",
    "from sklearn.model_selection import cross_val_predict  \n",
    "from sklearn.metrics import accuracy_score\n",
    "from statsmodels.stats.proportion import proportion_confint\n",
    "import warnings\n",
    "warnings.filterwarnings('ignore')\n",
    "%matplotlib inline                     "
   ]
  },
  {
   "cell_type": "markdown",
   "metadata": {},
   "source": [
    "**Index**"
   ]
  },
  {
   "cell_type": "markdown",
   "metadata": {},
   "source": [
    "1. Load data <br>\n",
    "2. Test accuracy <br>\n",
    "    2.1. Only numerical features <br>\n",
    "    2.2. Only categorical features <br>\n",
    "    2.3. Numerical and categorical features <br>\n",
    "    2.4. Only numerical features from PCA <br>\n",
    "    2.5. Numerical features from PCA and categorical <br>\n",
    "3. Some modifications <br>\n",
    "    3.1. Balanced dataset <br>\n",
    "    3.2. Change distance metric <br>\n",
    "4. How the amount of training data influences accuracy <br>\n",
    "6. Comparison table <br>\n",
    "7. Best result analysis <br>"
   ]
  },
  {
   "cell_type": "markdown",
   "metadata": {},
   "source": [
    "# 1. Load data"
   ]
  },
  {
   "cell_type": "markdown",
   "metadata": {},
   "source": [
    "We load the training and testing dataset from disk, the first to optimize our model and the second to check the accuracy."
   ]
  },
  {
   "cell_type": "code",
   "execution_count": 2,
   "metadata": {
    "scrolled": true
   },
   "outputs": [
    {
     "name": "stdout",
     "output_type": "stream",
     "text": [
      "Train data size (1006, 47)\n",
      "Test data size (432, 47)\n"
     ]
    }
   ],
   "source": [
    "train_data = pd.read_csv('../datasets/preprocessed/train.csv', sep=',')\n",
    "test_data = pd.read_csv('../datasets/preprocessed/test.csv', sep=',')\n",
    "id_train_data = train_data['Id'] # useful when merging datasets in 2.5. chapter\n",
    "id_test_data = test_data['Id'] # useful when merging datasets in 2.5. chapter\n",
    "train_data.drop(columns=['Id'],inplace=True)\n",
    "test_data.drop(columns=['Id'],inplace=True)\n",
    "print('Train data size ' + str(train_data.shape))\n",
    "print('Test data size ' + str(test_data.shape))"
   ]
  },
  {
   "cell_type": "code",
   "execution_count": 3,
   "metadata": {},
   "outputs": [],
   "source": [
    "y_train = train_data['SalePrice'].to_numpy()\n",
    "y_test = test_data['SalePrice'].to_numpy()\n",
    "train_data.drop(columns=['SalePrice'],inplace=True)\n",
    "test_data.drop(columns=['SalePrice'],inplace=True)"
   ]
  },
  {
   "cell_type": "code",
   "execution_count": 4,
   "metadata": {},
   "outputs": [
    {
     "name": "stdout",
     "output_type": "stream",
     "text": [
      "Train pca data size (1006, 6)\n",
      "Test pca data size (432, 6)\n"
     ]
    }
   ],
   "source": [
    "train_pca_data = pd.read_csv('../datasets/preprocessed/train_pca.csv', sep=',')\n",
    "test_pca_data = pd.read_csv('../datasets/preprocessed/test_pca.csv', sep=',')\n",
    "id_train_pca_data = train_pca_data['Id'] # useful when merging datasets in 2.5. chapter\n",
    "id_test_pca_data = test_pca_data['Id'] # useful when merging datasets in 2.5. chapter\n",
    "train_pca_data.drop(columns=['Id'],inplace=True)\n",
    "test_pca_data.drop(columns=['Id'],inplace=True)\n",
    "print('Train pca data size ' + str(train_pca_data.shape))\n",
    "print('Test pca data size ' + str(test_pca_data.shape))"
   ]
  },
  {
   "cell_type": "markdown",
   "metadata": {},
   "source": [
    "# 2. Test accuracy"
   ]
  },
  {
   "cell_type": "markdown",
   "metadata": {},
   "source": [
    "For each of the next types we are following the same template. We first do a general overview with a 10 cross validation, then we find the best parameters with consecutive 10 cross validation in the training data and finally we test the best model obtained with the test data. We will compare the different results in a table in the last chapter of this script."
   ]
  },
  {
   "cell_type": "markdown",
   "metadata": {},
   "source": [
    "The next functions are implemented here to reduce the code repetition in the next sections."
   ]
  },
  {
   "cell_type": "code",
   "execution_count": 5,
   "metadata": {},
   "outputs": [],
   "source": [
    "def make_k_cross_validation(k,X,Y):\n",
    "    return cross_val_score(nb.KNeighborsClassifier(),  \n",
    "                            X=X,  \n",
    "                            y=Y,  \n",
    "                            cv=k, scoring='f1_macro')  "
   ]
  },
  {
   "cell_type": "code",
   "execution_count": 6,
   "metadata": {},
   "outputs": [],
   "source": [
    "def find_best_params(X,y):\n",
    "    # Chart\n",
    "    lr = []\n",
    "    for ki in range(1,30,2):\n",
    "        cv_scores = cross_val_score(nb.KNeighborsClassifier(n_neighbors=ki), X=X, y=y, cv=10, scoring='f1_macro')\n",
    "        lr.append(np.mean(cv_scores))\n",
    "    plt.plot(range(1,30,2),lr,'b',label='No weighting')\n",
    "\n",
    "    lr = []\n",
    "    for ki in range(1,30,2):\n",
    "        cv_scores = cross_val_score(nb.KNeighborsClassifier(n_neighbors=ki,weights='distance'), X=X, y=y, cv=10)\n",
    "        lr.append(np.mean(cv_scores))\n",
    "    plt.plot(range(1,30,2),lr,'r',label='Weighting')\n",
    "    plt.xlabel('k')\n",
    "    plt.ylabel('F1 macro')\n",
    "    plt.legend(loc='upper right')\n",
    "    plt.grid()\n",
    "    plt.tight_layout()\n",
    "\n",
    "    plt.show()\n",
    "\n",
    "    # Grid search\n",
    "    params = {'n_neighbors':list(range(1,30,2)), 'weights':('distance','uniform')}\n",
    "    knc = nb.KNeighborsClassifier()\n",
    "    clf = GridSearchCV(knc, param_grid=params,cv=10,n_jobs=-1,scoring='f1_macro')\n",
    "    clf.fit(X_train, y_train)\n",
    "    print(\"Grid search best params=\",clf.best_params_, \"F1 macro=\", clf.best_score_)\n",
    "    return clf.best_params_"
   ]
  },
  {
   "cell_type": "code",
   "execution_count": 7,
   "metadata": {},
   "outputs": [],
   "source": [
    "def accuracy_with_test_data(n_neighbors,weights,X_train,y_train,X_test,y_test,metric='euclidean'):\n",
    "    knc = nb.KNeighborsClassifier(n_neighbors,weights,metric=metric)\n",
    "    knc.fit(X_train, y_train)\n",
    "    pred=knc.predict(X_test)\n",
    "    return pred"
   ]
  },
  {
   "cell_type": "code",
   "execution_count": 8,
   "metadata": {},
   "outputs": [],
   "source": [
    "def transform_categorical_to_numerical(X):\n",
    "    le = preprocessing.LabelEncoder()\n",
    "    i = 0\n",
    "    for t in X.dtypes:\n",
    "        if t==object or t==bool:\n",
    "            le.fit(X.iloc[:,i])\n",
    "            X.iloc[:,i] = le.fit_transform(X.iloc[:,i]) # transform them to numerical\n",
    "        i += 1\n",
    "    X = X.to_numpy()"
   ]
  },
  {
   "cell_type": "code",
   "execution_count": 9,
   "metadata": {},
   "outputs": [],
   "source": [
    "def print_confusion_matrix(pred):\n",
    "    print(sklearn.metrics.confusion_matrix(y_test, pred))"
   ]
  },
  {
   "cell_type": "code",
   "execution_count": 10,
   "metadata": {},
   "outputs": [],
   "source": [
    "def print_scores(pred):\n",
    "    accuracy = sklearn.metrics.accuracy_score(y_test, pred)\n",
    "    precision = sklearn.metrics.precision_score(y_test, pred, average='macro')\n",
    "    recall = sklearn.metrics.recall_score(y_test, pred, average='macro')\n",
    "    f1 = sklearn.metrics.f1_score(y_test, pred, average='macro')\n",
    "    print('F1 macro: ' + str(f1) + ', Accuracy: ' + str(accuracy) + ', Precision macro: ' + str(precision) + ', Recall macro: ' + str(recall))"
   ]
  },
  {
   "cell_type": "code",
   "execution_count": 11,
   "metadata": {},
   "outputs": [],
   "source": [
    "def print_classification_report(pred):\n",
    "    print(sklearn.metrics.classification_report(y_test, pred))"
   ]
  },
  {
   "cell_type": "markdown",
   "metadata": {},
   "source": [
    "## 2.1. Only numerical features"
   ]
  },
  {
   "cell_type": "code",
   "execution_count": 12,
   "metadata": {},
   "outputs": [],
   "source": [
    "# only numerical\n",
    "X_train = train_data.select_dtypes(include=['float64','int64'])\n",
    "X_test = test_data.select_dtypes(include=['float64','int64'])"
   ]
  },
  {
   "cell_type": "markdown",
   "metadata": {},
   "source": [
    "### 10-fold cross-validation"
   ]
  },
  {
   "cell_type": "code",
   "execution_count": 13,
   "metadata": {},
   "outputs": [
    {
     "name": "stdout",
     "output_type": "stream",
     "text": [
      "[0.6385386  0.39079794 0.57031746 0.30864558 0.3748433  0.5213986\n",
      " 0.64091977 0.4049166  0.45953336 0.57598214]\n"
     ]
    }
   ],
   "source": [
    "cv_scores = make_k_cross_validation(10,X_train,y_train)\n",
    "print(cv_scores)"
   ]
  },
  {
   "cell_type": "code",
   "execution_count": 14,
   "metadata": {},
   "outputs": [
    {
     "name": "stdout",
     "output_type": "stream",
     "text": [
      "0.4885893357580498\n",
      "0.11126959511272567\n"
     ]
    }
   ],
   "source": [
    "# Let's get the mean of the 10 validations (and standard deviation of them)\n",
    "print(np.mean(cv_scores))\n",
    "print(np.std(cv_scores))"
   ]
  },
  {
   "cell_type": "markdown",
   "metadata": {},
   "source": [
    "### Find best parameters"
   ]
  },
  {
   "cell_type": "code",
   "execution_count": 15,
   "metadata": {},
   "outputs": [
    {
     "data": {
      "image/png": "[encoded data removed]",
      "text/plain": [
       "<Figure size 432x288 with 1 Axes>"
      ]
     },
     "metadata": {
      "needs_background": "light"
     },
     "output_type": "display_data"
    },
    {
     "name": "stdout",
     "output_type": "stream",
     "text": [
      "Grid search best params= {'n_neighbors': 3, 'weights': 'distance'} F1 macro= 0.581386317792844\n"
     ]
    }
   ],
   "source": [
    "parval = find_best_params(X_train,y_train)"
   ]
  },
  {
   "cell_type": "markdown",
   "metadata": {},
   "source": [
    "### See results with test data"
   ]
  },
  {
   "cell_type": "code",
   "execution_count": 16,
   "metadata": {},
   "outputs": [
    {
     "name": "stdout",
     "output_type": "stream",
     "text": [
      "[[ 12  23   0   0   0]\n",
      " [  8 250  17   1   0]\n",
      " [  1  30  49   8   0]\n",
      " [  0   1  15   8   1]\n",
      " [  0   0   3   4   1]]\n",
      "F1 macro: 0.48164678458113136, Accuracy: 0.7407407407407407, Precision macro: 0.5716165413533835, Recall macro: 0.45009448522491996\n"
     ]
    }
   ],
   "source": [
    "pred = accuracy_with_test_data(parval['n_neighbors'],parval['weights'],X_train,y_train,X_test,y_test)\n",
    "print_confusion_matrix(pred)\n",
    "print_scores(pred)"
   ]
  },
  {
   "cell_type": "markdown",
   "metadata": {},
   "source": [
    "As we can see it clearly recognizes the second level but not the others. The level 3 and 4 are especially quite wrong."
   ]
  },
  {
   "cell_type": "markdown",
   "metadata": {},
   "source": [
    "## 2.2. Only categorical features"
   ]
  },
  {
   "cell_type": "code",
   "execution_count": 17,
   "metadata": {},
   "outputs": [],
   "source": [
    "# only categorical\n",
    "X_train = train_data.select_dtypes(include=['object','bool'])\n",
    "transform_categorical_to_numerical(X_train)\n",
    "X_test = test_data.select_dtypes(include=['object','bool'])\n",
    "transform_categorical_to_numerical(X_test)"
   ]
  },
  {
   "cell_type": "markdown",
   "metadata": {},
   "source": [
    "### 10-fold cross-validation"
   ]
  },
  {
   "cell_type": "code",
   "execution_count": 18,
   "metadata": {},
   "outputs": [
    {
     "name": "stdout",
     "output_type": "stream",
     "text": [
      "[0.43717172 0.35670386 0.68586299 0.33978654 0.25588235 0.37548517\n",
      " 0.51212121 0.41149519 0.4258918  0.50253968]\n"
     ]
    }
   ],
   "source": [
    "cv_scores = make_k_cross_validation(10,X_train,y_train)\n",
    "print(cv_scores)"
   ]
  },
  {
   "cell_type": "code",
   "execution_count": 19,
   "metadata": {},
   "outputs": [
    {
     "name": "stdout",
     "output_type": "stream",
     "text": [
      "0.430294051188526\n",
      "0.11166076257382\n"
     ]
    }
   ],
   "source": [
    "# Let's get the mean of the 10 validations (and standard deviation of them)\n",
    "print(np.mean(cv_scores))\n",
    "print(np.std(cv_scores))"
   ]
  },
  {
   "cell_type": "markdown",
   "metadata": {},
   "source": [
    "### Find best parameters"
   ]
  },
  {
   "cell_type": "code",
   "execution_count": 20,
   "metadata": {},
   "outputs": [
    {
     "data": {
      "image/png": "[encoded data removed]",
      "text/plain": [
       "<Figure size 432x288 with 1 Axes>"
      ]
     },
     "metadata": {
      "needs_background": "light"
     },
     "output_type": "display_data"
    },
    {
     "name": "stdout",
     "output_type": "stream",
     "text": [
      "Grid search best params= {'n_neighbors': 3, 'weights': 'distance'} F1 macro= 0.45564851272320456\n"
     ]
    }
   ],
   "source": [
    "parval = find_best_params(X_train,y_train)"
   ]
  },
  {
   "cell_type": "markdown",
   "metadata": {},
   "source": [
    "### See results with test data"
   ]
  },
  {
   "cell_type": "code",
   "execution_count": 21,
   "metadata": {},
   "outputs": [
    {
     "name": "stdout",
     "output_type": "stream",
     "text": [
      "[[ 11  24   0   0   0]\n",
      " [ 16 227  30   3   0]\n",
      " [  2  37  43   5   1]\n",
      " [  0   5  12   4   4]\n",
      " [  0   1   3   2   2]]\n",
      "F1 macro: 0.4201344927002822, Accuracy: 0.6643518518518519, Precision macro: 0.4422968246859872, Recall macro: 0.40707716920760395\n"
     ]
    }
   ],
   "source": [
    "pred = accuracy_with_test_data(parval['n_neighbors'],parval['weights'],X_train,y_train,X_test,y_test)\n",
    "print_confusion_matrix(pred)\n",
    "print_scores(pred)"
   ]
  },
  {
   "cell_type": "markdown",
   "metadata": {},
   "source": [
    "Like in the previous one, it clearly recognizes the second level. However it misleads the 1st, 4th and 5th level."
   ]
  },
  {
   "cell_type": "markdown",
   "metadata": {},
   "source": [
    "## 2.3. Categorical and numerical features"
   ]
  },
  {
   "cell_type": "code",
   "execution_count": 22,
   "metadata": {},
   "outputs": [],
   "source": [
    "X_train = train_data.copy()\n",
    "transform_categorical_to_numerical(X_train)\n",
    "X_test = test_data.copy()\n",
    "transform_categorical_to_numerical(X_test)"
   ]
  },
  {
   "cell_type": "markdown",
   "metadata": {},
   "source": [
    "### 10-fold cross-validation"
   ]
  },
  {
   "cell_type": "code",
   "execution_count": 23,
   "metadata": {},
   "outputs": [
    {
     "name": "stdout",
     "output_type": "stream",
     "text": [
      "[0.45151936 0.35661187 0.69338875 0.33978654 0.4400707  0.51070501\n",
      " 0.51551434 0.46825312 0.42184874 0.51461039]\n"
     ]
    }
   ],
   "source": [
    "cv_scores = make_k_cross_validation(10,X_train,y_train)\n",
    "print(cv_scores)"
   ]
  },
  {
   "cell_type": "code",
   "execution_count": 24,
   "metadata": {},
   "outputs": [
    {
     "name": "stdout",
     "output_type": "stream",
     "text": [
      "0.4712308818662594\n",
      "0.0943277409051791\n"
     ]
    }
   ],
   "source": [
    "# Let's get the mean of the 10 validations (and standard deviation of them)\n",
    "print(np.mean(cv_scores))\n",
    "print(np.std(cv_scores))"
   ]
  },
  {
   "cell_type": "markdown",
   "metadata": {},
   "source": [
    "### Find best parameters"
   ]
  },
  {
   "cell_type": "code",
   "execution_count": 25,
   "metadata": {},
   "outputs": [
    {
     "data": {
      "image/png": "[encoded data removed]",
      "text/plain": [
       "<Figure size 432x288 with 1 Axes>"
      ]
     },
     "metadata": {
      "needs_background": "light"
     },
     "output_type": "display_data"
    },
    {
     "name": "stdout",
     "output_type": "stream",
     "text": [
      "Grid search best params= {'n_neighbors': 5, 'weights': 'uniform'} F1 macro= 0.4712308818662594\n"
     ]
    }
   ],
   "source": [
    "parval = find_best_params(X_train,y_train)"
   ]
  },
  {
   "cell_type": "markdown",
   "metadata": {},
   "source": [
    "### See results with test data"
   ]
  },
  {
   "cell_type": "code",
   "execution_count": 26,
   "metadata": {},
   "outputs": [
    {
     "name": "stdout",
     "output_type": "stream",
     "text": [
      "[[  8  27   0   0   0]\n",
      " [ 11 243  22   0   0]\n",
      " [  0  40  45   3   0]\n",
      " [  0   6  12   5   2]\n",
      " [  0   2   3   2   1]]\n",
      "F1 macro: 0.4222844693432929, Accuracy: 0.6990740740740741, Precision macro: 0.5134634792226771, Recall macro: 0.3890739695087521\n"
     ]
    }
   ],
   "source": [
    "pred = accuracy_with_test_data(parval['n_neighbors'],parval['weights'],X_train,y_train,X_test,y_test)\n",
    "print_confusion_matrix(pred)\n",
    "print_scores(pred)"
   ]
  },
  {
   "cell_type": "markdown",
   "metadata": {},
   "source": [
    "It is pretty similar to the last one."
   ]
  },
  {
   "cell_type": "markdown",
   "metadata": {},
   "source": [
    "## 2.4. Only numerical features from PCA"
   ]
  },
  {
   "cell_type": "code",
   "execution_count": 27,
   "metadata": {},
   "outputs": [],
   "source": [
    "X_train = train_pca_data.copy()\n",
    "X_test = test_pca_data.copy()"
   ]
  },
  {
   "cell_type": "markdown",
   "metadata": {},
   "source": [
    "### 10 cross-validation"
   ]
  },
  {
   "cell_type": "code",
   "execution_count": 28,
   "metadata": {},
   "outputs": [
    {
     "name": "stdout",
     "output_type": "stream",
     "text": [
      "[0.66999349 0.34500829 0.47306373 0.47014493 0.42513381 0.67372627\n",
      " 0.75794038 0.47197247 0.49056553 0.50272727]\n"
     ]
    }
   ],
   "source": [
    "cv_scores = make_k_cross_validation(10,X_train,y_train)\n",
    "print(cv_scores)"
   ]
  },
  {
   "cell_type": "code",
   "execution_count": 29,
   "metadata": {},
   "outputs": [
    {
     "name": "stdout",
     "output_type": "stream",
     "text": [
      "0.5280276184781012\n",
      "0.12242655860938408\n"
     ]
    }
   ],
   "source": [
    "# Let's get the mean of the 10 validations (and standard deviation of them)\n",
    "print(np.mean(cv_scores))\n",
    "print(np.std(cv_scores))"
   ]
  },
  {
   "cell_type": "markdown",
   "metadata": {},
   "source": [
    "### Find best parameters"
   ]
  },
  {
   "cell_type": "code",
   "execution_count": 30,
   "metadata": {},
   "outputs": [
    {
     "data": {
      "image/png": "[encoded data removed]",
      "text/plain": [
       "<Figure size 432x288 with 1 Axes>"
      ]
     },
     "metadata": {
      "needs_background": "light"
     },
     "output_type": "display_data"
    },
    {
     "name": "stdout",
     "output_type": "stream",
     "text": [
      "Grid search best params= {'n_neighbors': 9, 'weights': 'distance'} F1 macro= 0.5980861681126852\n"
     ]
    }
   ],
   "source": [
    "parval = find_best_params(X_train,y_train)"
   ]
  },
  {
   "cell_type": "markdown",
   "metadata": {},
   "source": [
    "### See results with test data"
   ]
  },
  {
   "cell_type": "code",
   "execution_count": 31,
   "metadata": {},
   "outputs": [
    {
     "name": "stdout",
     "output_type": "stream",
     "text": [
      "[[  9  26   0   0   0]\n",
      " [  7 255  14   0   0]\n",
      " [  0  26  53   8   1]\n",
      " [  0   0  10  15   0]\n",
      " [  0   0   3   3   2]]\n",
      "F1 macro: 0.5621101613887408, Accuracy: 0.7731481481481481, Precision macro: 0.6598417272195773, Recall macro: 0.526665725578769\n"
     ]
    }
   ],
   "source": [
    "pred = accuracy_with_test_data(parval['n_neighbors'],parval['weights'],X_train,y_train,X_test,y_test)\n",
    "print_confusion_matrix(pred)\n",
    "print_scores(pred)"
   ]
  },
  {
   "cell_type": "markdown",
   "metadata": {},
   "source": [
    "As we can see it's better than the prior ones, but it still has the same errors, especially in the 1st and last level."
   ]
  },
  {
   "cell_type": "markdown",
   "metadata": {},
   "source": [
    "## 2.5. Numerical features from PCA and categorical"
   ]
  },
  {
   "cell_type": "code",
   "execution_count": 32,
   "metadata": {},
   "outputs": [],
   "source": [
    "cat_train = train_data.select_dtypes(include=['object','bool'])\n",
    "cat_test = test_data.select_dtypes(include=['object','bool'])\n",
    "transform_categorical_to_numerical(cat_train)\n",
    "transform_categorical_to_numerical(cat_test)\n",
    "cat_train['Id'] = id_train_data\n",
    "cat_test['Id'] = id_test_data\n",
    "X_train = train_pca_data.copy()\n",
    "X_test = test_pca_data.copy()\n",
    "X_train['Id'] = id_train_pca_data\n",
    "X_test['Id'] = id_test_pca_data\n",
    "X_train = pd.merge(X_train, cat_train, on='Id')\n",
    "X_test = pd.merge(X_test, cat_test, on='Id')\n",
    "X_train.drop(columns=['Id'],inplace=True)\n",
    "X_test.drop(columns=['Id'],inplace=True)"
   ]
  },
  {
   "cell_type": "markdown",
   "metadata": {},
   "source": [
    "### 10 cross-validation"
   ]
  },
  {
   "cell_type": "code",
   "execution_count": 33,
   "metadata": {},
   "outputs": [
    {
     "name": "stdout",
     "output_type": "stream",
     "text": [
      "[0.45450443 0.35251591 0.69837188 0.33130981 0.44448441 0.51070501\n",
      " 0.51678156 0.47555556 0.43388083 0.49492723]\n"
     ]
    }
   ],
   "source": [
    "cv_scores = make_k_cross_validation(10,X_train,y_train)\n",
    "print(cv_scores)"
   ]
  },
  {
   "cell_type": "code",
   "execution_count": 34,
   "metadata": {},
   "outputs": [
    {
     "name": "stdout",
     "output_type": "stream",
     "text": [
      "0.471303660814108\n",
      "0.09584758498345462\n"
     ]
    }
   ],
   "source": [
    "# Let's get the mean of the 10 validations (and standard deviation of them)\n",
    "print(np.mean(cv_scores))\n",
    "print(np.std(cv_scores))"
   ]
  },
  {
   "cell_type": "markdown",
   "metadata": {},
   "source": [
    "### Find best parameters"
   ]
  },
  {
   "cell_type": "code",
   "execution_count": 35,
   "metadata": {},
   "outputs": [
    {
     "data": {
      "image/png": "[encoded data removed]",
      "text/plain": [
       "<Figure size 432x288 with 1 Axes>"
      ]
     },
     "metadata": {
      "needs_background": "light"
     },
     "output_type": "display_data"
    },
    {
     "name": "stdout",
     "output_type": "stream",
     "text": [
      "Grid search best params= {'n_neighbors': 5, 'weights': 'uniform'} F1 macro= 0.471303660814108\n"
     ]
    }
   ],
   "source": [
    "parval = find_best_params(X_train,y_train)"
   ]
  },
  {
   "cell_type": "markdown",
   "metadata": {},
   "source": [
    "### See results with test data"
   ]
  },
  {
   "cell_type": "code",
   "execution_count": 36,
   "metadata": {},
   "outputs": [
    {
     "name": "stdout",
     "output_type": "stream",
     "text": [
      "[[  8  27   0   0   0]\n",
      " [ 12 243  21   0   0]\n",
      " [  0  38  47   3   0]\n",
      " [  0   6  12   5   2]\n",
      " [  0   1   4   2   1]]\n",
      "F1 macro: 0.42545764234584926, Accuracy: 0.7037037037037037, Precision macro: 0.5128571428571429, Recall macro: 0.39361942405420663\n"
     ]
    }
   ],
   "source": [
    "pred = accuracy_with_test_data(parval['n_neighbors'],parval['weights'],X_train,y_train,X_test,y_test)\n",
    "print_confusion_matrix(pred)\n",
    "print_scores(pred)"
   ]
  },
  {
   "cell_type": "markdown",
   "metadata": {},
   "source": [
    "It is very similar to the previous ones."
   ]
  },
  {
   "cell_type": "markdown",
   "metadata": {},
   "source": [
    "# 3. Some modifications"
   ]
  },
  {
   "cell_type": "markdown",
   "metadata": {},
   "source": [
    "In this section we are going to test some variations of the model which obtained the best accuracy in the last part, but with numerical features from PCA."
   ]
  },
  {
   "cell_type": "markdown",
   "metadata": {},
   "source": [
    "## 3.1. Balanced dataset"
   ]
  },
  {
   "cell_type": "markdown",
   "metadata": {},
   "source": [
    "The feature to predict is very unbalanced, so we are gonna try to balance it in the training dataset and see if the accuracy increases."
   ]
  },
  {
   "cell_type": "code",
   "execution_count": 37,
   "metadata": {},
   "outputs": [],
   "source": [
    "X_train = train_pca_data.copy()\n",
    "X_test = test_pca_data.copy()"
   ]
  },
  {
   "cell_type": "code",
   "execution_count": 38,
   "metadata": {},
   "outputs": [
    {
     "data": {
      "text/plain": [
       "Level1    237\n",
       "Level4    236\n",
       "Level3    223\n",
       "Level2    209\n",
       "Level5    204\n",
       "Name: SalePrice, dtype: int64"
      ]
     },
     "execution_count": 38,
     "metadata": {},
     "output_type": "execute_result"
    }
   ],
   "source": [
    "aux = train_pca_data.copy()\n",
    "aux['SalePrice'] = y_train\n",
    "\n",
    "X1 = aux[aux['SalePrice'] == 'Level1']\n",
    "X2 = aux[aux['SalePrice'] == 'Level2']\n",
    "X3 = aux[aux['SalePrice'] == 'Level3']\n",
    "X4 = aux[aux['SalePrice'] == 'Level4']\n",
    "X5 = aux[aux['SalePrice'] == 'Level5']\n",
    "\n",
    "train_pca_data_balanced = pd.DataFrame()\n",
    "\n",
    "for i in range(3):\n",
    "    train_pca_data_balanced = train_pca_data_balanced.append(X1, ignore_index = True)\n",
    "train_pca_data_balanced = train_pca_data_balanced.append(X2.sample(frac=1/3), ignore_index = True)\n",
    "train_pca_data_balanced = train_pca_data_balanced.append(X3, ignore_index = True)\n",
    "for i in range(4):\n",
    "    train_pca_data_balanced = train_pca_data_balanced.append(X4, ignore_index = True)\n",
    "for i in range(12):\n",
    "    train_pca_data_balanced = train_pca_data_balanced.append(X5, ignore_index = True)\n",
    "\n",
    "train_pca_data_balanced['SalePrice'].value_counts()"
   ]
  },
  {
   "cell_type": "code",
   "execution_count": 39,
   "metadata": {},
   "outputs": [],
   "source": [
    "y_train_balanced = train_pca_data_balanced['SalePrice']\n",
    "train_pca_data_balanced.drop(columns=['SalePrice'],inplace=True)"
   ]
  },
  {
   "cell_type": "code",
   "execution_count": 40,
   "metadata": {
    "scrolled": true
   },
   "outputs": [
    {
     "data": {
      "image/png": "[encoded data removed]",
      "text/plain": [
       "<Figure size 432x288 with 1 Axes>"
      ]
     },
     "metadata": {
      "needs_background": "light"
     },
     "output_type": "display_data"
    },
    {
     "name": "stdout",
     "output_type": "stream",
     "text": [
      "Grid search best params= {'n_neighbors': 9, 'weights': 'distance'} F1 macro= 0.5980861681126852\n"
     ]
    }
   ],
   "source": [
    "parval = find_best_params(train_pca_data_balanced,y_train_balanced)"
   ]
  },
  {
   "cell_type": "code",
   "execution_count": 41,
   "metadata": {},
   "outputs": [
    {
     "data": {
      "text/plain": [
       "(1109, 6)"
      ]
     },
     "execution_count": 41,
     "metadata": {},
     "output_type": "execute_result"
    }
   ],
   "source": [
    "train_pca_data_balanced.shape"
   ]
  },
  {
   "cell_type": "code",
   "execution_count": 42,
   "metadata": {},
   "outputs": [
    {
     "data": {
      "text/plain": [
       "(1109,)"
      ]
     },
     "execution_count": 42,
     "metadata": {},
     "output_type": "execute_result"
    }
   ],
   "source": [
    "y_train_balanced.shape"
   ]
  },
  {
   "cell_type": "code",
   "execution_count": 43,
   "metadata": {},
   "outputs": [
    {
     "data": {
      "text/plain": [
       "Level1    237\n",
       "Level4    236\n",
       "Level3    223\n",
       "Level2    209\n",
       "Level5    204\n",
       "Name: SalePrice, dtype: int64"
      ]
     },
     "execution_count": 43,
     "metadata": {},
     "output_type": "execute_result"
    }
   ],
   "source": [
    "y_train_balanced.value_counts()"
   ]
  },
  {
   "cell_type": "code",
   "execution_count": 44,
   "metadata": {},
   "outputs": [
    {
     "data": {
      "text/plain": [
       "(432, 6)"
      ]
     },
     "execution_count": 44,
     "metadata": {},
     "output_type": "execute_result"
    }
   ],
   "source": [
    "X_test.shape"
   ]
  },
  {
   "cell_type": "code",
   "execution_count": 45,
   "metadata": {},
   "outputs": [
    {
     "data": {
      "text/plain": [
       "(432,)"
      ]
     },
     "execution_count": 45,
     "metadata": {},
     "output_type": "execute_result"
    }
   ],
   "source": [
    "y_test.shape"
   ]
  },
  {
   "cell_type": "code",
   "execution_count": 46,
   "metadata": {},
   "outputs": [
    {
     "name": "stdout",
     "output_type": "stream",
     "text": [
      "[[ 31   4   0   0   0]\n",
      " [ 70 170  33   3   0]\n",
      " [  0   6  66  15   1]\n",
      " [  0   0   3  19   3]\n",
      " [  0   0   1   3   4]]\n",
      "F1 macro: 0.5954422498168143, Accuracy: 0.6712962962962963, Precision macro: 0.5734303673085756, Recall macro: 0.7023312629399585\n",
      "              precision    recall  f1-score   support\n",
      "\n",
      "      Level1       0.31      0.89      0.46        35\n",
      "      Level2       0.94      0.62      0.75       276\n",
      "      Level3       0.64      0.75      0.69        88\n",
      "      Level4       0.47      0.76      0.58        25\n",
      "      Level5       0.50      0.50      0.50         8\n",
      "\n",
      "    accuracy                           0.67       432\n",
      "   macro avg       0.57      0.70      0.60       432\n",
      "weighted avg       0.80      0.67      0.70       432\n",
      "\n"
     ]
    }
   ],
   "source": [
    "pred = accuracy_with_test_data(parval['n_neighbors'],parval['weights'],train_pca_data_balanced,y_train_balanced,X_test,y_test)\n",
    "print_confusion_matrix(pred)\n",
    "print_scores(pred)\n",
    "print_classification_report(pred)"
   ]
  },
  {
   "cell_type": "markdown",
   "metadata": {},
   "source": [
    "We can see that the overall accuracy decreases but the different levels are more accurate than in the previous tests (with a higher f1 macro score)."
   ]
  },
  {
   "cell_type": "markdown",
   "metadata": {},
   "source": [
    "Let's do a McNemar test to see if the results are statistically different than the model with the input not balanced."
   ]
  },
  {
   "cell_type": "code",
   "execution_count": 47,
   "metadata": {},
   "outputs": [
    {
     "name": "stdout",
     "output_type": "stream",
     "text": [
      "Have the classifiers significant different accuracy?: True\n"
     ]
    }
   ],
   "source": [
    "# Numerical features from PCA with input not balanced\n",
    "n_neighbors = 9 # best params found earlier\n",
    "weights = 'distance' # best params found earlier\n",
    "pred_not_balanced = accuracy_with_test_data(n_neighbors,weights,X_train,y_train,X_test,y_test)\n",
    "\n",
    "res1=np.zeros(y_test.shape)\n",
    "res1[pred==y_test]=1\n",
    "res2=np.zeros(y_test.shape)\n",
    "res2[pred_not_balanced==y_test]=1\n",
    "\n",
    "# Build contingency matrix\n",
    "n00 = np.sum([res1[res2==1]==1])\n",
    "n11 = np.sum([res1[res2==0]==0])\n",
    "n10 = np.sum([res1[res2==1]==0])\n",
    "n01 = np.sum([res1[res2==0]==1])\n",
    "\n",
    "# Chi -square test\n",
    "print(\"Have the classifiers significant different accuracy?:\",(np.abs(n01-n10)-1)**2/(n01+n10)>3.84)"
   ]
  },
  {
   "cell_type": "markdown",
   "metadata": {},
   "source": [
    "So the classifier trained with balanced data it's better than the one who is not."
   ]
  },
  {
   "cell_type": "markdown",
   "metadata": {},
   "source": [
    "## 3.2. Change distance metric"
   ]
  },
  {
   "cell_type": "markdown",
   "metadata": {},
   "source": [
    "Let's do a grid search and a chart to find what is the best distance metric. We are doing this test with the numerical features obtained from PCA."
   ]
  },
  {
   "cell_type": "code",
   "execution_count": 48,
   "metadata": {},
   "outputs": [],
   "source": [
    "X_train = train_pca_data_balanced.copy()\n",
    "X_test = test_pca_data.copy()"
   ]
  },
  {
   "cell_type": "code",
   "execution_count": 49,
   "metadata": {},
   "outputs": [
    {
     "data": {
      "image/png": "[encoded data removed]",
      "text/plain": [
       "<Figure size 432x288 with 1 Axes>"
      ]
     },
     "metadata": {
      "needs_background": "light"
     },
     "output_type": "display_data"
    }
   ],
   "source": [
    "# Chart\n",
    "lr = []\n",
    "for ki in range(1,30,2):\n",
    "    cv_scores = cross_val_score(nb.KNeighborsClassifier(n_neighbors=ki,weights='distance',metric='euclidean'), X=X_train, y=y_train_balanced, cv=10, scoring='f1_macro')\n",
    "    lr.append(np.mean(cv_scores))\n",
    "plt.plot(range(1,30,2),lr,'b',label='Euclidean')\n",
    "\n",
    "lr = []\n",
    "for ki in range(1,30,2):\n",
    "    cv_scores = cross_val_score(nb.KNeighborsClassifier(n_neighbors=ki,weights='distance',metric='manhattan'), X=X_train, y=y_train_balanced, cv=10, scoring='f1_macro')\n",
    "    lr.append(np.mean(cv_scores))\n",
    "plt.plot(range(1,30,2),lr,'r',label='Manhattan')\n",
    "\n",
    "lr = []\n",
    "for ki in range(1,30,2):\n",
    "    cv_scores = cross_val_score(nb.KNeighborsClassifier(n_neighbors=ki,weights='distance',metric='chebyshev'), X=X_train, y=y_train_balanced, cv=10, scoring='f1_macro')\n",
    "    lr.append(np.mean(cv_scores))\n",
    "plt.plot(range(1,30,2),lr,'y',label='Chebyshev')\n",
    "\n",
    "plt.xlabel('k')\n",
    "plt.ylabel('F1 macro')\n",
    "plt.legend(loc='upper right')\n",
    "plt.grid()\n",
    "plt.tight_layout()\n",
    "\n",
    "plt.show()"
   ]
  },
  {
   "cell_type": "code",
   "execution_count": 50,
   "metadata": {},
   "outputs": [
    {
     "name": "stdout",
     "output_type": "stream",
     "text": [
      "Grid search best params= {'metric': 'chebyshev', 'n_neighbors': 1} F1 macro= 0.8824500335124931\n"
     ]
    }
   ],
   "source": [
    "#Grid search\n",
    "params = {'n_neighbors':list(range(1,30,2)), 'metric': ('euclidean','manhattan','chebyshev')}\n",
    "knc = nb.KNeighborsClassifier(weights='distance')\n",
    "clf = GridSearchCV(knc, param_grid=params,cv=10,n_jobs=-1,scoring='f1_macro')\n",
    "clf.fit(X_train, y_train_balanced)\n",
    "print(\"Grid search best params=\",clf.best_params_, \"F1 macro=\", clf.best_score_)"
   ]
  },
  {
   "cell_type": "markdown",
   "metadata": {},
   "source": [
    "Let's see the results with the test dataset"
   ]
  },
  {
   "cell_type": "code",
   "execution_count": 51,
   "metadata": {},
   "outputs": [
    {
     "name": "stdout",
     "output_type": "stream",
     "text": [
      "[[ 16  19   0   0   0]\n",
      " [ 40 201  33   2   0]\n",
      " [  0  11  65  11   1]\n",
      " [  0   0  12  12   1]\n",
      " [  0   0   4   0   4]]\n",
      "F1 macro: 0.567908137559318, Accuracy: 0.6898148148148148, Precision macro: 0.5745372522214628, Recall macro: 0.5808080180688877\n"
     ]
    }
   ],
   "source": [
    "pred = accuracy_with_test_data(1,'distance',train_pca_data_balanced,y_train_balanced,X_test,y_test,'chebyshev')\n",
    "print_confusion_matrix(pred)\n",
    "print_scores(pred)"
   ]
  },
  {
   "cell_type": "markdown",
   "metadata": {},
   "source": [
    "We can see it is not better than with the default distance metric."
   ]
  },
  {
   "cell_type": "markdown",
   "metadata": {},
   "source": [
    "# 4. How the amount of training data influences accuracy"
   ]
  },
  {
   "cell_type": "code",
   "execution_count": 52,
   "metadata": {},
   "outputs": [],
   "source": [
    "X_train = train_pca_data_balanced.copy()\n",
    "X_test = test_pca_data.copy()\n",
    "n_neighbors = 9\n",
    "weights = 'distance'"
   ]
  },
  {
   "cell_type": "code",
   "execution_count": 53,
   "metadata": {},
   "outputs": [
    {
     "data": {
      "image/png": "[encoded data removed]",
      "text/plain": [
       "<Figure size 432x288 with 1 Axes>"
      ]
     },
     "metadata": {
      "needs_background": "light"
     },
     "output_type": "display_data"
    }
   ],
   "source": [
    "train_sizes, train_scores, test_scores =\\\n",
    "                sklearn.model_selection.learning_curve(estimator=nb.KNeighborsClassifier(n_neighbors,weights),\n",
    "                               X=X_train,\n",
    "                               y=y_train_balanced,\n",
    "                               train_sizes=np.linspace(0.05, 1.0, 10),\n",
    "                               cv=10,\n",
    "                               n_jobs=-1)\n",
    "\n",
    "train_mean = np.mean(train_scores, axis=1)\n",
    "train_std = np.std(train_scores, axis=1)\n",
    "test_mean = np.mean(test_scores, axis=1)\n",
    "test_std = np.std(test_scores, axis=1)\n",
    "\n",
    "plt.plot(train_sizes, test_mean,\n",
    "         color='green', linestyle='--',\n",
    "         marker='s', markersize=5,\n",
    "         label='training accuracy')\n",
    "\n",
    "plt.fill_between(train_sizes,\n",
    "                 test_mean + test_std,\n",
    "                 test_mean - test_std,\n",
    "                 alpha=0.15, color='green')\n",
    "\n",
    "plt.grid(True)\n",
    "plt.xlabel('Number of training samples')\n",
    "plt.ylabel('F1 macro')\n",
    "plt.legend(loc='lower right')\n",
    "plt.ylim([0.1, 1.03])\n",
    "plt.tight_layout()\n",
    "plt.savefig('learning_curve.png', dpi=600)\n",
    "plt.show()"
   ]
  },
  {
   "cell_type": "markdown",
   "metadata": {},
   "source": [
    "We can see a clearly a linear relation between the input samples and the quality of the classifier. It seems it gets stabilized around 900 samples but we don't have enough information to confirm it."
   ]
  },
  {
   "cell_type": "markdown",
   "metadata": {},
   "source": [
    "# 5. Comparison table "
   ]
  },
  {
   "cell_type": "markdown",
   "metadata": {},
   "source": [
    "The next table compares the results of all the previous tests"
   ]
  },
  {
   "cell_type": "markdown",
   "metadata": {},
   "source": [
    "| Model | F1 macro | Accuracy | Precision macro | Recall macro |\n",
    "|------|------|------|------|------|\n",
    "| Only numerical features | 0.48 | 0.74 | 0.57 | 0.57 |\n",
    "| Only categorical features | 0.42 | 0.66 | 0.44 | 0.44 |\n",
    "| Numerical and categorical features | 0.42 | 0.7 | 0.51 | 0.51 |\n",
    "| Only numerical features from PCA | 0.56 | 0.77 | 0.65 | 0.66 |\n",
    "| Numerical features from PCA and categorical | 0.43 | 0.7 | 0.51 | 0.51 |\n",
    "| Balanced dataset with only the numerical features from PCA | 0.59 | 0.68 | 0.57 | 0.57 |"
   ]
  },
  {
   "cell_type": "markdown",
   "metadata": {},
   "source": [
    "As we can see the model with the higher f1 score is the one obtained only with the numerical features from PCA in a balanced dataset. We should take into account that the model with the higher accuracy is the one with an unbalanced dataset."
   ]
  },
  {
   "cell_type": "markdown",
   "metadata": {},
   "source": [
    "# 6. Best result analysis"
   ]
  },
  {
   "cell_type": "markdown",
   "metadata": {},
   "source": [
    "Let's show the different scores for the model with only the numerical features from PCA."
   ]
  },
  {
   "cell_type": "code",
   "execution_count": 54,
   "metadata": {},
   "outputs": [
    {
     "name": "stdout",
     "output_type": "stream",
     "text": [
      "              precision    recall  f1-score   support\n",
      "\n",
      "      Level1       0.31      0.89      0.46        35\n",
      "      Level2       0.94      0.62      0.75       276\n",
      "      Level3       0.64      0.75      0.69        88\n",
      "      Level4       0.47      0.76      0.58        25\n",
      "      Level5       0.50      0.50      0.50         8\n",
      "\n",
      "    accuracy                           0.67       432\n",
      "   macro avg       0.57      0.70      0.60       432\n",
      "weighted avg       0.80      0.67      0.70       432\n",
      "\n"
     ]
    }
   ],
   "source": [
    "X_train = train_pca_data_balanced.copy()\n",
    "X_test = test_pca_data.copy()\n",
    "n_neighbors = 9\n",
    "weights = 'distance'\n",
    "pred = accuracy_with_test_data(n_neighbors,weights,X_train,y_train_balanced,X_test,y_test)\n",
    "print_classification_report(pred)"
   ]
  },
  {
   "cell_type": "markdown",
   "metadata": {},
   "source": [
    "- Level1: Almost all the elements of the level 1 are predicted as level 1 but only 34% of the elements of Level1 are correctly predicted.\n",
    "- Level2: This is the one with the best precision and f1 score.\n",
    "- Level3: It has very similar precision and recall scores.\n",
    "- Level4: It has a low precision but a good recall.\n",
    "- Level5: The results are not very good, it has 0.5 as precision and 0.5 as recall."
   ]
  },
  {
   "cell_type": "markdown",
   "metadata": {},
   "source": [
    "Let's compute the interval of confidence."
   ]
  },
  {
   "cell_type": "code",
   "execution_count": 55,
   "metadata": {},
   "outputs": [
    {
     "name": "stdout",
     "output_type": "stream",
     "text": [
      "Confidence interval:  (0.547487587741526, 0.6413153646843415)\n"
     ]
    }
   ],
   "source": [
    "epsilon = sklearn.metrics.f1_score(y_test, pred, average='macro')\n",
    "print(\"Confidence interval: \",proportion_confint(count=epsilon*X_test.shape[0], nobs=X_test.shape[0], alpha=0.05, method='binom_test'))"
   ]
  }
 ],
 "metadata": {
  "kernelspec": {
   "display_name": "Python 3",
   "language": "python",
   "name": "python3"
  },
  "language_info": {
   "codemirror_mode": {
    "name": "ipython",
    "version": 2
   },
   "file_extension": ".py",
   "mimetype": "text/x-python",
   "name": "python",
   "nbconvert_exporter": "python",
   "pygments_lexer": "ipython2",
   "version": "2.7.15+"
  }
 },
 "nbformat": 4,
 "nbformat_minor": 2
}
