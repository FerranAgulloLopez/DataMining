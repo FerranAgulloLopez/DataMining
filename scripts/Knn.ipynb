{
 "cells": [
  {
   "cell_type": "markdown",
   "metadata": {},
   "source": [
    "# K-NN"
   ]
  },
  {
   "cell_type": "markdown",
   "metadata": {},
   "source": [
    "Load the required modules"
   ]
  },
  {
   "cell_type": "code",
   "execution_count": 183,
   "metadata": {},
   "outputs": [],
   "source": [
    "import numpy as np   \n",
    "import pandas as pd\n",
    "import matplotlib.pyplot as plt        \n",
    "import sklearn\n",
    "import sklearn.datasets as ds            \n",
    "import sklearn.model_selection as cv   \n",
    "import sklearn.neighbors as nb      \n",
    "from sklearn.model_selection import GridSearchCV\n",
    "from sklearn import preprocessing\n",
    "from sklearn.model_selection import cross_val_score  \n",
    "from sklearn.model_selection import cross_val_predict  \n",
    "from sklearn.metrics import accuracy_score\n",
    "import warnings\n",
    "warnings.filterwarnings('ignore')\n",
    "%matplotlib inline                     "
   ]
  },
  {
   "cell_type": "markdown",
   "metadata": {},
   "source": [
    "**Index**"
   ]
  },
  {
   "cell_type": "markdown",
   "metadata": {},
   "source": [
    "1. Load data <br>\n",
    "2. Test accuracy <br>\n",
    "    2.1. Only numerical features <br>\n",
    "    2.2. Only categorical features <br>\n",
    "    2.3. Numerical and categorical features <br>\n",
    "    2.4. Only numerical features from PCA <br>\n",
    "    2.5. Numerical features from PCA and categorical <br>\n",
    "3. Some modifications <br>\n",
    "    3.1. Balanced dataset <br>\n",
    "    3.2. Change scorer function <br>\n",
    "    3.3. Change distance metric <br>\n",
    "4. How ammount of training data influences accuracy <br>\n",
    "6. Comparison table <br>\n",
    "7. Best result analysis <br>"
   ]
  },
  {
   "cell_type": "markdown",
   "metadata": {},
   "source": [
    "# 1. Load data"
   ]
  },
  {
   "cell_type": "markdown",
   "metadata": {},
   "source": [
    "We load the training and testing dataset from disk. The first to optimize our model and the second to check the accuracy."
   ]
  },
  {
   "cell_type": "code",
   "execution_count": 184,
   "metadata": {
    "scrolled": true
   },
   "outputs": [
    {
     "name": "stdout",
     "output_type": "stream",
     "text": [
      "Train data size (1006, 47)\n",
      "Test data size (432, 47)\n"
     ]
    }
   ],
   "source": [
    "train_data = pd.read_csv('../datasets/preprocessed/train.csv', sep=',')\n",
    "test_data = pd.read_csv('../datasets/preprocessed/test.csv', sep=',')\n",
    "id_train_data = train_data['Id'] # useful when merging datasets in 2.5. chapter\n",
    "id_test_data = test_data['Id'] # useful when merging datasets in 2.5. chapter\n",
    "train_data.drop(columns=['Id'],inplace=True)\n",
    "test_data.drop(columns=['Id'],inplace=True)\n",
    "print('Train data size ' + str(train_data.shape))\n",
    "print('Test data size ' + str(test_data.shape))"
   ]
  },
  {
   "cell_type": "code",
   "execution_count": 185,
   "metadata": {},
   "outputs": [],
   "source": [
    "y_train = train_data['SalePrice'].to_numpy()\n",
    "y_test = test_data['SalePrice'].to_numpy()\n",
    "train_data.drop(columns=['SalePrice'],inplace=True)\n",
    "test_data.drop(columns=['SalePrice'],inplace=True)"
   ]
  },
  {
   "cell_type": "code",
   "execution_count": 186,
   "metadata": {},
   "outputs": [
    {
     "name": "stdout",
     "output_type": "stream",
     "text": [
      "Train pca data size (1006, 6)\n",
      "Test pca data size (432, 6)\n"
     ]
    }
   ],
   "source": [
    "train_pca_data = pd.read_csv('../datasets/preprocessed/train_pca.csv', sep=',')\n",
    "test_pca_data = pd.read_csv('../datasets/preprocessed/test_pca.csv', sep=',')\n",
    "id_train_pca_data = train_pca_data['Id'] # useful when merging datasets in 2.5. chapter\n",
    "id_test_pca_data = test_pca_data['Id'] # useful when merging datasets in 2.5. chapter\n",
    "train_pca_data.drop(columns=['Id'],inplace=True)\n",
    "test_pca_data.drop(columns=['Id'],inplace=True)\n",
    "print('Train pca data size ' + str(train_pca_data.shape))\n",
    "print('Test pca data size ' + str(test_pca_data.shape))"
   ]
  },
  {
   "cell_type": "markdown",
   "metadata": {},
   "source": [
    "# 2. Test accuracy"
   ]
  },
  {
   "cell_type": "markdown",
   "metadata": {},
   "source": [
    "For each of the next types we are following the same template. We first do a general overview with a 10 cross validation, then we find the best params with consecutive 10 cross validation in the training data and finally we test the best model obtained with the test data. We will compare the different results in a table in the last chapter of this script."
   ]
  },
  {
   "cell_type": "markdown",
   "metadata": {},
   "source": [
    "The next functions are implemented here to reduce the code repetition in the next sections."
   ]
  },
  {
   "cell_type": "code",
   "execution_count": 187,
   "metadata": {},
   "outputs": [],
   "source": [
    "def make_k_cross_validation(k,X,Y):\n",
    "    return cross_val_score(nb.KNeighborsClassifier(),  \n",
    "                            X=X,  \n",
    "                            y=Y,  \n",
    "                            cv=k, scoring='accuracy')  "
   ]
  },
  {
   "cell_type": "code",
   "execution_count": 188,
   "metadata": {},
   "outputs": [],
   "source": [
    "def find_best_params(X,y):\n",
    "    # Chart\n",
    "    lr = []\n",
    "    for ki in range(1,30,2):\n",
    "        cv_scores = cross_val_score(nb.KNeighborsClassifier(n_neighbors=ki), X=X, y=y, cv=10)\n",
    "        lr.append(np.mean(cv_scores))\n",
    "    plt.plot(range(1,30,2),lr,'b',label='No weighting')\n",
    "\n",
    "    lr = []\n",
    "    for ki in range(1,30,2):\n",
    "        cv_scores = cross_val_score(nb.KNeighborsClassifier(n_neighbors=ki,weights='distance'), X=X, y=y, cv=10)\n",
    "        lr.append(np.mean(cv_scores))\n",
    "    plt.plot(range(1,30,2),lr,'r',label='Weighting')\n",
    "    plt.xlabel('k')\n",
    "    plt.ylabel('Accuracy')\n",
    "    plt.legend(loc='upper right')\n",
    "    plt.grid()\n",
    "    plt.tight_layout()\n",
    "\n",
    "    plt.show()\n",
    "\n",
    "    # Grid search\n",
    "    params = {'n_neighbors':list(range(1,30,2)), 'weights':('distance','uniform')}\n",
    "    knc = nb.KNeighborsClassifier()\n",
    "    clf = GridSearchCV(knc, param_grid=params,cv=10,n_jobs=-1)\n",
    "    clf.fit(X_train, y_train)\n",
    "    print(\"Grid search best params=\",clf.best_params_, \"Accuracy=\", clf.best_score_)\n",
    "    return clf.best_params_"
   ]
  },
  {
   "cell_type": "code",
   "execution_count": 189,
   "metadata": {},
   "outputs": [],
   "source": [
    "def accuracy_with_test_data(n_neighbors,weights,X_train,y_train,X_test,y_test,metric='euclidean'):\n",
    "    knc = nb.KNeighborsClassifier(n_neighbors,weights,metric=metric)\n",
    "    knc.fit(X_train, y_train)\n",
    "    pred=knc.predict(X_test)\n",
    "    return pred"
   ]
  },
  {
   "cell_type": "code",
   "execution_count": 190,
   "metadata": {},
   "outputs": [],
   "source": [
    "def transform_categorical_to_numerical(X):\n",
    "    le = preprocessing.LabelEncoder()\n",
    "    i = 0\n",
    "    for t in X.dtypes:\n",
    "        if t==object or t==bool:\n",
    "            le.fit(X.iloc[:,i])\n",
    "            X.iloc[:,i] = le.fit_transform(X.iloc[:,i]) # transform them to numerical\n",
    "        i += 1\n",
    "    X = X.to_numpy()"
   ]
  },
  {
   "cell_type": "code",
   "execution_count": 191,
   "metadata": {},
   "outputs": [],
   "source": [
    "def print_confusion_matrix(pred):\n",
    "    print(sklearn.metrics.confusion_matrix(y_test, pred))"
   ]
  },
  {
   "cell_type": "code",
   "execution_count": 192,
   "metadata": {},
   "outputs": [],
   "source": [
    "def print_scores(pred):\n",
    "    accuracy = sklearn.metrics.accuracy_score(y_test, pred)\n",
    "    precision = sklearn.metrics.precision_score(y_test, pred, average='weighted')\n",
    "    recall = sklearn.metrics.precision_score(y_test, pred, average='weighted')\n",
    "    f1 = sklearn.metrics.f1_score(y_test, pred, average='weighted')\n",
    "    print('Accuracy: ' + str(accuracy) + ', F1: ' + str(f1) + ', Precision: ' + str(precision) + ', Recall: ' + str(recall))"
   ]
  },
  {
   "cell_type": "code",
   "execution_count": 193,
   "metadata": {},
   "outputs": [],
   "source": [
    "def print_classification_report(pred):\n",
    "    print(sklearn.metrics.classification_report(y_test, pred))"
   ]
  },
  {
   "cell_type": "markdown",
   "metadata": {},
   "source": [
    "## 2.1. Only numerical features"
   ]
  },
  {
   "cell_type": "code",
   "execution_count": 194,
   "metadata": {},
   "outputs": [],
   "source": [
    "# only numerical\n",
    "X_train = train_data.select_dtypes(include=['float64','int64'])\n",
    "X_test = test_data.select_dtypes(include=['float64','int64'])"
   ]
  },
  {
   "cell_type": "markdown",
   "metadata": {},
   "source": [
    "### 10 cross-validation"
   ]
  },
  {
   "cell_type": "code",
   "execution_count": 195,
   "metadata": {},
   "outputs": [
    {
     "name": "stdout",
     "output_type": "stream",
     "text": [
      "[0.79207921 0.73267327 0.74257426 0.68316832 0.64356436 0.73267327\n",
      " 0.77       0.73       0.74       0.8       ]\n"
     ]
    }
   ],
   "source": [
    "cv_scores = make_k_cross_validation(10,X_train,y_train)\n",
    "print(cv_scores)"
   ]
  },
  {
   "cell_type": "code",
   "execution_count": 196,
   "metadata": {},
   "outputs": [
    {
     "name": "stdout",
     "output_type": "stream",
     "text": [
      "0.7366732673267327\n",
      "0.04454799073011467\n"
     ]
    }
   ],
   "source": [
    "# Let's get the mean of the 10 validations (and standard deviation of them)\n",
    "print(np.mean(cv_scores))\n",
    "print(np.std(cv_scores))"
   ]
  },
  {
   "cell_type": "markdown",
   "metadata": {},
   "source": [
    "### Find best parameters"
   ]
  },
  {
   "cell_type": "code",
   "execution_count": 197,
   "metadata": {},
   "outputs": [
    {
     "data": {
      "image/png": "[encoded data removed]",
      "text/plain": [
       "<Figure size 432x288 with 1 Axes>"
      ]
     },
     "metadata": {
      "needs_background": "light"
     },
     "output_type": "display_data"
    },
    {
     "name": "stdout",
     "output_type": "stream",
     "text": [
      "Grid search best params= {'n_neighbors': 3, 'weights': 'distance'} Accuracy= 0.7565148514851485\n"
     ]
    }
   ],
   "source": [
    "parval = find_best_params(X_train,y_train)"
   ]
  },
  {
   "cell_type": "markdown",
   "metadata": {},
   "source": [
    "### See results with test data"
   ]
  },
  {
   "cell_type": "code",
   "execution_count": 198,
   "metadata": {},
   "outputs": [
    {
     "name": "stdout",
     "output_type": "stream",
     "text": [
      "[[ 12  23   0   0   0]\n",
      " [  8 250  17   1   0]\n",
      " [  1  30  49   8   0]\n",
      " [  0   1  15   8   1]\n",
      " [  0   0   3   4   1]]\n",
      "Accuracy: 0.7407407407407407, F1: 0.7253847720842422, Precision: 0.7218306182121971, Recall: 0.7218306182121971\n"
     ]
    }
   ],
   "source": [
    "pred = accuracy_with_test_data(parval['n_neighbors'],parval['weights'],X_train,y_train,X_test,y_test)\n",
    "print_confusion_matrix(pred)\n",
    "print_scores(pred)"
   ]
  },
  {
   "cell_type": "markdown",
   "metadata": {},
   "source": [
    "As we can see it clearly recognizes the second level but not the others. Especially the level 1 and 4 are quite wrong."
   ]
  },
  {
   "cell_type": "markdown",
   "metadata": {},
   "source": [
    "## 2.2. Only categorical features"
   ]
  },
  {
   "cell_type": "code",
   "execution_count": 199,
   "metadata": {},
   "outputs": [],
   "source": [
    "# only categorical\n",
    "X_train = train_data.select_dtypes(include=['object','bool'])\n",
    "transform_categorical_to_numerical(X_train)\n",
    "X_test = test_data.select_dtypes(include=['object','bool'])\n",
    "transform_categorical_to_numerical(X_test)"
   ]
  },
  {
   "cell_type": "markdown",
   "metadata": {},
   "source": [
    "### 10 cross-validation"
   ]
  },
  {
   "cell_type": "code",
   "execution_count": 200,
   "metadata": {},
   "outputs": [
    {
     "name": "stdout",
     "output_type": "stream",
     "text": [
      "[0.7029703  0.66336634 0.8019802  0.67326733 0.63366337 0.65346535\n",
      " 0.73       0.71       0.72       0.75      ]\n"
     ]
    }
   ],
   "source": [
    "cv_scores = make_k_cross_validation(10,X_train,y_train)\n",
    "print(cv_scores)"
   ]
  },
  {
   "cell_type": "code",
   "execution_count": 201,
   "metadata": {},
   "outputs": [
    {
     "name": "stdout",
     "output_type": "stream",
     "text": [
      "0.7038712871287128\n",
      "0.04773007318542114\n"
     ]
    }
   ],
   "source": [
    "# Let's get the mean of the 10 validations (and standard deviation of them)\n",
    "print(np.mean(cv_scores))\n",
    "print(np.std(cv_scores))"
   ]
  },
  {
   "cell_type": "markdown",
   "metadata": {},
   "source": [
    "### Find best parameters"
   ]
  },
  {
   "cell_type": "code",
   "execution_count": 202,
   "metadata": {},
   "outputs": [
    {
     "data": {
      "image/png": "[encoded data removed]",
      "text/plain": [
       "<Figure size 432x288 with 1 Axes>"
      ]
     },
     "metadata": {
      "needs_background": "light"
     },
     "output_type": "display_data"
    },
    {
     "name": "stdout",
     "output_type": "stream",
     "text": [
      "Grid search best params= {'n_neighbors': 9, 'weights': 'distance'} Accuracy= 0.7168019801980199\n"
     ]
    }
   ],
   "source": [
    "parval = find_best_params(X_train,y_train)"
   ]
  },
  {
   "cell_type": "markdown",
   "metadata": {},
   "source": [
    "### See results with test data"
   ]
  },
  {
   "cell_type": "code",
   "execution_count": 203,
   "metadata": {},
   "outputs": [
    {
     "name": "stdout",
     "output_type": "stream",
     "text": [
      "[[  7  28   0   0   0]\n",
      " [  9 249  18   0   0]\n",
      " [  0  41  45   2   0]\n",
      " [  0   8  11   3   3]\n",
      " [  0   3   2   3   0]]\n",
      "Accuracy: 0.7037037037037037, F1: 0.6704461978450067, Precision: 0.6612969934069808, Recall: 0.6612969934069808\n"
     ]
    }
   ],
   "source": [
    "pred = accuracy_with_test_data(parval['n_neighbors'],parval['weights'],X_train,y_train,X_test,y_test)\n",
    "print_confusion_matrix(pred)\n",
    "print_scores(pred)"
   ]
  },
  {
   "cell_type": "markdown",
   "metadata": {},
   "source": [
    "As the previous one it clearly recognizes the second level. However it totally misleads the 4th level and the 1st one."
   ]
  },
  {
   "cell_type": "markdown",
   "metadata": {},
   "source": [
    "## 2.3. Categorical and numerical features"
   ]
  },
  {
   "cell_type": "code",
   "execution_count": 204,
   "metadata": {},
   "outputs": [],
   "source": [
    "X_train = train_data.copy()\n",
    "transform_categorical_to_numerical(X_train)\n",
    "X_test = test_data.copy()\n",
    "transform_categorical_to_numerical(X_test)"
   ]
  },
  {
   "cell_type": "markdown",
   "metadata": {},
   "source": [
    "### 10 cross-validation"
   ]
  },
  {
   "cell_type": "code",
   "execution_count": 205,
   "metadata": {},
   "outputs": [
    {
     "name": "stdout",
     "output_type": "stream",
     "text": [
      "[0.72277228 0.67326733 0.81188119 0.67326733 0.67326733 0.66336634\n",
      " 0.73       0.75       0.71       0.75      ]\n"
     ]
    }
   ],
   "source": [
    "cv_scores = make_k_cross_validation(10,X_train,y_train)\n",
    "print(cv_scores)"
   ]
  },
  {
   "cell_type": "code",
   "execution_count": 206,
   "metadata": {},
   "outputs": [
    {
     "name": "stdout",
     "output_type": "stream",
     "text": [
      "0.7157821782178218\n",
      "0.044756159490860425\n"
     ]
    }
   ],
   "source": [
    "# Let's get the mean of the 10 validations (and standard deviation of them)\n",
    "print(np.mean(cv_scores))\n",
    "print(np.std(cv_scores))"
   ]
  },
  {
   "cell_type": "markdown",
   "metadata": {},
   "source": [
    "### Find best parameters"
   ]
  },
  {
   "cell_type": "code",
   "execution_count": 207,
   "metadata": {},
   "outputs": [
    {
     "data": {
      "image/png": "[encoded data removed]",
      "text/plain": [
       "<Figure size 432x288 with 1 Axes>"
      ]
     },
     "metadata": {
      "needs_background": "light"
     },
     "output_type": "display_data"
    },
    {
     "name": "stdout",
     "output_type": "stream",
     "text": [
      "Grid search best params= {'n_neighbors': 9, 'weights': 'distance'} Accuracy= 0.7177920792079208\n"
     ]
    }
   ],
   "source": [
    "parval = find_best_params(X_train,y_train)"
   ]
  },
  {
   "cell_type": "markdown",
   "metadata": {},
   "source": [
    "### See results with test data"
   ]
  },
  {
   "cell_type": "code",
   "execution_count": 208,
   "metadata": {},
   "outputs": [
    {
     "name": "stdout",
     "output_type": "stream",
     "text": [
      "[[  7  28   0   0   0]\n",
      " [  9 247  20   0   0]\n",
      " [  0  39  46   3   0]\n",
      " [  0   8  11   3   3]\n",
      " [  0   3   3   2   0]]\n",
      "Accuracy: 0.7013888888888888, F1: 0.6694575710921019, Precision: 0.6598321759259259, Recall: 0.6598321759259259\n"
     ]
    }
   ],
   "source": [
    "pred = accuracy_with_test_data(parval['n_neighbors'],parval['weights'],X_train,y_train,X_test,y_test)\n",
    "print_confusion_matrix(pred)\n",
    "print_scores(pred)"
   ]
  },
  {
   "cell_type": "markdown",
   "metadata": {},
   "source": [
    "It is pretty similar to the last one."
   ]
  },
  {
   "cell_type": "markdown",
   "metadata": {},
   "source": [
    "## 2.4. Only numerical features from PCA"
   ]
  },
  {
   "cell_type": "code",
   "execution_count": 209,
   "metadata": {},
   "outputs": [],
   "source": [
    "X_train = train_pca_data.copy()\n",
    "X_test = test_pca_data.copy()"
   ]
  },
  {
   "cell_type": "markdown",
   "metadata": {},
   "source": [
    "### 10 cross-validation"
   ]
  },
  {
   "cell_type": "code",
   "execution_count": 210,
   "metadata": {},
   "outputs": [
    {
     "name": "stdout",
     "output_type": "stream",
     "text": [
      "[0.77227723 0.73267327 0.74257426 0.78217822 0.71287129 0.76237624\n",
      " 0.81       0.75       0.76       0.75      ]\n"
     ]
    }
   ],
   "source": [
    "cv_scores = make_k_cross_validation(10,X_train,y_train)\n",
    "print(cv_scores)"
   ]
  },
  {
   "cell_type": "code",
   "execution_count": 211,
   "metadata": {},
   "outputs": [
    {
     "name": "stdout",
     "output_type": "stream",
     "text": [
      "0.7574950495049505\n",
      "0.025606688191740182\n"
     ]
    }
   ],
   "source": [
    "# Let's get the mean of the 10 validations (and standard deviation of them)\n",
    "print(np.mean(cv_scores))\n",
    "print(np.std(cv_scores))"
   ]
  },
  {
   "cell_type": "markdown",
   "metadata": {},
   "source": [
    "### Find best parameters"
   ]
  },
  {
   "cell_type": "code",
   "execution_count": 212,
   "metadata": {},
   "outputs": [
    {
     "data": {
      "image/png": "[encoded data removed]",
      "text/plain": [
       "<Figure size 432x288 with 1 Axes>"
      ]
     },
     "metadata": {
      "needs_background": "light"
     },
     "output_type": "display_data"
    },
    {
     "name": "stdout",
     "output_type": "stream",
     "text": [
      "Grid search best params= {'n_neighbors': 9, 'weights': 'distance'} Accuracy= 0.7734257425742574\n"
     ]
    }
   ],
   "source": [
    "parval = find_best_params(X_train,y_train)"
   ]
  },
  {
   "cell_type": "markdown",
   "metadata": {},
   "source": [
    "### See results with test data"
   ]
  },
  {
   "cell_type": "code",
   "execution_count": 213,
   "metadata": {},
   "outputs": [
    {
     "name": "stdout",
     "output_type": "stream",
     "text": [
      "[[  9  26   0   0   0]\n",
      " [  7 255  14   0   0]\n",
      " [  0  26  53   8   1]\n",
      " [  0   0  10  15   0]\n",
      " [  0   0   3   3   2]]\n",
      "Accuracy: 0.7731481481481481, F1: 0.7567883039118704, Precision: 0.7569322328441153, Recall: 0.7569322328441153\n"
     ]
    }
   ],
   "source": [
    "pred = accuracy_with_test_data(parval['n_neighbors'],parval['weights'],X_train,y_train,X_test,y_test)\n",
    "print_confusion_matrix(pred)\n",
    "print_scores(pred)"
   ]
  },
  {
   "cell_type": "markdown",
   "metadata": {},
   "source": [
    "As we can see is better than the prior ones, but continue having the same errors."
   ]
  },
  {
   "cell_type": "markdown",
   "metadata": {},
   "source": [
    "## 2.5. Numerical features from PCA and categorical"
   ]
  },
  {
   "cell_type": "code",
   "execution_count": 214,
   "metadata": {},
   "outputs": [],
   "source": [
    "cat_train = train_data.select_dtypes(include=['object','bool'])\n",
    "cat_test = test_data.select_dtypes(include=['object','bool'])\n",
    "transform_categorical_to_numerical(cat_train)\n",
    "transform_categorical_to_numerical(cat_test)\n",
    "cat_train['Id'] = id_train_data\n",
    "cat_test['Id'] = id_test_data\n",
    "X_train = train_pca_data.copy()\n",
    "X_test = test_pca_data.copy()\n",
    "X_train['Id'] = id_train_pca_data\n",
    "X_test['Id'] = id_test_pca_data\n",
    "X_train = pd.merge(X_train, cat_train, on='Id')\n",
    "X_test = pd.merge(X_test, cat_test, on='Id')\n",
    "X_train.drop(columns=['Id'],inplace=True)\n",
    "X_test.drop(columns=['Id'],inplace=True)"
   ]
  },
  {
   "cell_type": "markdown",
   "metadata": {},
   "source": [
    "### 10 cross-validation"
   ]
  },
  {
   "cell_type": "code",
   "execution_count": 215,
   "metadata": {},
   "outputs": [
    {
     "name": "stdout",
     "output_type": "stream",
     "text": [
      "[0.73267327 0.66336634 0.82178218 0.66336634 0.68316832 0.66336634\n",
      " 0.73       0.76       0.73       0.74      ]\n"
     ]
    }
   ],
   "source": [
    "cv_scores = make_k_cross_validation(10,X_train,y_train)\n",
    "print(cv_scores)"
   ]
  },
  {
   "cell_type": "code",
   "execution_count": 216,
   "metadata": {},
   "outputs": [
    {
     "name": "stdout",
     "output_type": "stream",
     "text": [
      "0.7187722772277227\n",
      "0.048666044465653306\n"
     ]
    }
   ],
   "source": [
    "# Let's get the mean of the 10 validations (and standard deviation of them)\n",
    "print(np.mean(cv_scores))\n",
    "print(np.std(cv_scores))"
   ]
  },
  {
   "cell_type": "markdown",
   "metadata": {},
   "source": [
    "### Find best parameters"
   ]
  },
  {
   "cell_type": "code",
   "execution_count": 217,
   "metadata": {},
   "outputs": [
    {
     "data": {
      "image/png": "[encoded data removed]",
      "text/plain": [
       "<Figure size 432x288 with 1 Axes>"
      ]
     },
     "metadata": {
      "needs_background": "light"
     },
     "output_type": "display_data"
    },
    {
     "name": "stdout",
     "output_type": "stream",
     "text": [
      "Grid search best params= {'n_neighbors': 3, 'weights': 'distance'} Accuracy= 0.7197326732673267\n"
     ]
    }
   ],
   "source": [
    "parval = find_best_params(X_train,y_train)"
   ]
  },
  {
   "cell_type": "markdown",
   "metadata": {},
   "source": [
    "### See results with test data"
   ]
  },
  {
   "cell_type": "code",
   "execution_count": 218,
   "metadata": {},
   "outputs": [
    {
     "name": "stdout",
     "output_type": "stream",
     "text": [
      "[[ 12  23   0   0   0]\n",
      " [ 16 232  26   2   0]\n",
      " [  1  33  47   6   1]\n",
      " [  0   5  12   4   4]\n",
      " [  0   1   1   3   3]]\n",
      "Accuracy: 0.6898148148148148, F1: 0.6790252641101476, Precision: 0.6713851085891602, Recall: 0.6713851085891602\n"
     ]
    }
   ],
   "source": [
    "pred = accuracy_with_test_data(parval['n_neighbors'],parval['weights'],X_train,y_train,X_test,y_test)\n",
    "print_confusion_matrix(pred)\n",
    "print_scores(pred)"
   ]
  },
  {
   "cell_type": "markdown",
   "metadata": {},
   "source": [
    "It is very similar to the previous ones."
   ]
  },
  {
   "cell_type": "markdown",
   "metadata": {},
   "source": [
    "# 3. Some modifications"
   ]
  },
  {
   "cell_type": "markdown",
   "metadata": {},
   "source": [
    "In this section we are going to test some variations of the model which obtained the best accuracy in the last part: only with numerical features from PCA."
   ]
  },
  {
   "cell_type": "markdown",
   "metadata": {},
   "source": [
    "## 3.1. Balanced dataset"
   ]
  },
  {
   "cell_type": "markdown",
   "metadata": {},
   "source": [
    "The feature to predict is very unbalanced, so we are gonna try to balance it in the training dataset and see if the accuracy increases."
   ]
  },
  {
   "cell_type": "code",
   "execution_count": 219,
   "metadata": {},
   "outputs": [],
   "source": [
    "X_train = train_pca_data.copy()\n",
    "X_test = test_pca_data.copy()"
   ]
  },
  {
   "cell_type": "code",
   "execution_count": 220,
   "metadata": {},
   "outputs": [
    {
     "data": {
      "text/plain": [
       "Level1    237\n",
       "Level4    236\n",
       "Level3    223\n",
       "Level2    209\n",
       "Level5    204\n",
       "Name: SalePrice, dtype: int64"
      ]
     },
     "execution_count": 220,
     "metadata": {},
     "output_type": "execute_result"
    }
   ],
   "source": [
    "aux = train_pca_data.copy()\n",
    "aux['SalePrice'] = y_train\n",
    "\n",
    "X1 = aux[aux['SalePrice'] == 'Level1']\n",
    "X2 = aux[aux['SalePrice'] == 'Level2']\n",
    "X3 = aux[aux['SalePrice'] == 'Level3']\n",
    "X4 = aux[aux['SalePrice'] == 'Level4']\n",
    "X5 = aux[aux['SalePrice'] == 'Level5']\n",
    "\n",
    "train_pca_data_balanced = pd.DataFrame()\n",
    "\n",
    "for i in range(3):\n",
    "    train_pca_data_balanced = train_pca_data_balanced.append(X1, ignore_index = True)\n",
    "train_pca_data_balanced = train_pca_data_balanced.append(X2.sample(frac=1/3), ignore_index = True)\n",
    "train_pca_data_balanced = train_pca_data_balanced.append(X3, ignore_index = True)\n",
    "for i in range(4):\n",
    "    train_pca_data_balanced = train_pca_data_balanced.append(X4, ignore_index = True)\n",
    "for i in range(12):\n",
    "    train_pca_data_balanced = train_pca_data_balanced.append(X5, ignore_index = True)\n",
    "\n",
    "train_pca_data_balanced['SalePrice'].value_counts()"
   ]
  },
  {
   "cell_type": "code",
   "execution_count": 221,
   "metadata": {},
   "outputs": [],
   "source": [
    "y_train_balanced = train_pca_data_balanced['SalePrice']\n",
    "train_pca_data_balanced.drop(columns=['SalePrice'],inplace=True)"
   ]
  },
  {
   "cell_type": "code",
   "execution_count": 222,
   "metadata": {
    "scrolled": true
   },
   "outputs": [
    {
     "data": {
      "image/png": "[encoded data removed]",
      "text/plain": [
       "<Figure size 432x288 with 1 Axes>"
      ]
     },
     "metadata": {
      "needs_background": "light"
     },
     "output_type": "display_data"
    },
    {
     "name": "stdout",
     "output_type": "stream",
     "text": [
      "Grid search best params= {'n_neighbors': 9, 'weights': 'distance'} Accuracy= 0.7734257425742574\n"
     ]
    }
   ],
   "source": [
    "parval = find_best_params(train_pca_data_balanced,y_train_balanced)"
   ]
  },
  {
   "cell_type": "code",
   "execution_count": 223,
   "metadata": {},
   "outputs": [
    {
     "name": "stdout",
     "output_type": "stream",
     "text": [
      "[[ 28   7   0   0   0]\n",
      " [ 75 165  33   3   0]\n",
      " [  0   8  64  15   1]\n",
      " [  0   0   3  19   3]\n",
      " [  0   0   1   3   4]]\n",
      "Accuracy: 0.6481481481481481, F1: 0.6762801131232777, Precision: 0.7734998595935645, Recall: 0.7734998595935645\n"
     ]
    }
   ],
   "source": [
    "pred = accuracy_with_test_data(parval['n_neighbors'],parval['weights'],train_pca_data_balanced,y_train_balanced,X_test,y_test)\n",
    "print_confusion_matrix(pred)\n",
    "print_scores(pred)"
   ]
  },
  {
   "cell_type": "markdown",
   "metadata": {},
   "source": [
    "We can see that the overall accuracy decreases but the different levels are more accurated than in the previous tests (the precision and recall are higher)."
   ]
  },
  {
   "cell_type": "markdown",
   "metadata": {},
   "source": [
    "## 3.2. Change scorer function"
   ]
  },
  {
   "cell_type": "markdown",
   "metadata": {},
   "source": [
    "Let's recall the results with the best model: only numerical from PCA"
   ]
  },
  {
   "cell_type": "code",
   "execution_count": 224,
   "metadata": {},
   "outputs": [
    {
     "name": "stdout",
     "output_type": "stream",
     "text": [
      "              precision    recall  f1-score   support\n",
      "\n",
      "      Level1       0.56      0.26      0.35        35\n",
      "      Level2       0.83      0.92      0.87       276\n",
      "      Level3       0.66      0.60      0.63        88\n",
      "      Level4       0.58      0.60      0.59        25\n",
      "      Level5       0.67      0.25      0.36         8\n",
      "\n",
      "    accuracy                           0.77       432\n",
      "   macro avg       0.66      0.53      0.56       432\n",
      "weighted avg       0.76      0.77      0.76       432\n",
      "\n"
     ]
    }
   ],
   "source": [
    "X_train = train_pca_data.copy()\n",
    "X_test = test_pca_data.copy()\n",
    "pred = accuracy_with_test_data(9,'distance',X_train,y_train,X_test,y_test)\n",
    "print_classification_report(pred)"
   ]
  },
  {
   "cell_type": "markdown",
   "metadata": {},
   "source": [
    "Imagine we want to increase the precision in the level 4 for some special reason as a company requirement. Let's change the optimizer to find the best parameters in this case."
   ]
  },
  {
   "cell_type": "code",
   "execution_count": 225,
   "metadata": {},
   "outputs": [
    {
     "name": "stdout",
     "output_type": "stream",
     "text": [
      "Grid search best params= {'n_neighbors': 9, 'weights': 'distance'} Accuracy= 0.6684223872244099\n",
      "              precision    recall  f1-score   support\n",
      "\n",
      "      Level1       0.56      0.26      0.35        35\n",
      "      Level2       0.83      0.92      0.87       276\n",
      "      Level3       0.66      0.60      0.63        88\n",
      "      Level4       0.58      0.60      0.59        25\n",
      "      Level5       0.67      0.25      0.36         8\n",
      "\n",
      "    accuracy                           0.77       432\n",
      "   macro avg       0.66      0.53      0.56       432\n",
      "weighted avg       0.76      0.77      0.76       432\n",
      "\n"
     ]
    }
   ],
   "source": [
    "scorer = sklearn.metrics.make_scorer(score_func=sklearn.metrics.precision_score, pos_label=4, greater_is_better=True,average='macro')\n",
    "params = {'n_neighbors':list(range(1,30,2)), 'weights':('distance','uniform')}\n",
    "knc = nb.KNeighborsClassifier()\n",
    "clf = GridSearchCV(knc, param_grid=params,cv=10,n_jobs=-1,scoring=scorer)\n",
    "clf.fit(X_train, y_train)\n",
    "print(\"Grid search best params=\",clf.best_params_, \"Accuracy=\", clf.best_score_)\n",
    "pred = accuracy_with_test_data(clf.best_params_['n_neighbors'],clf.best_params_['weights'],X_train,y_train,X_test,y_test)\n",
    "print_classification_report(pred)"
   ]
  },
  {
   "cell_type": "markdown",
   "metadata": {},
   "source": [
    "We can see the grid search obtains the same parameters we had before."
   ]
  },
  {
   "cell_type": "markdown",
   "metadata": {},
   "source": [
    "## 3.3. Change distance metric"
   ]
  },
  {
   "cell_type": "markdown",
   "metadata": {},
   "source": [
    "Let's do a grid search and a chart to find what is the best distance metric. We are doing this test with the numerical features obtained from PCA."
   ]
  },
  {
   "cell_type": "code",
   "execution_count": 226,
   "metadata": {},
   "outputs": [],
   "source": [
    "X_train = train_pca_data.copy()\n",
    "X_test = test_pca_data.copy()"
   ]
  },
  {
   "cell_type": "code",
   "execution_count": 227,
   "metadata": {},
   "outputs": [
    {
     "data": {
      "image/png": "[encoded data removed]",
      "text/plain": [
       "<Figure size 432x288 with 1 Axes>"
      ]
     },
     "metadata": {
      "needs_background": "light"
     },
     "output_type": "display_data"
    }
   ],
   "source": [
    "# Chart\n",
    "lr = []\n",
    "for ki in range(1,30,2):\n",
    "    cv_scores = cross_val_score(nb.KNeighborsClassifier(n_neighbors=ki,weights='distance',metric='euclidean'), X=X_train, y=y_train, cv=10)\n",
    "    lr.append(np.mean(cv_scores))\n",
    "plt.plot(range(1,30,2),lr,'b',label='Euclidean')\n",
    "\n",
    "lr = []\n",
    "for ki in range(1,30,2):\n",
    "    cv_scores = cross_val_score(nb.KNeighborsClassifier(n_neighbors=ki,weights='distance',metric='manhattan'), X=X_train, y=y_train, cv=10)\n",
    "    lr.append(np.mean(cv_scores))\n",
    "plt.plot(range(1,30,2),lr,'r',label='Manhattan')\n",
    "\n",
    "lr = []\n",
    "for ki in range(1,30,2):\n",
    "    cv_scores = cross_val_score(nb.KNeighborsClassifier(n_neighbors=ki,weights='distance',metric='chebyshev'), X=X_train, y=y_train, cv=10)\n",
    "    lr.append(np.mean(cv_scores))\n",
    "plt.plot(range(1,30,2),lr,'y',label='Chebyshev')\n",
    "\n",
    "plt.xlabel('k')\n",
    "plt.ylabel('Accuracy')\n",
    "plt.legend(loc='upper right')\n",
    "plt.grid()\n",
    "plt.tight_layout()\n",
    "\n",
    "plt.show()"
   ]
  },
  {
   "cell_type": "code",
   "execution_count": 228,
   "metadata": {},
   "outputs": [
    {
     "name": "stdout",
     "output_type": "stream",
     "text": [
      "Grid search best params= {'metric': 'manhattan', 'n_neighbors': 9, 'weights': 'distance'} Accuracy= 0.7744158415841584\n"
     ]
    }
   ],
   "source": [
    "#Grid search\n",
    "params = {'n_neighbors':list(range(1,30,2)), 'weights':('distance','uniform'), 'metric': ('euclidean','manhattan','chebyshev')}\n",
    "knc = nb.KNeighborsClassifier()\n",
    "clf = GridSearchCV(knc, param_grid=params,cv=10,n_jobs=-1)\n",
    "clf.fit(X_train, y_train)\n",
    "print(\"Grid search best params=\",clf.best_params_, \"Accuracy=\", clf.best_score_)"
   ]
  },
  {
   "cell_type": "markdown",
   "metadata": {},
   "source": [
    "We are gonna do a Mcnemar test to check if this model is better than the previous one."
   ]
  },
  {
   "cell_type": "code",
   "execution_count": 229,
   "metadata": {
    "scrolled": false
   },
   "outputs": [
    {
     "name": "stdout",
     "output_type": "stream",
     "text": [
      "Have the classifiers significant different accuracy?: False\n"
     ]
    }
   ],
   "source": [
    "# Classifier 1\n",
    "y_pred = accuracy_with_test_data(9,'distance',X_train,y_train,X_test,y_test)\n",
    "res1=np.zeros(y_test.shape)\n",
    "res1[y_pred==y_test]=1\n",
    "\n",
    "# Classifier 2\n",
    "y_pred = accuracy_with_test_data(9,'distance',X_train,y_train,X_test,y_test,'manhattan')\n",
    "res2=np.zeros(y_test.shape)\n",
    "res2[y_pred==y_test]=1\n",
    "\n",
    "# Build contingency matrix\n",
    "n00 = np.sum([res1[res2==1]==1])\n",
    "n11 = np.sum([res1[res2==0]==0])\n",
    "n10 = np.sum([res1[res2==1]==0])\n",
    "n01 = np.sum([res1[res2==0]==1])\n",
    "\n",
    "# Chi -square test\n",
    "print(\"Have the classifiers significant different accuracy?:\",(np.abs(n01-n10)-1)**2/(n01+n10)>3.84)"
   ]
  },
  {
   "cell_type": "markdown",
   "metadata": {},
   "source": [
    "# 4. How ammount of training data influences accuracy"
   ]
  },
  {
   "cell_type": "code",
   "execution_count": 230,
   "metadata": {},
   "outputs": [],
   "source": [
    "X_train = train_pca_data.copy()\n",
    "X_test = test_pca_data.copy()\n",
    "n_neighbors = 9\n",
    "weights = 'distance'"
   ]
  },
  {
   "cell_type": "code",
   "execution_count": 231,
   "metadata": {},
   "outputs": [
    {
     "data": {
      "image/png": "[encoded data removed]",
      "text/plain": [
       "<Figure size 432x288 with 1 Axes>"
      ]
     },
     "metadata": {
      "needs_background": "light"
     },
     "output_type": "display_data"
    }
   ],
   "source": [
    "train_sizes, train_scores, test_scores =\\\n",
    "                sklearn.model_selection.learning_curve(estimator=nb.KNeighborsClassifier(n_neighbors,weights),\n",
    "                               X=X_train,\n",
    "                               y=y_train,\n",
    "                               train_sizes=np.linspace(0.05, 1.0, 10),\n",
    "                               cv=10,\n",
    "                               n_jobs=-1)\n",
    "\n",
    "train_mean = np.mean(train_scores, axis=1)\n",
    "train_std = np.std(train_scores, axis=1)\n",
    "test_mean = np.mean(test_scores, axis=1)\n",
    "test_std = np.std(test_scores, axis=1)\n",
    "\n",
    "plt.plot(train_sizes, train_mean,\n",
    "         color='blue', marker='o',\n",
    "         markersize=5, label='training accuracy')\n",
    "\n",
    "plt.fill_between(train_sizes,\n",
    "                 train_mean + train_std,\n",
    "                 train_mean - train_std,\n",
    "                 alpha=0.15, color='blue')\n",
    "\n",
    "plt.plot(train_sizes, test_mean,\n",
    "         color='green', linestyle='--',\n",
    "         marker='s', markersize=5,\n",
    "         label='validation accuracy')\n",
    "\n",
    "plt.fill_between(train_sizes,\n",
    "                 test_mean + test_std,\n",
    "                 test_mean - test_std,\n",
    "                 alpha=0.15, color='green')\n",
    "\n",
    "plt.grid(True)\n",
    "plt.xlabel('Number of training samples')\n",
    "plt.ylabel('Accuracy')\n",
    "plt.legend(loc='lower right')\n",
    "plt.ylim([0.8, 1.03])\n",
    "plt.tight_layout()\n",
    "plt.savefig('learning_curve.png', dpi=600)\n",
    "plt.show()"
   ]
  },
  {
   "cell_type": "markdown",
   "metadata": {},
   "source": [
    "No funca por algo que no entiendo, mecachis !!!!!!!!!!!!!!!!!"
   ]
  },
  {
   "cell_type": "markdown",
   "metadata": {},
   "source": [
    "# 6. Comparison table "
   ]
  },
  {
   "cell_type": "markdown",
   "metadata": {},
   "source": [
    "The next table compares the results of all the previous tests"
   ]
  },
  {
   "cell_type": "markdown",
   "metadata": {},
   "source": [
    "| Model | Accuracy | F1 | Precision | Recall |\n",
    "|------|------|------|------|------|\n",
    "| Only numerical features | 0.74 | 0.73 | 0.72 | 0.72 |\n",
    "| Only categorical features | 0.7 | 0.67 | 0.66 | 0.66 |\n",
    "| Numerical and categorical features | 0.7 | 0.66 | 0.66 | 0.66 |\n",
    "| Only numerical features from PCA | 0.77 | 0.76 | 0.76 | 0.76 |\n",
    "| Numerical features from PCA and categorical | 0.69 | 0.68 | 0.67 | 0.67 |\n",
    "| Balanced dataset with only the numerical features from PCA | 0.69 | 0.71 | 0.79 | 0.79 |"
   ]
  },
  {
   "cell_type": "markdown",
   "metadata": {},
   "source": [
    "As we can see the model with the higher accuracy and f1 score is the one obtained only with the numerical features from PCA. We should take into account that when using the same features in a balanced dataset we get a higher precision and recall, especially in the levels that are not the second one as we have seen previously."
   ]
  },
  {
   "cell_type": "markdown",
   "metadata": {},
   "source": [
    "# 7. Best result analysis"
   ]
  },
  {
   "cell_type": "markdown",
   "metadata": {},
   "source": [
    "Let's show the different scores for the model with only the numerical features from PCA."
   ]
  },
  {
   "cell_type": "code",
   "execution_count": 232,
   "metadata": {},
   "outputs": [
    {
     "name": "stdout",
     "output_type": "stream",
     "text": [
      "              precision    recall  f1-score   support\n",
      "\n",
      "      Level1       0.56      0.26      0.35        35\n",
      "      Level2       0.83      0.92      0.87       276\n",
      "      Level3       0.66      0.60      0.63        88\n",
      "      Level4       0.58      0.60      0.59        25\n",
      "      Level5       0.67      0.25      0.36         8\n",
      "\n",
      "    accuracy                           0.77       432\n",
      "   macro avg       0.66      0.53      0.56       432\n",
      "weighted avg       0.76      0.77      0.76       432\n",
      "\n"
     ]
    }
   ],
   "source": [
    "X_train = train_pca_data.copy()\n",
    "X_test = test_pca_data.copy()\n",
    "n_neighbors = 9\n",
    "weights = 'distance'\n",
    "pred = accuracy_with_test_data(n_neighbors,weights,X_train,y_train,X_test,y_test)\n",
    "print_classification_report(pred)"
   ]
  },
  {
   "cell_type": "markdown",
   "metadata": {},
   "source": [
    "- Level1: More than half of the elements predicted as Level1 are correct but only 26% of the elements of Level1 are correctly predicted.\n",
    "- Level2: This the one with the best scores because the majority of elements from the dataset.\n",
    "- Level3: It has the precision and recall scores very similar.\n",
    "- Level4: As the previous one it has the scores very similar.\n",
    "- Level5: As the first one, it has an acceptable precision but a very bad recall. Is the one with less elements inside the dataset."
   ]
  }
 ],
 "metadata": {
  "kernelspec": {
   "display_name": "venv",
   "language": "python",
   "name": "venv"
  },
  "language_info": {
   "codemirror_mode": {
    "name": "ipython",
    "version": 3
   },
   "file_extension": ".py",
   "mimetype": "text/x-python",
   "name": "python",
   "nbconvert_exporter": "python",
   "pygments_lexer": "ipython3",
   "version": "3.6.7"
  }
 },
 "nbformat": 4,
 "nbformat_minor": 2
}
