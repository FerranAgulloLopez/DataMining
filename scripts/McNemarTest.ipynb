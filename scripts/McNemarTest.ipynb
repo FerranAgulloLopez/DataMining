{
 "cells": [
  {
   "cell_type": "code",
   "execution_count": 19,
   "metadata": {},
   "outputs": [],
   "source": [
    "import numpy as np                     # Llibreria matematica\n",
    "import matplotlib.pyplot as plt        # Per mostrar plots\n",
    "import sklearn                         # Llibreia de DM\n",
    "import sklearn.datasets as ds            # Per carregar mes facilment el dataset digits\n",
    "import sklearn.model_selection as cv    # Pel Cross-validation\n",
    "import sklearn.neighbors as nb           # Per fer servir el knn\n",
    "from sklearn.model_selection import cross_val_score  \n",
    "import sklearn.preprocessing as Pre\n",
    "import warnings\n",
    "warnings.filterwarnings('ignore')       #Per fer que els warnings no apareguin\n",
    "%matplotlib inline         "
   ]
  },
  {
   "cell_type": "code",
   "execution_count": 20,
   "metadata": {},
   "outputs": [],
   "source": [
    "import numpy as np    # Numeric and matrix computation\n",
    "import pandas as pd   # Optional: good package for manipulating data \n",
    "import sklearn as sk  # Package with learning algorithms implemented\n",
    "\n",
    "# Loading the dataset.\n",
    "df = pd.read_csv('train.csv', sep=',', na_values=\"NA\")"
   ]
  },
  {
   "cell_type": "code",
   "execution_count": 21,
   "metadata": {},
   "outputs": [
    {
     "name": "stdout",
     "output_type": "stream",
     "text": [
      "['Level2' 'Level4' 'Level1' 'Level3' 'Level5']\n"
     ]
    }
   ],
   "source": [
    "print(df['SalePrice'].unique())\n",
    "\n",
    "X1 = df[df['SalePrice'] == 'Level1']\n",
    "X2 = df[df['SalePrice'] == 'Level2']\n",
    "X3 = df[df['SalePrice'] == 'Level3']\n",
    "X4 = df[df['SalePrice'] == 'Level4']\n",
    "X5 = df[df['SalePrice'] == 'Level5']\n",
    "\n",
    "bdata = pd.DataFrame()\n",
    "\n",
    "for i in range(3):\n",
    "    bdata = bdata.append(X1, ignore_index = True)\n",
    "bdata = bdata.append(X2.sample(frac=1/3), ignore_index = True)\n",
    "bdata = bdata.append(X3, ignore_index = True)\n",
    "for i in range(4):\n",
    "    bdata = bdata.append(X4, ignore_index = True)\n",
    "for i in range(10):\n",
    "    bdata = bdata.append(X5, ignore_index = True)\n"
   ]
  },
  {
   "cell_type": "code",
   "execution_count": 22,
   "metadata": {},
   "outputs": [],
   "source": [
    "X = bdata.drop(columns='SalePrice')\n",
    "X = X.drop(columns = 'Id')\n",
    "Y = bdata.loc[:,'SalePrice']\n",
    "\n",
    "le = Pre.LabelEncoder()\n",
    "le.fit(Y)\n",
    "Y = le.fit_transform(Y)\n",
    "i = 0\n",
    "for t in X.dtypes:\n",
    "    if t == object or t == bool:\n",
    "        le.fit(X.iloc[:,i])\n",
    "        X.iloc[:,i] = le.fit_transform(X.iloc[:,i])\n",
    "    i += 1\n",
    "\n",
    "X_train, X_test, y_train, y_test = cv.train_test_split(X, Y, test_size=.3, random_state=1)"
   ]
  },
  {
   "cell_type": "code",
   "execution_count": 23,
   "metadata": {},
   "outputs": [],
   "source": [
    "dt = pd.read_csv('test.csv', sep=',', na_values=\"NA\")\n",
    "X = dt.drop(columns='SalePrice')\n",
    "X = X.drop(columns = 'Id')\n",
    "Y = dt.loc[:,'SalePrice']\n",
    "\n",
    "le = Pre.LabelEncoder()\n",
    "le.fit(Y)\n",
    "Y = le.fit_transform(Y)\n",
    "i = 0\n",
    "for t in X.dtypes:\n",
    "    if t == object or t == bool:\n",
    "        le.fit(X.iloc[:,i])\n",
    "        X.iloc[:,i] = le.fit_transform(X.iloc[:,i])\n",
    "    i += 1\n",
    "X_test = X\n",
    "y_test = Y"
   ]
  },
  {
   "cell_type": "code",
   "execution_count": 24,
   "metadata": {},
   "outputs": [],
   "source": [
    "from sklearn.svm import SVC\n",
    "from sklearn.svm import LinearSVC\n",
    "from sklearn.model_selection import GridSearchCV\n",
    "import sklearn.ensemble as Ens\n",
    "import sklearn.model_selection as cv"
   ]
  },
  {
   "cell_type": "markdown",
   "metadata": {},
   "source": [
    "After we imported all the necessary libraries, we proceed to compare the two methods that gave us the best results to see if they are significatively different. We will compare Linear SVM against Gradient Tree Boosting"
   ]
  },
  {
   "cell_type": "code",
   "execution_count": 25,
   "metadata": {},
   "outputs": [
    {
     "name": "stdout",
     "output_type": "stream",
     "text": [
      "Have the classifiers significant different accuracy?: True\n"
     ]
    }
   ],
   "source": [
    "# Build two classifiers\n",
    "\n",
    "# Classifier 1 Linear SVM\n",
    "knc = SVC(C=100,kernel='linear')\n",
    "knc.fit(X_train, y_train)\n",
    "pred=knc.predict(X_test)\n",
    "res1=np.zeros(Y.shape)\n",
    "res1[pred==Y]=1\n",
    "\n",
    "# Classifier 2 Gradient Tree Boosting\n",
    "kfold = cv.StratifiedKFold(n_splits=10, random_state=1) \n",
    "lb5=[]\n",
    "for nest in [1,2,5,10,20,50,100,200]:\n",
    "    scores = cv.cross_val_score(Ens.GradientBoostingClassifier(n_estimators=nest, learning_rate=0.14),\n",
    "                                X_train, y_train, cv=kfold, scoring='f1_macro')\n",
    "    lb5.append(scores.mean())\n",
    "    \n",
    "bestgb = Ens.GradientBoostingClassifier(learning_rate=0.14, n_estimators=[1,2,5,10,20,50,100,200][np.argmax(lb5)])\n",
    "pred = bestgb.fit(X_train, y_train).predict(X_test)\n",
    "res2=np.zeros(Y.shape)\n",
    "res2[pred==Y]=1\n",
    "\n",
    "# Build contingency matrix\n",
    "n00 = np.sum([res1[res2==1]==1])\n",
    "n11 = np.sum([res1[res2==0]==0])\n",
    "n10 = np.sum([res1[res2==1]==0])\n",
    "n01 = np.sum([res1[res2==0]==1])\n",
    "\n",
    "# Chi -square test\n",
    "print(\"Have the classifiers significant different accuracy?:\",(np.abs(n01-n10)-1)**2/(n01+n10)>3.84)"
   ]
  },
  {
   "cell_type": "markdown",
   "metadata": {},
   "source": [
    "This result means that the Gradient Tree Boosting method is significatively better."
   ]
  },
  {
   "cell_type": "code",
   "execution_count": null,
   "metadata": {},
   "outputs": [],
   "source": []
  }
 ],
 "metadata": {
  "kernelspec": {
   "display_name": "Python 3",
   "language": "python",
   "name": "python3"
  },
  "language_info": {
   "codemirror_mode": {
    "name": "ipython",
    "version": 3
   },
   "file_extension": ".py",
   "mimetype": "text/x-python",
   "name": "python",
   "nbconvert_exporter": "python",
   "pygments_lexer": "ipython3",
   "version": "3.7.3"
  }
 },
 "nbformat": 4,
 "nbformat_minor": 4
}
